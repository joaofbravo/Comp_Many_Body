{
 "cells": [
  {
   "cell_type": "markdown",
   "metadata": {},
   "source": [
    "#### Project 3: The worm algorithm for the 6-vertex model (Monte Carlo)\n",
    "\n",
    "Implement the worm algorithm for the 6-vertex (ice-type) model (https://en.wikipedia.org/wiki/Ice-type_model) at $T = \\infty$  \n",
    "(where all allowed configurations are equally likely).\n",
    "\n",
    "Calculate the exponent $a$ of the correlation function $\\langle s_0 s_r \\rangle \\propto \\frac{1}{r^a}$."
   ]
  },
  {
   "cell_type": "code",
   "execution_count": 1,
   "metadata": {
    "ExecuteTime": {
     "end_time": "2019-07-12T12:07:49.896205Z",
     "start_time": "2019-07-12T12:07:49.566868Z"
    },
    "init_cell": true
   },
   "outputs": [],
   "source": [
    "import numpy as np\n",
    "import matplotlib.pyplot as plt\n",
    "%matplotlib inline"
   ]
  },
  {
   "cell_type": "code",
   "execution_count": 232,
   "metadata": {
    "ExecuteTime": {
     "end_time": "2019-07-12T16:53:19.304464Z",
     "start_time": "2019-07-12T16:53:19.281067Z"
    }
   },
   "outputs": [],
   "source": [
    "class six_vertex_model(object):\n",
    "    \"\"\"Ice-type (6-vertex) model class.\n",
    "    \n",
    "    Attributes\n",
    "    ----------\n",
    "    Lx : int\n",
    "        Lattice X size.\n",
    "    Ly : int\n",
    "        Lattice Y size.\n",
    "    N : int\n",
    "        Number of vertices.\n",
    "    lattice : list\n",
    "        Horizontal (hor) & vertical (ver) sublattices.\n",
    "    \"\"\"\n",
    "    \n",
    "    def __init__(self, Lx, Ly, hor=[], ver=[]): \n",
    "        '''hor, ver: initial lattice configuration\n",
    "        '''\n",
    "        self.Lx = Lx\n",
    "        self.Ly = Ly\n",
    "        self.N  = Lx * Ly;\n",
    "        \n",
    "        # periodic BC: hor[_][0] = hor[_][Lx+1] && ver[_][0] = ver[_][Ly+1]\n",
    "        if hor == [] or ver == []:\n",
    "            hor = np.ones((Ly, Lx), dtype=np.int8) \n",
    "            ver = np.ones((Lx, Ly), dtype=np.int8)\n",
    "            hor[1::2] *= -1\n",
    "            ver[1::2] *= -1\n",
    "        assert Ly == hor.shape[0] and Lx == ver.shape[0]\n",
    "        \n",
    "        self.lattice = np.array([hor, ver])\n",
    "        # print(self.lattice[0].shape, self.lattice[1].shape) # (Ly, Lx), (Lx, Ly)\n",
    "        # self.n = np.array(['...']*6) # dummy: how many in each of the 6 config types\n",
    "    \n",
    "    def plot(self):\n",
    "        print('Horizontal spins:')\n",
    "        print(self.lattice[0], '\\n')\n",
    "        print('Vertical spins:')\n",
    "        print(self.lattice[1].transpose())\n",
    "    \n",
    "    def energy(self, energies=[1.]*6):\n",
    "        '''dummy: energies : list with energies of the 6 configurations.\n",
    "        '''\n",
    "        return self.N # T->Inf: all equally likely\n",
    "        # return np.sum(self.n * np.array(energies))\n",
    "\n",
    "    def flip_spin(self, x, y, flip):\n",
    "        '''Create 2 defects by flipping 1 spin.\n",
    "        x, y : vertex coord\n",
    "        flip : 0 -> left, 1 -> right, 2 -> up, 3 -> down\n",
    "        '''\n",
    "        if flip == 0:   # left\n",
    "            self.lattice[0, x, y] *= -1\n",
    "        elif flip == 1: # right\n",
    "            self.lattice[0, x, (y+1) % self.Lx] *= -1\n",
    "        elif flip == 2: # up\n",
    "            self.lattice[1, y, x] *= -1\n",
    "        else:           # down\n",
    "            self.lattice[1, y, (x+1) % self.Ly] *= -1\n",
    "    \n",
    "    def get_other_defect(x, y, flip):\n",
    "        '''Return coord of neighbour defect\n",
    "        x, y : vertex coord\n",
    "        flip : 0 -> left, 1 -> right, 2 -> up, 3 -> down\n",
    "        '''\n",
    "        if flip == 0:   # left\n",
    "            return (x, (y-1) % self.Lx)\n",
    "        elif flip == 1: # right\n",
    "            return (x, (y+1) % self.Lx)\n",
    "        elif flip == 2: # up\n",
    "            return ((x-1) % self.Ly, y)\n",
    "        else:           # down\n",
    "            return ((x+1) % self.Ly, y)\n",
    "\n",
    "    def get_vertex_in_out(self, x, y):\n",
    "        '''Return in_or_out: [spin_left, spin_right, spin_up, spin_down]\n",
    "        relative to vertex (x, y).\n",
    "        In  :  1\n",
    "        Out : -1\n",
    "        '''\n",
    "        spin_left  = self.lattice[0, x, y]\n",
    "        spin_right = self.lattice[0, x, (y+1) % self.Lx] * -1\n",
    "        spin_up    = self.lattice[1, y, x] * -1\n",
    "        spin_down  = self.lattice[1, y, (x+1) % self.Ly]\n",
    "        return np.array[(spin_left, spin_right, spin_up, spin_down)]\n",
    "\n",
    "    def flip_next(self, x, y, flip):\n",
    "        '''Propagate defect by flipping randomly one of the next vertex's spins,\n",
    "        subject to the ice rule (2-in, 2-out).\n",
    "        '''\n",
    "        prob = np.random.random() # 50/50 chance\n",
    "        in_or_out = self.get_vertex_in_out(x, y)\n",
    "        \n",
    "        flipped = in_or_out[flip]\n",
    "        # possible = np.arange(4) == \n",
    "        \n",
    "        \n",
    "        return x, y, flip\n",
    "    \n",
    "        # if self.lattice[orient, x, (y+1) % self.Lx] == self.lattice[orient, x, y]:\n",
    "        #     if prob < 0.5:\n",
    "        #         self.flip_spin(not orient, y, x)\n",
    "        #     else:\n",
    "        #         self.flip_spin(not orient, y, (x+1) % self.Ly)\n",
    "        # else:\n",
    "        #     if prob < 0.5:\n",
    "        #         self.flip_spin(orient, x, (y+1) % self.Lx)\n",
    "        #     else:\n",
    "        #         if self.lattice[not orient, y, x] != self.lattice[orient, x, y]:\n",
    "        #             self.flip_spin(not orient, y, x)\n",
    "        #         else:\n",
    "        #             self.flip_spin(not orient, y, (x+1) % self.Ly)\n",
    "    \n",
    "    def propagate_2_defects(self):\n",
    "        '''Flip 1 spin, create 2 defective vertices & propagate one randomly until they\n",
    "        meet & annihilate each other.\n",
    "        '''\n",
    "        x = np.random.randint(self.Lx) # vertex x coord\n",
    "        y = np.random.randint(self.Ly) # vertex y coord\n",
    "        flip = np.random.randint(4) # 0: left, 1: right, 2: up, 3: down\n",
    "        print(x, y, flip)\n",
    "        \n",
    "        self.flip_spin(x, y, flip)\n",
    "        end_vertex = self.get_other_defect(x, y, flip) # end vertex coord\n",
    "        \n",
    "        propagate = True\n",
    "        while propagate:\n",
    "            x, y, flip = self.flip_next(x, y, flip)\n",
    "            if (x, y) == end_vertex: # defects met & annhilated\n",
    "                propagate = False\n",
    "\n",
    "L = 3\n",
    "icetype = six_vertex_model(L, L)\n",
    "# icetype.energy([1, 1, 1, 1, 1, 1])\n",
    "# icetype.plot()"
   ]
  },
  {
   "cell_type": "code",
   "execution_count": 230,
   "metadata": {
    "ExecuteTime": {
     "end_time": "2019-07-12T16:35:33.107452Z",
     "start_time": "2019-07-12T16:35:33.091982Z"
    }
   },
   "outputs": [
    {
     "name": "stdout",
     "output_type": "stream",
     "text": [
      "Horizontal spins:\n",
      "[[ 1 -1  1]\n",
      " [-1 -1 -1]\n",
      " [ 1  1  1]] \n",
      "\n",
      "Vertical spins:\n",
      "[[ 1 -1  1]\n",
      " [ 1 -1  1]\n",
      " [ 1 -1 -1]]\n"
     ]
    }
   ],
   "source": [
    "icetype.flip_spin(1, 2, 3)\n",
    "# icetype.propagate_2_defects()\n",
    "icetype.plot()\n",
    "# icetype.flip_next()"
   ]
  },
  {
   "cell_type": "code",
   "execution_count": null,
   "metadata": {},
   "outputs": [],
   "source": [
    "# 1) thermalize\n",
    "# 2) measure -> correlations\n",
    "# 3) update -> (2) x10000"
   ]
  },
  {
   "cell_type": "code",
   "execution_count": null,
   "metadata": {},
   "outputs": [],
   "source": []
  }
 ],
 "metadata": {
  "kernelspec": {
   "display_name": "Python 3",
   "language": "python",
   "name": "python3"
  },
  "language_info": {
   "codemirror_mode": {
    "name": "ipython",
    "version": 3
   },
   "file_extension": ".py",
   "mimetype": "text/x-python",
   "name": "python",
   "nbconvert_exporter": "python",
   "pygments_lexer": "ipython3",
   "version": "3.7.3"
  },
  "toc": {
   "base_numbering": 1,
   "nav_menu": {},
   "number_sections": false,
   "sideBar": false,
   "skip_h1_title": false,
   "title_cell": "Contents",
   "title_sidebar": "Contents",
   "toc_cell": false,
   "toc_position": {},
   "toc_section_display": true,
   "toc_window_display": false
  },
  "varInspector": {
   "cols": {
    "lenName": 16,
    "lenType": 16,
    "lenVar": 40
   },
   "kernels_config": {
    "python": {
     "delete_cmd_postfix": "",
     "delete_cmd_prefix": "del ",
     "library": "var_list.py",
     "varRefreshCmd": "print(var_dic_list())"
    },
    "r": {
     "delete_cmd_postfix": ") ",
     "delete_cmd_prefix": "rm(",
     "library": "var_list.r",
     "varRefreshCmd": "cat(var_dic_list()) "
    }
   },
   "types_to_exclude": [
    "module",
    "function",
    "builtin_function_or_method",
    "instance",
    "_Feature"
   ],
   "window_display": false
  }
 },
 "nbformat": 4,
 "nbformat_minor": 2
}
