{
 "cells": [
  {
   "cell_type": "code",
   "execution_count": 1,
   "metadata": {},
   "outputs": [],
   "source": [
    "import numpy as np # improved arrays\n",
    "from numba import jit # makes code faster\n",
    "\n",
    "import matplotlib.pyplot as plt\n",
    "%matplotlib inline"
   ]
  },
  {
   "cell_type": "code",
   "execution_count": 2,
   "metadata": {},
   "outputs": [
    {
     "data": {
      "text/plain": [
       "3.1400206785767817"
      ]
     },
     "execution_count": 2,
     "metadata": {},
     "output_type": "execute_result"
    }
   ],
   "source": [
    "#%%timeit\n",
    "@jit(nopython=True)\n",
    "def estimatePi(N=100):\n",
    "    pi = 2\n",
    "    for i in range(1,N):\n",
    "        pi *= 4*i*i/(4*i*i - 1)\n",
    "    return pi\n",
    "\n",
    "estimatePi(500)"
   ]
  },
  {
   "cell_type": "code",
   "execution_count": 3,
   "metadata": {},
   "outputs": [
    {
     "name": "stdout",
     "output_type": "stream",
     "text": [
      "0 1\n",
      "1\n",
      "2\n",
      "3\n",
      "5\n",
      "8\n",
      "13\n",
      "21\n",
      "34\n",
      "55\n",
      "89\n",
      "144\n",
      "233\n",
      "377\n",
      "610\n",
      "987\n",
      "1597\n",
      "2584\n",
      "4181\n",
      "6765\n",
      "10946\n",
      "\n"
     ]
    }
   ],
   "source": [
    "#%%timeit\n",
    "@jit(nopython=True)\n",
    "def fibonacci(NNN):\n",
    "    n0 = 0\n",
    "    n1 = 1\n",
    "    n2 = 0\n",
    "    print(n0, n1)\n",
    "    \n",
    "    for i in range(NNN):\n",
    "        n2 = n0 + n1\n",
    "        n0 = n1\n",
    "        n1 = n2\n",
    "        print(n2)\n",
    "    print()\n",
    "\n",
    "fibonacci(20)"
   ]
  },
  {
   "cell_type": "markdown",
   "metadata": {},
   "source": [
    "###### function quicksort(array)\n",
    "    var list less, greater\n",
    "    if length(array) < 2\n",
    "        return array\n",
    "    select and remove a pivot value pivot from array\n",
    "    for each x in array\n",
    "        if x < pivot + 1 then append x to less\n",
    "        else append x to greater\n",
    "    return concatenate(quicksort(less), pivot, quicksort(greater))"
   ]
  },
  {
   "cell_type": "code",
   "execution_count": 4,
   "metadata": {
    "scrolled": true
   },
   "outputs": [
    {
     "name": "stdout",
     "output_type": "stream",
     "text": [
      "[19, 18, 17, 16, 15, 14, 13, 12, 11, 10, 8, 7, 6, 5, 4, 3, 2, 1, 0]\n",
      "[8, 7, 6, 5, 3, 2, 1, 0]\n",
      "[3, 2, 0]\n",
      "[3]\n",
      "[8, 7, 5]\n",
      "[8]\n",
      "[19, 18, 17, 16, 15, 13, 12, 11, 10]\n",
      "[13, 12, 10]\n",
      "[13]\n",
      "[19, 18, 16, 15]\n",
      "[16]\n",
      "[19]\n"
     ]
    },
    {
     "data": {
      "text/plain": [
       "[0, 1, 2, 3, 4, 5, 6, 7, 8, 9, 10, 11, 12, 13, 14, 15, 16, 17, 18, 19]"
      ]
     },
     "execution_count": 4,
     "metadata": {},
     "output_type": "execute_result"
    }
   ],
   "source": [
    "#%%timeit\n",
    "#@jit(nopython=True) # commented is faster\n",
    "def quicksort(array):\n",
    "    less = []\n",
    "    greater = []\n",
    "    \n",
    "    length = len(array)\n",
    "    if length < 2:\n",
    "        return array\n",
    "    \n",
    "    middle = length//2\n",
    "    pivot = array[middle] # start in the middle -> faster\n",
    "    array = list(array[:middle]) + list(array[middle+1:])\n",
    "    print(array)\n",
    "\n",
    "    for x in array:\n",
    "        if x < (pivot+1):\n",
    "            less.append(x)\n",
    "        else:\n",
    "            greater.append(x)\n",
    "    \n",
    "    return quicksort(less) + [pivot] + quicksort(greater)\n",
    "\n",
    "arr = list(range(20))\n",
    "quicksort(arr[::-1])"
   ]
  },
  {
   "cell_type": "code",
   "execution_count": 31,
   "metadata": {},
   "outputs": [
    {
     "data": {
      "image/png": "[encoded data removed]",
      "text/plain": [
       "<Figure size 432x288 with 1 Axes>"
      ]
     },
     "metadata": {
      "needs_background": "light"
     },
     "output_type": "display_data"
    }
   ],
   "source": [
    "X = np.linspace(-np.pi, np.pi, 100)\n",
    "C, S = np.cos(X), np.sin(X)\n",
    "plt.plot(X, C)\n",
    "plt.plot(X, S)\n",
    "plt.plot(C, S)\n",
    "plt.show()"
   ]
  },
  {
   "cell_type": "code",
   "execution_count": 67,
   "metadata": {},
   "outputs": [
    {
     "name": "stdout",
     "output_type": "stream",
     "text": [
      "[ 0.  2.  4.  6.  8. 10.]\n",
      "[9. 7. 5. 3. 1.]\n"
     ]
    }
   ],
   "source": [
    "a = np.linspace(0, 10, 11)\n",
    "even = a[::2]\n",
    "rodd = a[9::-2]\n",
    "print(even, rodd, sep='\\n')"
   ]
  },
  {
   "cell_type": "code",
   "execution_count": 72,
   "metadata": {},
   "outputs": [
    {
     "name": "stdout",
     "output_type": "stream",
     "text": [
      "[[1. 1. 1. 1.]\n",
      " [1. 1. 1. 1.]\n",
      " [1. 1. 1. 2.]\n",
      " [1. 6. 1. 1.]]\n"
     ]
    }
   ],
   "source": [
    "a = np.ones((4,4))\n",
    "a[2,3] += 1\n",
    "a[3,1] += 5\n",
    "print(a)"
   ]
  },
  {
   "cell_type": "code",
   "execution_count": 83,
   "metadata": {},
   "outputs": [
    {
     "name": "stdout",
     "output_type": "stream",
     "text": [
      "[[0. 0. 0. 0. 0.]\n",
      " [2. 0. 0. 0. 0.]\n",
      " [0. 3. 0. 0. 0.]\n",
      " [0. 0. 4. 0. 0.]\n",
      " [0. 0. 0. 5. 0.]\n",
      " [0. 0. 0. 0. 6.]]\n"
     ]
    }
   ],
   "source": [
    "a = np.zeros((6,5))\n",
    "a[1:] = np.diag(np.arange(2,7))\n",
    "print(a)"
   ]
  },
  {
   "cell_type": "code",
   "execution_count": null,
   "metadata": {},
   "outputs": [],
   "source": []
  },
  {
   "cell_type": "code",
   "execution_count": null,
   "metadata": {},
   "outputs": [],
   "source": []
  },
  {
   "cell_type": "code",
   "execution_count": null,
   "metadata": {},
   "outputs": [],
   "source": []
  },
  {
   "cell_type": "code",
   "execution_count": 35,
   "metadata": {
    "collapsed": true
   },
   "outputs": [
    {
     "data": {
      "image/png": "[encoded data removed]",
      "text/plain": [
       "<Figure size 432x288 with 1 Axes>"
      ]
     },
     "metadata": {
      "needs_background": "light"
     },
     "output_type": "display_data"
    },
    {
     "data": {
      "image/png": "[encoded data removed]",
      "text/plain": [
       "<Figure size 432x288 with 1 Axes>"
      ]
     },
     "metadata": {
      "needs_background": "light"
     },
     "output_type": "display_data"
    }
   ],
   "source": [
    "X = 10**np.arange(6)\n",
    "error = [(np.pi - estimatePi(i))/np.pi for i in X]\n",
    "prediction = [1/i for i in X]\n",
    "\n",
    "end = 3\n",
    "plt.plot(X[:end], error[:end], label=\"Error\")\n",
    "plt.plot(X[:end], prediction[:end], label=\"1/N\")\n",
    "plt.legend()\n",
    "plt.show()\n",
    "\n",
    "plt.loglog(X, error, label=\"Error\")\n",
    "plt.loglog(X, prediction, label=\"1/N\")\n",
    "plt.legend()\n",
    "plt.show()"
   ]
  }
 ],
 "metadata": {
  "kernelspec": {
   "display_name": "Python 3",
   "language": "python",
   "name": "python3"
  },
  "language_info": {
   "codemirror_mode": {
    "name": "ipython",
    "version": 3
   },
   "file_extension": ".py",
   "mimetype": "text/x-python",
   "name": "python",
   "nbconvert_exporter": "python",
   "pygments_lexer": "ipython3",
   "version": "3.7.3"
  }
 },
 "nbformat": 4,
 "nbformat_minor": 2
}
