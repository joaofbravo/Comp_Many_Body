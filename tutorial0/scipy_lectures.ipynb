{
 "cells": [
  {
   "cell_type": "code",
   "execution_count": 156,
   "metadata": {},
   "outputs": [],
   "source": [
    "#import numpy as np # shorthand\n",
    "#from numba import jit # import object from module\n",
    "import copy\n",
    "import pickle # store objects in files\n",
    "\n",
    "#import matplotlib.pyplot as plt\n",
    "#%matplotlib inline"
   ]
  },
  {
   "cell_type": "markdown",
   "metadata": {},
   "source": [
    "## 1.1. Python scientific computing ecosystem"
   ]
  },
  {
   "cell_type": "code",
   "execution_count": 87,
   "metadata": {},
   "outputs": [],
   "source": [
    "print? # function info"
   ]
  },
  {
   "cell_type": "code",
   "execution_count": 86,
   "metadata": {},
   "outputs": [],
   "source": [
    "%quickref # IPython Reference Card"
   ]
  },
  {
   "cell_type": "code",
   "execution_count": 88,
   "metadata": {
    "collapsed": true
   },
   "outputs": [
    {
     "name": "stdout",
     "output_type": "stream",
     "text": [
      "Total number of aliases: 12\n"
     ]
    },
    {
     "data": {
      "text/plain": [
       "[('cat', 'cat'),\n",
       " ('cp', 'cp'),\n",
       " ('ldir', 'ls -F -o --color %l | grep /$'),\n",
       " ('lf', 'ls -F -o --color %l | grep ^-'),\n",
       " ('lk', 'ls -F -o --color %l | grep ^l'),\n",
       " ('ll', 'ls -F -o --color'),\n",
       " ('ls', 'ls -F --color'),\n",
       " ('lx', 'ls -F -o --color %l | grep ^-..x'),\n",
       " ('mkdir', 'mkdir'),\n",
       " ('mv', 'mv'),\n",
       " ('rm', 'rm'),\n",
       " ('rmdir', 'rmdir')]"
      ]
     },
     "execution_count": 88,
     "metadata": {},
     "output_type": "execute_result"
    }
   ],
   "source": [
    "alias"
   ]
  },
  {
   "cell_type": "code",
   "execution_count": 96,
   "metadata": {},
   "outputs": [],
   "source": [
    "%magic"
   ]
  },
  {
   "cell_type": "code",
   "execution_count": 6,
   "metadata": {},
   "outputs": [
    {
     "name": "stdout",
     "output_type": "stream",
     "text": [
      "Variable   Type      Data/Info\n",
      "------------------------------\n",
      "copy       module    <module 'copy' from '/hom<...>3/lib/python3.7/copy.py'>\n"
     ]
    }
   ],
   "source": [
    "%whos"
   ]
  },
  {
   "cell_type": "code",
   "execution_count": 77,
   "metadata": {
    "collapsed": true
   },
   "outputs": [
    {
     "name": "stderr",
     "output_type": "stream",
     "text": [
      "ERROR:root:File `'my_file.py'` not found.\n"
     ]
    },
    {
     "ename": "ModuleNotFoundError",
     "evalue": "No module named 'my_file'",
     "output_type": "error",
     "traceback": [
      "\u001b[0;31m---------------------------------------------------------------------------\u001b[0m",
      "\u001b[0;31mModuleNotFoundError\u001b[0m                       Traceback (most recent call last)",
      "\u001b[0;32m<ipython-input-77-88d9ebf319f6>\u001b[0m in \u001b[0;36m<module>\u001b[0;34m\u001b[0m\n\u001b[1;32m      1\u001b[0m \u001b[0;31m# vars in script become available\u001b[0m\u001b[0;34m\u001b[0m\u001b[0;34m\u001b[0m\u001b[0;34m\u001b[0m\u001b[0m\n\u001b[1;32m      2\u001b[0m \u001b[0mget_ipython\u001b[0m\u001b[0;34m(\u001b[0m\u001b[0;34m)\u001b[0m\u001b[0;34m.\u001b[0m\u001b[0mrun_line_magic\u001b[0m\u001b[0;34m(\u001b[0m\u001b[0;34m'run'\u001b[0m\u001b[0;34m,\u001b[0m \u001b[0;34m\"my_file # runs if __name__ == '__main__':\"\u001b[0m\u001b[0;34m)\u001b[0m\u001b[0;34m\u001b[0m\u001b[0;34m\u001b[0m\u001b[0m\n\u001b[0;32m----> 3\u001b[0;31m \u001b[0;32mimport\u001b[0m \u001b[0mmy_file\u001b[0m \u001b[0;31m# does not run if __name__ == '__main__':\u001b[0m\u001b[0;34m\u001b[0m\u001b[0;34m\u001b[0m\u001b[0m\n\u001b[0m",
      "\u001b[0;31mModuleNotFoundError\u001b[0m: No module named 'my_file'"
     ]
    }
   ],
   "source": [
    "# vars in script become available\n",
    "%run my_file # runs if __name__ == '__main__':\n",
    "import my_file # does not run if __name__ == '__main__':"
   ]
  },
  {
   "cell_type": "code",
   "execution_count": 8,
   "metadata": {},
   "outputs": [
    {
     "name": "stdout",
     "output_type": "stream",
     "text": [
      "362 ns ± 22.6 ns per loop (mean ± std. dev. of 7 runs, 1000000 loops each)\n"
     ]
    }
   ],
   "source": [
    "%timeit range(0,10000) # line magic"
   ]
  },
  {
   "cell_type": "code",
   "execution_count": 97,
   "metadata": {},
   "outputs": [
    {
     "name": "stdout",
     "output_type": "stream",
     "text": [
      "483 µs ± 24.6 µs per loop (mean ± std. dev. of 7 runs, 1000 loops each)\n"
     ]
    }
   ],
   "source": [
    "%%timeit # cell magic\n",
    "x=0\n",
    "for i in range(0,10000):\n",
    "    x+=1"
   ]
  },
  {
   "cell_type": "code",
   "execution_count": 107,
   "metadata": {},
   "outputs": [
    {
     "data": {
      "text/plain": [
       "10"
      ]
     },
     "execution_count": 107,
     "metadata": {},
     "output_type": "execute_result"
    }
   ],
   "source": [
    "a = 1 + 2 + \\\n",
    "    3 + 4 # line break\n",
    "a"
   ]
  },
  {
   "cell_type": "markdown",
   "metadata": {},
   "source": [
    "## 1.2. The Python language"
   ]
  },
  {
   "cell_type": "code",
   "execution_count": 10,
   "metadata": {},
   "outputs": [
    {
     "name": "stdout",
     "output_type": "stream",
     "text": [
      "False\n",
      "1024\n",
      "1\n",
      "2.5 2\n"
     ]
    },
    {
     "data": {
      "text/plain": [
       "1.0"
      ]
     },
     "execution_count": 10,
     "metadata": {},
     "output_type": "execute_result"
    }
   ],
   "source": [
    "print(3 > 4)\n",
    "print(2**10)\n",
    "print(10%3)\n",
    "print(10/4, 10//4)\n",
    "float(1)"
   ]
  },
  {
   "cell_type": "code",
   "execution_count": 11,
   "metadata": {},
   "outputs": [
    {
     "name": "stdout",
     "output_type": "stream",
     "text": [
      "1.5 0.5\n"
     ]
    },
    {
     "data": {
      "text/plain": [
       "complex"
      ]
     },
     "execution_count": 11,
     "metadata": {},
     "output_type": "execute_result"
    }
   ],
   "source": [
    "c = 1.5 + 0.5j\n",
    "print(c.real, c.imag)\n",
    "type(c)"
   ]
  },
  {
   "cell_type": "markdown",
   "metadata": {},
   "source": [
    "###### Lists\n",
    "##### (use numpy array if elements have same type)"
   ]
  },
  {
   "cell_type": "code",
   "execution_count": 12,
   "metadata": {},
   "outputs": [
    {
     "name": "stdout",
     "output_type": "stream",
     "text": [
      "purple\n",
      "yellow\n",
      "['green', 1000]\n",
      "['green', 1000, 'white', 'pink', 'yellow']\n",
      "[False, 1000, 'pink'] \n",
      "\n",
      "['yellow', 'pink', 'white', 1000, 'green', False, 'red']\n",
      "['green', 'red', 'white']\n",
      "['red', False, 'green', 1000, 'white', 'pink', 'yellow', 'red', False, 'green', 1000, 'white', 'pink', 'yellow']\n",
      "['red', False, 'green', 1000, 'white', 'pink', 'yellow', 'yellow', 'pink', 'white', 1000, 'green', False, 'red'] \n",
      "\n",
      "[0, 1, 2, 3]\n"
     ]
    },
    {
     "data": {
      "text/plain": [
       "list"
      ]
     },
     "execution_count": 12,
     "metadata": {},
     "output_type": "execute_result"
    }
   ],
   "source": [
    "colors = ['red', False, 'green', 1000, 'white']\n",
    "colors.append('pink')\n",
    "colors.extend(['yellow', 'purple']) # extend list\n",
    "\n",
    "print(colors.pop()) # remove & return last item\n",
    "print(colors[-1])\n",
    "print(colors[2:4])\n",
    "print(colors[2:])\n",
    "print(colors[1:6:2], '\\n') # begin:end:step\n",
    "\n",
    "rcolors = colors[::-1] # reverse\n",
    "print(rcolors)\n",
    "print(sorted(rcolors[2::2]))\n",
    "print(colors*2)\n",
    "print(colors+rcolors, '\\n')\n",
    "\n",
    "l = [i for i in range(4)]\n",
    "print(l)\n",
    "\n",
    "type(colors)"
   ]
  },
  {
   "cell_type": "markdown",
   "metadata": {},
   "source": [
    "###### Tuples (immutable lists)"
   ]
  },
  {
   "cell_type": "code",
   "execution_count": 13,
   "metadata": {},
   "outputs": [
    {
     "name": "stdout",
     "output_type": "stream",
     "text": [
      "('a', 100, 'b') (0, 2, 'c') a\n"
     ]
    },
    {
     "data": {
      "text/plain": [
       "tuple"
      ]
     },
     "execution_count": 13,
     "metadata": {},
     "output_type": "execute_result"
    }
   ],
   "source": [
    "t = 'a', 100, 'b'\n",
    "t2 = (0, 2, 'c')\n",
    "print(t, t2, t[0])\n",
    "type(t)"
   ]
  },
  {
   "cell_type": "markdown",
   "metadata": {},
   "source": [
    "###### Strings (behave like immutable lists)"
   ]
  },
  {
   "cell_type": "code",
   "execution_count": 14,
   "metadata": {},
   "outputs": [
    {
     "name": "stdout",
     "output_type": "stream",
     "text": [
      "multi\n",
      "line\n",
      "string\n",
      "An integer: 1; a float: 0.100; a string: string\n",
      "hellohezlo hezlohezlo hlo\n"
     ]
    },
    {
     "data": {
      "text/plain": [
       "str"
      ]
     },
     "execution_count": 14,
     "metadata": {},
     "output_type": "execute_result"
    }
   ],
   "source": [
    "s = '''multi line\n",
    "string'''\n",
    "for word in s.split():\n",
    "    print(word)\n",
    "\n",
    "s = 'hello'\n",
    "s2 = s.replace('l', 'z', 1)\n",
    "s3 = 'An integer: %i; a float: %.3f; a string: %s' % (1, 0.1, 'string')\n",
    "\n",
    "print(s3)\n",
    "print(s + s2, s2*2, s[::2])\n",
    "type(s)"
   ]
  },
  {
   "cell_type": "markdown",
   "metadata": {},
   "source": [
    "###### Dictionaries (unordered)"
   ]
  },
  {
   "cell_type": "code",
   "execution_count": 15,
   "metadata": {},
   "outputs": [
    {
     "name": "stdout",
     "output_type": "stream",
     "text": [
      "a 0.1\n",
      "b 0.2\n",
      "3 c\n",
      "d 100\n",
      "\n",
      "{'a': 0.1, 'b': 0.2, 3: 'c', 'd': 100}\n",
      "dict_keys(['a', 'b', 3, 'd'])\n",
      "dict_values([0.1, 0.2, 'c', 100])\n",
      "0.2 True\n"
     ]
    },
    {
     "data": {
      "text/plain": [
       "dict"
      ]
     },
     "execution_count": 15,
     "metadata": {},
     "output_type": "execute_result"
    }
   ],
   "source": [
    "d = {'a': 0.1, 'b': 0.2, 3: 'c'}\n",
    "d['d'] = 100\n",
    "\n",
    "for key, val in d.items():\n",
    "    print(key, val)\n",
    "print()\n",
    "\n",
    "print(d)\n",
    "print(d.keys())\n",
    "print(d.values())\n",
    "print(d['b'], 'b' in d)\n",
    "type(d)"
   ]
  },
  {
   "cell_type": "markdown",
   "metadata": {},
   "source": [
    "###### Sets (unordered, unique items)"
   ]
  },
  {
   "cell_type": "code",
   "execution_count": 16,
   "metadata": {},
   "outputs": [
    {
     "name": "stdout",
     "output_type": "stream",
     "text": [
      "{'a', 'b', 'c'}\n",
      "{'c'}\n"
     ]
    },
    {
     "data": {
      "text/plain": [
       "set"
      ]
     },
     "execution_count": 16,
     "metadata": {},
     "output_type": "execute_result"
    }
   ],
   "source": [
    "s = set(('a', 'b', 'c', 'a')) # only 1 'a'\n",
    "print(s)\n",
    "print(s.difference(('a', 'b')))\n",
    "type(s)"
   ]
  },
  {
   "cell_type": "markdown",
   "metadata": {},
   "source": [
    "###### Control Flow"
   ]
  },
  {
   "cell_type": "code",
   "execution_count": 17,
   "metadata": {},
   "outputs": [
    {
     "name": "stdout",
     "output_type": "stream",
     "text": [
      "[0, 1, 2, 3] [0, 1, 2, 3] [0, 1, 2, 3] [0, 1, 2, 3]\n",
      "[0, 'a', 2, 3] [0, 'a', 2, 3] [0, 1, 'b', 3] [0, 1, 2, 'c']\n",
      "True\n",
      "True\n",
      "True\n",
      "False\n"
     ]
    }
   ],
   "source": [
    "x = [0, 1, 2, 3]\n",
    "y = x # pointer copy\n",
    "w = x[:] # shallow copy (creates different object)\n",
    "z = copy.deepcopy(x) # (creates different object)\n",
    "\n",
    "print(x, y, w, z)\n",
    "x[1] = 'a'\n",
    "w[2] = 'b'\n",
    "z[3] = 'c'\n",
    "print(x, y, w, z)\n",
    "\n",
    "print(2 in x)\n",
    "print(x is y)\n",
    "print(1 is 1)\n",
    "print(1 is 1.0)"
   ]
  },
  {
   "cell_type": "code",
   "execution_count": 18,
   "metadata": {},
   "outputs": [
    {
     "name": "stdout",
     "output_type": "stream",
     "text": [
      "else\n"
     ]
    }
   ],
   "source": [
    "x = 1\n",
    "if x == -1:\n",
    "    print('if')\n",
    "elif x >= 2:\n",
    "    print('elif')\n",
    "else:\n",
    "    print('else')"
   ]
  },
  {
   "cell_type": "code",
   "execution_count": 19,
   "metadata": {},
   "outputs": [
    {
     "name": "stdout",
     "output_type": "stream",
     "text": [
      "0 h a\t0 h c\t0 a a\t0 a c\t0 t a\t0 t c\t1 h a\t1 h c\t1 a a\t1 a c\t1 t a\t1 t c\t\n",
      "\n",
      "0 a\n",
      "1 b\n",
      "2 c\n"
     ]
    }
   ],
   "source": [
    "for x in range(2):\n",
    "    for y in 'hat':\n",
    "        for z in ('a', 'b', 'c'):\n",
    "            \n",
    "            if z == 'b':\n",
    "                continue    \n",
    "            print('%d %s %s' % (x, y, z), end='\\t')\n",
    "print('\\n')\n",
    "\n",
    "for index, item in enumerate(['a', 'b', 'c']):\n",
    "    print(index, item)"
   ]
  },
  {
   "cell_type": "code",
   "execution_count": 20,
   "metadata": {},
   "outputs": [
    {
     "name": "stdout",
     "output_type": "stream",
     "text": [
      "8\n"
     ]
    }
   ],
   "source": [
    "z = 0\n",
    "while z < 10:\n",
    "    if z == 8:\n",
    "        break\n",
    "    z += 1\n",
    "print(z)"
   ]
  },
  {
   "cell_type": "markdown",
   "metadata": {},
   "source": [
    "###### Functions\n",
    "##### (if default values are mutable types, changes persist in next calls)"
   ]
  },
  {
   "cell_type": "code",
   "execution_count": 109,
   "metadata": {},
   "outputs": [
    {
     "name": "stdout",
     "output_type": "stream",
     "text": [
      "1\n"
     ]
    }
   ],
   "source": [
    "x = 10\n",
    "def func(y):\n",
    "    global x # to modify var inside function\n",
    "    x = 1\n",
    "\n",
    "func(x)\n",
    "print(x)"
   ]
  },
  {
   "cell_type": "markdown",
   "metadata": {},
   "source": [
    "##### *args: any number of positional args in tuple\n",
    "##### **kwargs: any number of keyword args in dictionary"
   ]
  },
  {
   "cell_type": "code",
   "execution_count": 111,
   "metadata": {},
   "outputs": [
    {
     "name": "stdout",
     "output_type": "stream",
     "text": [
      "('F', 2)\n",
      "{'a': 1, 'b': 2, 'c': 3}\n"
     ]
    },
    {
     "data": {
      "text/plain": [
       "function"
      ]
     },
     "execution_count": 111,
     "metadata": {},
     "output_type": "execute_result"
    }
   ],
   "source": [
    "def func(*args, **kwargs):\n",
    "    \"\"\"Concise one-line sentence describing function.\n",
    "\n",
    "    Extended summary.\n",
    "    \"\"\"\n",
    "    print(args)\n",
    "    print(kwargs)\n",
    "\n",
    "f = func # functions are objects: can be assigned or passed as arg\n",
    "f('F', 2, a=1, b=2, c=3)\n",
    "type(func)"
   ]
  },
  {
   "cell_type": "code",
   "execution_count": 55,
   "metadata": {},
   "outputs": [],
   "source": [
    "func?"
   ]
  },
  {
   "cell_type": "markdown",
   "metadata": {},
   "source": [
    "###### Input / Output"
   ]
  },
  {
   "cell_type": "markdown",
   "metadata": {},
   "source": [
    "    Read-only: r\n",
    "    Write-only: w (creates/overwrites file)\n",
    "    Append: a\n",
    "    Read and Write: r+\n",
    "    Binary mode: b (for binary files)"
   ]
  },
  {
   "cell_type": "code",
   "execution_count": 187,
   "metadata": {},
   "outputs": [
    {
     "data": {
      "text/plain": [
       "_io.TextIOWrapper"
      ]
     },
     "execution_count": 187,
     "metadata": {},
     "output_type": "execute_result"
    }
   ],
   "source": [
    "f = open('testfile.txt', 'w')\n",
    "f.write('Test \\nfile')\n",
    "f.close()\n",
    "\n",
    "type(f)"
   ]
  },
  {
   "cell_type": "code",
   "execution_count": 188,
   "metadata": {},
   "outputs": [
    {
     "name": "stdout",
     "output_type": "stream",
     "text": [
      "Test \n",
      "file\n"
     ]
    }
   ],
   "source": [
    "f = open('testfile.txt', 'r')\n",
    "s = f.read() # f reaches EOF\n",
    "print(s)\n",
    "\n",
    "for line in f: # f starts at EOF because of f.read() -> does nothing\n",
    "     print(line)\n",
    "\n",
    "f.close()"
   ]
  },
  {
   "cell_type": "code",
   "execution_count": 202,
   "metadata": {},
   "outputs": [],
   "source": [
    "l1 = [1, None, 'a']\n",
    "pickle.dump(l1, open('stored_obj.pkl', 'wb')) # store object in binary file"
   ]
  },
  {
   "cell_type": "code",
   "execution_count": 203,
   "metadata": {},
   "outputs": [
    {
     "data": {
      "text/plain": [
       "[1, None, 'a']"
      ]
     },
     "execution_count": 203,
     "metadata": {},
     "output_type": "execute_result"
    }
   ],
   "source": [
    "l2 = pickle.load(open('stored_obj.pkl', 'rb'))\n",
    "l2"
   ]
  },
  {
   "cell_type": "markdown",
   "metadata": {},
   "source": [
    "###### Exceptions"
   ]
  },
  {
   "cell_type": "code",
   "execution_count": 228,
   "metadata": {},
   "outputs": [
    {
     "name": "stdout",
     "output_type": "stream",
     "text": [
      "Enter a number: a\n",
      "Not a valid number. Try again.\n",
      "Enter a number: 2.1\n",
      "2.1\n"
     ]
    }
   ],
   "source": [
    "# try/except block\n",
    "while True:\n",
    "    try:\n",
    "        x = float(input('Enter a number: '))\n",
    "        break\n",
    "    except ValueError:\n",
    "        print('Not a valid number. Try again.')\n",
    "print(x)"
   ]
  },
  {
   "cell_type": "code",
   "execution_count": 242,
   "metadata": {},
   "outputs": [
    {
     "name": "stdout",
     "output_type": "stream",
     "text": [
      "Enter a name: João\n",
      "OK, João\n",
      "João\n"
     ]
    }
   ],
   "source": [
    "# capture and reraise exception\n",
    "name = input('Enter a name: ')\n",
    "try:\n",
    "    name = name.encode('ascii')\n",
    "except UnicodeError as e:\n",
    "    if name == 'João':\n",
    "        print('OK, João')\n",
    "    else:\n",
    "        raise e\n",
    "print(name)"
   ]
  },
  {
   "cell_type": "markdown",
   "metadata": {},
   "source": [
    "###### Classes"
   ]
  },
  {
   "cell_type": "code",
   "execution_count": 269,
   "metadata": {},
   "outputs": [
    {
     "name": "stdout",
     "output_type": "stream",
     "text": [
      "I am João, 22 year old student. I study Physics\n"
     ]
    }
   ],
   "source": [
    "class Student(object): # base class\n",
    "    status = 'student' # attribute\n",
    "\n",
    "    def __init__(self, name, age=0, major=None):\n",
    "        self.name = name\n",
    "        self.age = age\n",
    "        self.major = major\n",
    "    def set_age(self, age): # method\n",
    "        self.age = age\n",
    "    def set_major(self, major):\n",
    "        self.major = major\n",
    "    def get_bio(self):\n",
    "        print('I am %s, %i year old %s. I study %s' \\\n",
    "              % (self.name,self.age,self.status,self.major))\n",
    "\n",
    "joao = Student('João')\n",
    "joao.set_age(22)\n",
    "joao.set_major('Physics')\n",
    "joao.get_bio()"
   ]
  },
  {
   "cell_type": "code",
   "execution_count": 273,
   "metadata": {},
   "outputs": [
    {
     "name": "stdout",
     "output_type": "stream",
     "text": [
      "I am James, 23 year old student. I study Maths and am doing my thesis in QuInfo\n"
     ]
    }
   ],
   "source": [
    "class MasterStudent(Student): # inheritance from Student class\n",
    "    def __init__(self, name, age=0, major=None, thesis=None):\n",
    "        # if ommited, parent __init__ is used\n",
    "        Student.__init__(self, name, age, major) # initialize parent object\n",
    "        self.thesis = thesis\n",
    "    def set_thesis(self, thesis):\n",
    "        self.thesis = thesis\n",
    "    def get_bio(self):\n",
    "        print('I am %s, %i year old %s. I study %s and am doing my thesis in %s' \\\n",
    "              % (self.name,self.age,self.status,self.major,self.thesis))\n",
    "\n",
    "james = MasterStudent('James', 23, 'Maths', 'QuInfo')\n",
    "james.get_bio()"
   ]
  },
  {
   "cell_type": "markdown",
   "metadata": {},
   "source": [
    "## 1.3. NumPy: numerical data"
   ]
  },
  {
   "cell_type": "code",
   "execution_count": null,
   "metadata": {},
   "outputs": [],
   "source": []
  }
 ],
 "metadata": {
  "kernelspec": {
   "display_name": "Python 3",
   "language": "python",
   "name": "python3"
  },
  "language_info": {
   "codemirror_mode": {
    "name": "ipython",
    "version": 3
   },
   "file_extension": ".py",
   "mimetype": "text/x-python",
   "name": "python",
   "nbconvert_exporter": "python",
   "pygments_lexer": "ipython3",
   "version": "3.7.3"
  }
 },
 "nbformat": 4,
 "nbformat_minor": 2
}
