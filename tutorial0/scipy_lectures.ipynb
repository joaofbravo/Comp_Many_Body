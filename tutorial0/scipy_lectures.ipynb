{
 "cells": [
  {
   "cell_type": "code",
   "execution_count": 1,
   "metadata": {
    "collapsed": true
   },
   "outputs": [],
   "source": [
    "import numpy as np # shorthand\n",
    "#from numba import jit # import object from module\n",
    "import copy\n",
    "import pickle # store objects in files\n",
    "import matplotlib.pyplot as plt\n",
    "%matplotlib inline"
   ]
  },
  {
   "cell_type": "markdown",
   "metadata": {},
   "source": [
    "## 1.1. Python scientific computing ecosystem"
   ]
  },
  {
   "cell_type": "code",
   "execution_count": 133,
   "metadata": {},
   "outputs": [],
   "source": [
    "# function info\n",
    "print?"
   ]
  },
  {
   "cell_type": "code",
   "execution_count": 3,
   "metadata": {
    "collapsed": true
   },
   "outputs": [],
   "source": [
    "%quickref # IPython Reference Card"
   ]
  },
  {
   "cell_type": "code",
   "execution_count": 4,
   "metadata": {
    "collapsed": true
   },
   "outputs": [
    {
     "name": "stdout",
     "output_type": "stream",
     "text": [
      "Total number of aliases: 12\n"
     ]
    },
    {
     "data": {
      "text/plain": [
       "[('cat', 'cat'),\n",
       " ('cp', 'cp'),\n",
       " ('ldir', 'ls -F -o --color %l | grep /$'),\n",
       " ('lf', 'ls -F -o --color %l | grep ^-'),\n",
       " ('lk', 'ls -F -o --color %l | grep ^l'),\n",
       " ('ll', 'ls -F -o --color'),\n",
       " ('ls', 'ls -F --color'),\n",
       " ('lx', 'ls -F -o --color %l | grep ^-..x'),\n",
       " ('mkdir', 'mkdir'),\n",
       " ('mv', 'mv'),\n",
       " ('rm', 'rm'),\n",
       " ('rmdir', 'rmdir')]"
      ]
     },
     "execution_count": 4,
     "metadata": {},
     "output_type": "execute_result"
    }
   ],
   "source": [
    "alias"
   ]
  },
  {
   "cell_type": "code",
   "execution_count": 5,
   "metadata": {
    "collapsed": true
   },
   "outputs": [],
   "source": [
    "%magic"
   ]
  },
  {
   "cell_type": "code",
   "execution_count": 6,
   "metadata": {
    "collapsed": true
   },
   "outputs": [
    {
     "name": "stdout",
     "output_type": "stream",
     "text": [
      "Variable   Type      Data/Info\n",
      "------------------------------\n",
      "copy       module    <module 'copy' from '/hom<...>3/lib/python3.7/copy.py'>\n",
      "np         module    <module 'numpy' from '/ho<...>kages/numpy/__init__.py'>\n",
      "pickle     module    <module 'pickle' from '/h<...>lib/python3.7/pickle.py'>\n",
      "plt        module    <module 'matplotlib.pyplo<...>es/matplotlib/pyplot.py'>\n"
     ]
    }
   ],
   "source": [
    "%whos"
   ]
  },
  {
   "cell_type": "code",
   "execution_count": 7,
   "metadata": {
    "collapsed": true
   },
   "outputs": [],
   "source": [
    "# vars in script become available\n",
    "\n",
    "# import my_file # does not run if __name__ == '__main__':\n",
    "# %run my_file   # runs if __name__ == '__main__':"
   ]
  },
  {
   "cell_type": "code",
   "execution_count": 8,
   "metadata": {
    "collapsed": true
   },
   "outputs": [
    {
     "name": "stdout",
     "output_type": "stream",
     "text": [
      "245 ns ± 28.4 ns per loop (mean ± std. dev. of 7 runs, 1000000 loops each)\n"
     ]
    }
   ],
   "source": [
    "%timeit range(0,10000) # line magic"
   ]
  },
  {
   "cell_type": "code",
   "execution_count": 9,
   "metadata": {
    "collapsed": true
   },
   "outputs": [
    {
     "name": "stdout",
     "output_type": "stream",
     "text": [
      "601 µs ± 50.4 µs per loop (mean ± std. dev. of 7 runs, 1000 loops each)\n"
     ]
    }
   ],
   "source": [
    "%%timeit # cell magic\n",
    "x=0\n",
    "for i in range(0,10000):\n",
    "    x+=1"
   ]
  },
  {
   "cell_type": "code",
   "execution_count": 158,
   "metadata": {},
   "outputs": [
    {
     "data": {
      "text/plain": [
       "10.116"
      ]
     },
     "execution_count": 158,
     "metadata": {},
     "output_type": "execute_result"
    }
   ],
   "source": [
    "# decimal digits\n",
    "%precision 3\n",
    "10.115599"
   ]
  },
  {
   "cell_type": "code",
   "execution_count": 10,
   "metadata": {
    "collapsed": true
   },
   "outputs": [
    {
     "data": {
      "text/plain": [
       "10"
      ]
     },
     "execution_count": 10,
     "metadata": {},
     "output_type": "execute_result"
    }
   ],
   "source": [
    "a = 1 + 2 + \\\n",
    "    3 + 4 # line break\n",
    "a"
   ]
  },
  {
   "cell_type": "markdown",
   "metadata": {},
   "source": [
    "## 1.2. The Python language"
   ]
  },
  {
   "cell_type": "code",
   "execution_count": 11,
   "metadata": {
    "collapsed": true
   },
   "outputs": [
    {
     "name": "stdout",
     "output_type": "stream",
     "text": [
      "False\n",
      "1024\n",
      "1\n",
      "2.5 2\n"
     ]
    },
    {
     "data": {
      "text/plain": [
       "1.0"
      ]
     },
     "execution_count": 11,
     "metadata": {},
     "output_type": "execute_result"
    }
   ],
   "source": [
    "print(3 > 4)\n",
    "print(2**10)\n",
    "print(10%3)\n",
    "print(10/4, 10//4)\n",
    "float(1)"
   ]
  },
  {
   "cell_type": "code",
   "execution_count": 12,
   "metadata": {
    "collapsed": true
   },
   "outputs": [
    {
     "name": "stdout",
     "output_type": "stream",
     "text": [
      "1.5 0.5\n"
     ]
    },
    {
     "data": {
      "text/plain": [
       "complex"
      ]
     },
     "execution_count": 12,
     "metadata": {},
     "output_type": "execute_result"
    }
   ],
   "source": [
    "c = 1.5 + 0.5j\n",
    "print(c.real, c.imag)\n",
    "type(c)"
   ]
  },
  {
   "cell_type": "markdown",
   "metadata": {},
   "source": [
    "###### Lists\n",
    "##### (use numpy array if elements have same type)"
   ]
  },
  {
   "cell_type": "code",
   "execution_count": 13,
   "metadata": {
    "collapsed": true
   },
   "outputs": [
    {
     "name": "stdout",
     "output_type": "stream",
     "text": [
      "purple\n",
      "yellow\n",
      "['green', 1000]\n",
      "['green', 1000, 'white', 'pink', 'yellow']\n",
      "[False, 1000, 'pink'] \n",
      "\n",
      "['yellow', 'pink', 'white', 1000, 'green', False, 'red']\n",
      "['green', 'red', 'white']\n",
      "['red', False, 'green', 1000, 'white', 'pink', 'yellow', 'red', False, 'green', 1000, 'white', 'pink', 'yellow']\n",
      "['red', False, 'green', 1000, 'white', 'pink', 'yellow', 'yellow', 'pink', 'white', 1000, 'green', False, 'red'] \n",
      "\n",
      "[0, 1, 2, 3]\n"
     ]
    },
    {
     "data": {
      "text/plain": [
       "list"
      ]
     },
     "execution_count": 13,
     "metadata": {},
     "output_type": "execute_result"
    }
   ],
   "source": [
    "colors = ['red', False, 'green', 1000, 'white']\n",
    "colors.append('pink')\n",
    "colors.extend(['yellow', 'purple']) # extend list\n",
    "\n",
    "print(colors.pop()) # remove & return last item\n",
    "print(colors[-1])\n",
    "print(colors[2:4])\n",
    "print(colors[2:])\n",
    "print(colors[1:6:2], '\\n') # begin:end:step\n",
    "\n",
    "rcolors = colors[::-1] # reverse\n",
    "print(rcolors)\n",
    "print(sorted(rcolors[2::2]))\n",
    "print(colors*2)\n",
    "print(colors+rcolors, '\\n')\n",
    "\n",
    "l = [i for i in range(4)]\n",
    "print(l)\n",
    "type(colors)"
   ]
  },
  {
   "cell_type": "markdown",
   "metadata": {},
   "source": [
    "###### Tuples\n",
    "##### (immutable lists)"
   ]
  },
  {
   "cell_type": "code",
   "execution_count": 14,
   "metadata": {
    "collapsed": true
   },
   "outputs": [
    {
     "name": "stdout",
     "output_type": "stream",
     "text": [
      "('a', 100, 'b') (0, 2, 'c') a\n"
     ]
    },
    {
     "data": {
      "text/plain": [
       "tuple"
      ]
     },
     "execution_count": 14,
     "metadata": {},
     "output_type": "execute_result"
    }
   ],
   "source": [
    "t = 'a', 100, 'b'\n",
    "t2 = (0, 2, 'c')\n",
    "print(t, t2, t[0])\n",
    "type(t)"
   ]
  },
  {
   "cell_type": "markdown",
   "metadata": {},
   "source": [
    "###### Strings\n",
    "##### (behave like immutable lists)"
   ]
  },
  {
   "cell_type": "code",
   "execution_count": 15,
   "metadata": {
    "collapsed": true
   },
   "outputs": [
    {
     "name": "stdout",
     "output_type": "stream",
     "text": [
      "multi\n",
      "line\n",
      "string\n",
      "An integer: 1; a float: 0.100; a string: string\n",
      "hellohezlo hezlohezlo hlo\n"
     ]
    },
    {
     "data": {
      "text/plain": [
       "str"
      ]
     },
     "execution_count": 15,
     "metadata": {},
     "output_type": "execute_result"
    }
   ],
   "source": [
    "s = '''multi line\n",
    "string'''\n",
    "for word in s.split():\n",
    "    print(word)\n",
    "\n",
    "s = 'hello'\n",
    "s2 = s.replace('l', 'z', 1)\n",
    "s3 = 'An integer: %i; a float: %.3f; a string: %s' % (1, 0.1, 'string')\n",
    "\n",
    "print(s3)\n",
    "print(s + s2, s2*2, s[::2])\n",
    "type(s)"
   ]
  },
  {
   "cell_type": "markdown",
   "metadata": {},
   "source": [
    "###### Dictionaries\n",
    "##### (unordered)"
   ]
  },
  {
   "cell_type": "code",
   "execution_count": 16,
   "metadata": {
    "collapsed": true
   },
   "outputs": [
    {
     "name": "stdout",
     "output_type": "stream",
     "text": [
      "a 0.1\n",
      "b 0.2\n",
      "3 c\n",
      "d 100\n",
      "\n",
      "{'a': 0.1, 'b': 0.2, 3: 'c', 'd': 100}\n",
      "dict_keys(['a', 'b', 3, 'd'])\n",
      "dict_values([0.1, 0.2, 'c', 100])\n",
      "0.2 True\n"
     ]
    },
    {
     "data": {
      "text/plain": [
       "dict"
      ]
     },
     "execution_count": 16,
     "metadata": {},
     "output_type": "execute_result"
    }
   ],
   "source": [
    "d = {'a': 0.1, 'b': 0.2, 3: 'c'}\n",
    "d['d'] = 100\n",
    "\n",
    "for key, val in d.items():\n",
    "    print(key, val)\n",
    "print()\n",
    "\n",
    "print(d)\n",
    "print(d.keys())\n",
    "print(d.values())\n",
    "print(d['b'], 'b' in d)\n",
    "type(d)"
   ]
  },
  {
   "cell_type": "markdown",
   "metadata": {},
   "source": [
    "###### Sets\n",
    "##### (unordered - unique items)"
   ]
  },
  {
   "cell_type": "code",
   "execution_count": 17,
   "metadata": {
    "collapsed": true
   },
   "outputs": [
    {
     "name": "stdout",
     "output_type": "stream",
     "text": [
      "{'c', 'a', 'b'}\n",
      "{'c'}\n"
     ]
    },
    {
     "data": {
      "text/plain": [
       "set"
      ]
     },
     "execution_count": 17,
     "metadata": {},
     "output_type": "execute_result"
    }
   ],
   "source": [
    "s = set(('a', 'b', 'c', 'a')) # only 1 'a'\n",
    "print(s)\n",
    "print(s.difference(('a', 'b')))\n",
    "type(s)"
   ]
  },
  {
   "cell_type": "markdown",
   "metadata": {},
   "source": [
    "###### Control Flow"
   ]
  },
  {
   "cell_type": "code",
   "execution_count": 18,
   "metadata": {
    "collapsed": true
   },
   "outputs": [
    {
     "name": "stdout",
     "output_type": "stream",
     "text": [
      "[0, 1, 2, 3] [0, 1, 2, 3] [0, 1, 2, 3] [0, 1, 2, 3]\n",
      "[0, 'a', 2, 3] [0, 'a', 2, 3] [0, 1, 'b', 3] [0, 1, 2, 'c']\n",
      "True\n",
      "True\n",
      "True\n",
      "False\n"
     ]
    }
   ],
   "source": [
    "x = [0, 1, 2, 3]\n",
    "y = x # pointer copy\n",
    "w = x[:] # shallow copy (creates different object)\n",
    "z = copy.deepcopy(x) # (creates different object)\n",
    "\n",
    "print(x, y, w, z)\n",
    "x[1] = 'a'\n",
    "w[2] = 'b'\n",
    "z[3] = 'c'\n",
    "print(x, y, w, z)\n",
    "\n",
    "print(2 in x)\n",
    "print(x is y)\n",
    "print(1 is 1)\n",
    "print(1 is 1.0)"
   ]
  },
  {
   "cell_type": "code",
   "execution_count": 19,
   "metadata": {
    "collapsed": true
   },
   "outputs": [
    {
     "name": "stdout",
     "output_type": "stream",
     "text": [
      "else\n"
     ]
    }
   ],
   "source": [
    "x = 1\n",
    "if x == -1:\n",
    "    print('if')\n",
    "elif x >= 2:\n",
    "    print('elif')\n",
    "else:\n",
    "    print('else')"
   ]
  },
  {
   "cell_type": "code",
   "execution_count": 20,
   "metadata": {
    "collapsed": true
   },
   "outputs": [
    {
     "name": "stdout",
     "output_type": "stream",
     "text": [
      "0 h a\t0 h c\t0 a a\t0 a c\t0 t a\t0 t c\t1 h a\t1 h c\t1 a a\t1 a c\t1 t a\t1 t c\t\n",
      "\n",
      "0 a\n",
      "1 b\n",
      "2 c\n"
     ]
    }
   ],
   "source": [
    "for x in range(2):\n",
    "    for y in 'hat':\n",
    "        for z in ('a', 'b', 'c'):\n",
    "            \n",
    "            if z == 'b':\n",
    "                continue    \n",
    "            print('%d %s %s' % (x, y, z), end='\\t')\n",
    "print('\\n')\n",
    "\n",
    "for index, item in enumerate(['a', 'b', 'c']):\n",
    "    print(index, item)"
   ]
  },
  {
   "cell_type": "code",
   "execution_count": 21,
   "metadata": {
    "collapsed": true
   },
   "outputs": [
    {
     "name": "stdout",
     "output_type": "stream",
     "text": [
      "8\n"
     ]
    }
   ],
   "source": [
    "z = 0\n",
    "while z < 10:\n",
    "    if z == 8:\n",
    "        break\n",
    "    z += 1\n",
    "print(z)"
   ]
  },
  {
   "cell_type": "markdown",
   "metadata": {},
   "source": [
    "###### Functions\n",
    "##### (if default values are mutable types, changes persist in next calls)"
   ]
  },
  {
   "cell_type": "code",
   "execution_count": 22,
   "metadata": {
    "collapsed": true
   },
   "outputs": [
    {
     "name": "stdout",
     "output_type": "stream",
     "text": [
      "1\n"
     ]
    }
   ],
   "source": [
    "x = 10\n",
    "def func(y):\n",
    "    global x # to modify var inside function\n",
    "    x = 1\n",
    "\n",
    "func(x)\n",
    "print(x)"
   ]
  },
  {
   "cell_type": "markdown",
   "metadata": {},
   "source": [
    "##### *args: any number of positional args in tuple\n",
    "##### **kwargs: any number of keyword args in dictionary"
   ]
  },
  {
   "cell_type": "code",
   "execution_count": 23,
   "metadata": {
    "collapsed": true
   },
   "outputs": [
    {
     "name": "stdout",
     "output_type": "stream",
     "text": [
      "('F', 2)\n",
      "{'a': 1, 'b': 2, 'c': 3}\n"
     ]
    }
   ],
   "source": [
    "def func(*args, **kwargs):\n",
    "    \"\"\"Concise one-line sentence describing function.\n",
    "\n",
    "    Extended summary.\n",
    "    \"\"\"\n",
    "    print(args)\n",
    "    print(kwargs)\n",
    "\n",
    "f = func # functions are objects: can be assigned or passed as arg\n",
    "f('F', 2, a=1, b=2, c=3)\n",
    "type(func)\n",
    "func?"
   ]
  },
  {
   "cell_type": "code",
   "execution_count": 24,
   "metadata": {
    "collapsed": true
   },
   "outputs": [
    {
     "name": "stdout",
     "output_type": "stream",
     "text": [
      "30 6 [5, 5, 5, 5, 5, 5]\n"
     ]
    }
   ],
   "source": [
    "func = lambda x, y: x * y # anonymous function\n",
    "func2 = lambda a, b: a if (a > b) else b\n",
    "func3 = lambda a, b: [a for i in range(b)]\n",
    "\n",
    "print(func(5, 6), func2(5, 6), func3(5, 6))"
   ]
  },
  {
   "cell_type": "markdown",
   "metadata": {},
   "source": [
    "###### Input / Output"
   ]
  },
  {
   "cell_type": "markdown",
   "metadata": {},
   "source": [
    "    Read-only: r\n",
    "    Write-only: w (creates/overwrites file)\n",
    "    Append: a\n",
    "    Read and Write: r+\n",
    "    Binary mode: b (for binary files)"
   ]
  },
  {
   "cell_type": "code",
   "execution_count": 25,
   "metadata": {
    "collapsed": true
   },
   "outputs": [
    {
     "data": {
      "text/plain": [
       "_io.TextIOWrapper"
      ]
     },
     "execution_count": 25,
     "metadata": {},
     "output_type": "execute_result"
    }
   ],
   "source": [
    "f = open('testfile.txt', 'w')\n",
    "f.write('Test \\nfile')\n",
    "f.close()\n",
    "\n",
    "type(f)"
   ]
  },
  {
   "cell_type": "code",
   "execution_count": 450,
   "metadata": {},
   "outputs": [
    {
     "name": "stdout",
     "output_type": "stream",
     "text": [
      "<_io.TextIOWrapper name='testfile.txt' mode='r' encoding='UTF-8'>\n",
      "Test \n",
      "file\n"
     ]
    }
   ],
   "source": [
    "f = open('testfile.txt', 'r')\n",
    "s = f.read() # f reaches EOF\n",
    "print(s)\n",
    "\n",
    "for line in f: # f starts at EOF because of f.read() -> does nothing\n",
    "     print(line)\n",
    "\n",
    "f.close()"
   ]
  },
  {
   "cell_type": "code",
   "execution_count": 27,
   "metadata": {
    "collapsed": true
   },
   "outputs": [],
   "source": [
    "l1 = [1, None, 'a']\n",
    "pickle.dump(l1, open('stored_obj.pkl', 'wb')) # store object in binary file"
   ]
  },
  {
   "cell_type": "code",
   "execution_count": 28,
   "metadata": {
    "collapsed": true
   },
   "outputs": [
    {
     "data": {
      "text/plain": [
       "[1, None, 'a']"
      ]
     },
     "execution_count": 28,
     "metadata": {},
     "output_type": "execute_result"
    }
   ],
   "source": [
    "l2 = pickle.load(open('stored_obj.pkl', 'rb'))\n",
    "l2"
   ]
  },
  {
   "cell_type": "markdown",
   "metadata": {},
   "source": [
    "##### NumPy Input / Output"
   ]
  },
  {
   "cell_type": "code",
   "execution_count": 492,
   "metadata": {
    "collapsed": true
   },
   "outputs": [
    {
     "name": "stdout",
     "output_type": "stream",
     "text": [
      "[0 1 2 3 4 5 6 7 8 9]\n",
      "[0 1 2 3 4 5 6 7 8 9]\n",
      "[0 1 2 3 4 5 6 7 8 9]\n"
     ]
    }
   ],
   "source": [
    "a = np.arange(10)\n",
    "np.savetxt('testfile2.txt', a, '%i',\n",
    "           header='header \\nsubheader',\n",
    "           footer='footer')\n",
    "np.save('testfile3.npy', data) # not portable but efficient\n",
    "\n",
    "data  = np.loadtxt('testfile2.txt', int)\n",
    "data2 = np.genfromtxt('testfile2.txt', int) # for incomplete data\n",
    "data3 = np.load('testfile3.npy')\n",
    "print(data, data2, data3, sep='\\n')"
   ]
  },
  {
   "cell_type": "code",
   "execution_count": 506,
   "metadata": {
    "collapsed": true
   },
   "outputs": [
    {
     "name": "stdout",
     "output_type": "stream",
     "text": [
      "(383, 610, 3) float32\n"
     ]
    },
    {
     "data": {
      "image/png": "[encoded data removed]",
      "text/plain": [
       "<Figure size 432x288 with 1 Axes>"
      ]
     },
     "metadata": {
      "needs_background": "light"
     },
     "output_type": "display_data"
    }
   ],
   "source": [
    "img = plt.imread('elephant.png')\n",
    "print(img.shape, img.dtype)\n",
    "\n",
    "plt.imshow(img)\n",
    "plt.savefig('elephant_plot.png')\n",
    "plt.imsave('elephant_gray.png', img[:,:,0], cmap=plt.cm.gray)\n",
    "plt.show()"
   ]
  },
  {
   "cell_type": "markdown",
   "metadata": {},
   "source": [
    "###### Exceptions"
   ]
  },
  {
   "cell_type": "code",
   "execution_count": 29,
   "metadata": {
    "collapsed": true
   },
   "outputs": [
    {
     "name": "stdout",
     "output_type": "stream",
     "text": [
      "Enter a number: a\n",
      "Not a valid number. Try again.\n",
      "Enter a number: 2.1\n",
      "2.1\n"
     ]
    }
   ],
   "source": [
    "# try/except block\n",
    "while True:\n",
    "    try:\n",
    "        x = float(input('Enter a number: '))\n",
    "        break\n",
    "    except ValueError:\n",
    "        print('Not a valid number. Try again.')\n",
    "print(x)"
   ]
  },
  {
   "cell_type": "code",
   "execution_count": 30,
   "metadata": {
    "collapsed": true
   },
   "outputs": [
    {
     "name": "stdout",
     "output_type": "stream",
     "text": [
      "Enter a name: João\n",
      "OK, João\n",
      "João\n"
     ]
    }
   ],
   "source": [
    "# capture and reraise exception\n",
    "name = input('Enter a name: ')\n",
    "try:\n",
    "    name = name.encode('ascii')\n",
    "except UnicodeError as e:\n",
    "    if name == 'João':\n",
    "        print('OK, João')\n",
    "    else:\n",
    "        raise e\n",
    "print(name)"
   ]
  },
  {
   "cell_type": "markdown",
   "metadata": {},
   "source": [
    "###### Classes"
   ]
  },
  {
   "cell_type": "code",
   "execution_count": 31,
   "metadata": {
    "collapsed": true
   },
   "outputs": [
    {
     "name": "stdout",
     "output_type": "stream",
     "text": [
      "I am João, 22 year old student. I study Physics\n"
     ]
    }
   ],
   "source": [
    "class Student(object): # base class\n",
    "    status = 'student' # attribute\n",
    "\n",
    "    def __init__(self, name, age=0, major=None):\n",
    "        self.name = name\n",
    "        self.age = age\n",
    "        self.major = major\n",
    "    def set_age(self, age): # method\n",
    "        self.age = age\n",
    "    def set_major(self, major):\n",
    "        self.major = major\n",
    "    def get_bio(self):\n",
    "        print('I am %s, %i year old %s. I study %s' \\\n",
    "              % (self.name,self.age,self.status,self.major))\n",
    "\n",
    "joao = Student('João')\n",
    "joao.set_age(22)\n",
    "joao.set_major('Physics')\n",
    "joao.get_bio()"
   ]
  },
  {
   "cell_type": "code",
   "execution_count": 32,
   "metadata": {
    "collapsed": true
   },
   "outputs": [
    {
     "name": "stdout",
     "output_type": "stream",
     "text": [
      "I am James, 23 year old student. I study Maths and am doing my thesis in QuInfo\n"
     ]
    }
   ],
   "source": [
    "class MasterStudent(Student): # inheritance from Student class\n",
    "    def __init__(self, name, age=0, major=None, thesis=None):\n",
    "        # if ommited, parent __init__ is used\n",
    "        Student.__init__(self, name, age, major) # initialize parent object\n",
    "        self.thesis = thesis\n",
    "    def set_thesis(self, thesis):\n",
    "        self.thesis = thesis\n",
    "    def get_bio(self):\n",
    "        print('I am %s, %i year old %s. I study %s and am doing my thesis in %s' \\\n",
    "              % (self.name,self.age,self.status,self.major,self.thesis))\n",
    "\n",
    "james = MasterStudent('James', 23, 'Maths', 'QuInfo')\n",
    "james.get_bio()"
   ]
  },
  {
   "cell_type": "markdown",
   "metadata": {},
   "source": [
    "## 1.3. NumPy: numerical data"
   ]
  },
  {
   "cell_type": "markdown",
   "metadata": {},
   "source": [
    "###### NumPy arrays\n",
    "##### (faster than lists - easier to manipulate - only allow one data type)"
   ]
  },
  {
   "cell_type": "code",
   "execution_count": 33,
   "metadata": {
    "collapsed": true
   },
   "outputs": [],
   "source": [
    "# np.lookfor('create array') # keyword search on docstrings"
   ]
  },
  {
   "cell_type": "code",
   "execution_count": 34,
   "metadata": {
    "collapsed": true
   },
   "outputs": [
    {
     "name": "stdout",
     "output_type": "stream",
     "text": [
      "266 µs ± 27 µs per loop (mean ± std. dev. of 7 runs, 1000 loops each)\n",
      "1.49 µs ± 130 ns per loop (mean ± std. dev. of 7 runs, 1000000 loops each)\n"
     ]
    }
   ],
   "source": [
    "L = range(1000)\n",
    "%timeit [i**2 for i in L]\n",
    "\n",
    "a = np.array(L)\n",
    "%timeit a**2 # only faster for big arrays"
   ]
  },
  {
   "cell_type": "code",
   "execution_count": 181,
   "metadata": {
    "collapsed": true
   },
   "outputs": [
    {
     "name": "stdout",
     "output_type": "stream",
     "text": [
      "1 6 (6,)\n",
      "2 2 (2, 3)\n",
      "3 2 (2, 2, 1) \n",
      "\n",
      "[0 2 2 3 4 5]\n",
      "[0.1 2.1 2.1 3.1 4.1 5.1]\n",
      "[0. 2. 2. 3. 4. 5.]\n",
      "[0. 2. 2. 3. 4. 5.]\n",
      "\n",
      "4 4 \n",
      "\n",
      "[[0 1 2]\n",
      " [3 4 5]]\n",
      "[[3 4 5]\n",
      " [0 1 2]]\n"
     ]
    },
    {
     "data": {
      "text/plain": [
       "numpy.ndarray"
      ]
     },
     "execution_count": 181,
     "metadata": {},
     "output_type": "execute_result"
    }
   ],
   "source": [
    "a = np.array([0, 1, 2, 3, 4, 5])\n",
    "b = np.array([[0, 1, 2], [3, 4, 5]])\n",
    "c = np.array([[[1], [2]], [[3], [4]]])\n",
    "\n",
    "print(a.ndim, len(a), a.shape)\n",
    "print(b.ndim, len(b), b.shape)\n",
    "print(c.ndim, len(c), c.shape, '\\n')\n",
    "\n",
    "a[1] = 2.8  # float truncated to int\n",
    "d = a + 0.1 # a changes to floats\n",
    "e = a.astype(float)\n",
    "f = np.around(d, 0) # rounds to 0 decimals. Still floats!\n",
    "print(a, d, e, f, '', sep='\\n')\n",
    "\n",
    "print(b[1,1], b[1][1], '\\n') # same!\n",
    "\n",
    "br = b[::-1] # reverse lines\n",
    "print(b, br, sep='\\n')\n",
    "type(a)"
   ]
  },
  {
   "cell_type": "markdown",
   "metadata": {},
   "source": [
    "##### Evenly spaced"
   ]
  },
  {
   "cell_type": "code",
   "execution_count": 36,
   "metadata": {
    "collapsed": true
   },
   "outputs": [
    {
     "name": "stdout",
     "output_type": "stream",
     "text": [
      "[1 3 5 7]\n"
     ]
    }
   ],
   "source": [
    "a = np.arange(10) # end\n",
    "b = np.arange(1, 9, 2) # start, end (exclusive), step\n",
    "print(b)"
   ]
  },
  {
   "cell_type": "markdown",
   "metadata": {},
   "source": [
    "##### By number of points"
   ]
  },
  {
   "cell_type": "code",
   "execution_count": 37,
   "metadata": {
    "collapsed": true
   },
   "outputs": [
    {
     "name": "stdout",
     "output_type": "stream",
     "text": [
      "[0.  0.2 0.4 0.6 0.8 1. ]\n"
     ]
    }
   ],
   "source": [
    "a = np.linspace(0, 1, 6) # start, end (inclusive), num-points\n",
    "b = np.linspace(0, 1, 5, endpoint=False)\n",
    "print(a)"
   ]
  },
  {
   "cell_type": "markdown",
   "metadata": {},
   "source": [
    "##### Common matrices"
   ]
  },
  {
   "cell_type": "code",
   "execution_count": 38,
   "metadata": {
    "collapsed": true
   },
   "outputs": [
    {
     "name": "stdout",
     "output_type": "stream",
     "text": [
      "[[1. 1. 1.]\n",
      " [1. 1. 1.]\n",
      " [1. 1. 1.]]\n",
      "\n",
      "[[0. 0.]\n",
      " [0. 0.]]\n",
      "\n",
      "[[1. 0. 0.]\n",
      " [0. 1. 0.]\n",
      " [0. 0. 1.]]\n",
      "\n",
      "[[1 0 0 0]\n",
      " [0 2 0 0]\n",
      " [0 0 3 0]\n",
      " [0 0 0 4]]\n",
      "\n",
      "[[0. 1. 1.]\n",
      " [0. 0. 1.]\n",
      " [0. 0. 0.]]\n",
      "\n",
      "[[0. 0. 0.]\n",
      " [1. 0. 0.]\n",
      " [1. 1. 2.]]\n",
      "\n",
      "[[0. 1. 1.]\n",
      " [0. 0. 1.]\n",
      " [0. 0. 2.]]\n",
      "\n",
      "[[0.  0.2 0.4]\n",
      " [0.6 0.8 1. ]]\n"
     ]
    }
   ],
   "source": [
    "a = np.ones((3, 3))\n",
    "b = np.zeros((2, 2))\n",
    "c = np.eye(3) # 3x3 identity\n",
    "d = np.diag([1, 2, 3, 4])\n",
    "e = np.triu(a, 1) # zeros below 1st diagonal\n",
    "f = np.tril(a, -1) # zeros above -1st diagonal\n",
    "\n",
    "f2 = f.T # same as np.transpose(f) -> creates view!\n",
    "f2[2,2] = 2 # also in f!\n",
    "\n",
    "g = np.empty((2,3)) # does not initialize entries!\n",
    "print(a, b, c, d, e, f, f2, g, sep='\\n\\n')"
   ]
  },
  {
   "cell_type": "markdown",
   "metadata": {},
   "source": [
    "##### Tiles"
   ]
  },
  {
   "cell_type": "code",
   "execution_count": 224,
   "metadata": {
    "collapsed": true
   },
   "outputs": [
    {
     "name": "stdout",
     "output_type": "stream",
     "text": [
      "[[1 2 1 2 1 2]\n",
      " [3 4 3 4 3 4]\n",
      " [1 2 1 2 1 2]\n",
      " [3 4 3 4 3 4]]\n"
     ]
    }
   ],
   "source": [
    "a = np.array([[1, 2], [3, 4]])\n",
    "b = np.tile(a, (2,3))\n",
    "print(b)"
   ]
  },
  {
   "cell_type": "markdown",
   "metadata": {},
   "source": [
    "##### Random"
   ]
  },
  {
   "cell_type": "code",
   "execution_count": 222,
   "metadata": {
    "collapsed": true
   },
   "outputs": [
    {
     "name": "stdout",
     "output_type": "stream",
     "text": [
      "[[0.015 0.672]\n",
      " [0.549 0.284]\n",
      " [0.069 0.101]]\n",
      "\n",
      "[[0.098 0.602]\n",
      " [1.217 0.729]]\n",
      "\n",
      "[[[9 4]\n",
      "  [5 1]]\n",
      "\n",
      " [[8 4]\n",
      "  [3 5]]\n",
      "\n",
      " [[4 3]\n",
      "  [3 7]]]\n",
      "\n",
      "\n",
      "[[[4 3]\n",
      "  [3 7]]\n",
      "\n",
      " [[8 4]\n",
      "  [3 5]]\n",
      "\n",
      " [[9 4]\n",
      "  [5 1]]]\n"
     ]
    }
   ],
   "source": [
    "np.random.seed()         # uses current time as seed\n",
    "a = np.random.rand(3,2)  # uniform in [0, 1]\n",
    "b = np.random.randn(2,2) # Gaussian\n",
    "c = np.random.randint(1, 10, (3,2,2))\n",
    "print(a, b, c, '', sep='\\n\\n')\n",
    "\n",
    "np.random.shuffle(c) # random swap of 1st axis. In-place!\n",
    "print(c)"
   ]
  },
  {
   "cell_type": "markdown",
   "metadata": {},
   "source": [
    "##### Structured type"
   ]
  },
  {
   "cell_type": "code",
   "execution_count": 180,
   "metadata": {
    "collapsed": true
   },
   "outputs": [
    {
     "name": "stdout",
     "output_type": "stream",
     "text": [
      "[(b'1', 1, 1.) (b'ban', 2, 2.) (b'', 0, 0.) (b'', 0, 0.)]\n"
     ]
    },
    {
     "data": {
      "text/plain": [
       "dtype([('a', 'S3'), ('b', '<i8'), ('c', '<f8')])"
      ]
     },
     "execution_count": 180,
     "metadata": {},
     "output_type": "execute_result"
    }
   ],
   "source": [
    "a = np.zeros((4,), dtype=[('a', 'S3'), # up to 3 characters\n",
    "                          ('b', int),\n",
    "                          ('c', float)])\n",
    "a[0] = 1\n",
    "a[1][0] = 'banana'\n",
    "a[1][1] = 2\n",
    "a[1][2] = 2\n",
    "\n",
    "print(a)\n",
    "a.dtype"
   ]
  },
  {
   "cell_type": "markdown",
   "metadata": {},
   "source": [
    "##### Copies /  Views"
   ]
  },
  {
   "cell_type": "code",
   "execution_count": 41,
   "metadata": {
    "collapsed": true
   },
   "outputs": [
    {
     "name": "stdout",
     "output_type": "stream",
     "text": [
      "True False\n",
      "[12  1  2  3  4  5  6  7  8  9]\n",
      "[12  2  4  6  8]\n",
      "[0 2 4 6 8]\n"
     ]
    }
   ],
   "source": [
    "a = np.arange(10)\n",
    "b = a[::2] # creates a \"view\" -> way of accessing data (only in numpy!)\n",
    "c = a[::2].copy() # creates different object\n",
    "\n",
    "a[0] = 12\n",
    "print(np.may_share_memory(a, b), \\\n",
    "      np.may_share_memory(a, c))\n",
    "print(a, b, c, sep='\\n')"
   ]
  },
  {
   "cell_type": "markdown",
   "metadata": {},
   "source": [
    "##### Comparisons"
   ]
  },
  {
   "cell_type": "code",
   "execution_count": 42,
   "metadata": {
    "collapsed": true
   },
   "outputs": [
    {
     "name": "stdout",
     "output_type": "stream",
     "text": [
      "[False  True False  True]\n",
      "False True\n",
      "True\n",
      "[ True  True  True False]\n",
      "[ True False False False]\n",
      "False False\n",
      "True True\n"
     ]
    }
   ],
   "source": [
    "a = np.array([1, 2, 3, 4])\n",
    "b = np.array([4, 2, 2, 4])\n",
    "c = np.array([1, 2, 3, 4])\n",
    "d = np.array([1, 2.1, 3, 4.15])\n",
    "\n",
    "# element-wise\n",
    "print(a == b)\n",
    "\n",
    "# array-wise\n",
    "print(np.array_equal(a, b), np.array_equal(a, c))\n",
    "print(np.allclose(a, d, rtol=0.02, atol=0.08)) # elements equal within tolerance\n",
    "# a[i]-d[i] == atol+rtol*d[i]\n",
    "\n",
    "# logical\n",
    "a = np.array([1, 1, 0, 0])\n",
    "b = np.array([1, 0, 1, 0])\n",
    "print(np.logical_or(a, b), np.logical_and(a, b), sep='\\n')\n",
    "print(np.all(a), a.all()) # same!\n",
    "print(np.any(a), a.any()) # same!"
   ]
  },
  {
   "cell_type": "markdown",
   "metadata": {},
   "source": [
    "##### Masks"
   ]
  },
  {
   "cell_type": "code",
   "execution_count": 229,
   "metadata": {
    "collapsed": true
   },
   "outputs": [
    {
     "name": "stdout",
     "output_type": "stream",
     "text": [
      "[ True False False  True  True  True False False False False False False\n",
      " False  True False]\n",
      "[ 9  4 10  3 18  6  5  7 14  7 10  2  5  3  2]\n",
      "[ 9  3 18  6  3]\n",
      "[-1  4 10 -1 -1 -1  5  7 14  7 10  2  5 -1  2]\n"
     ]
    }
   ],
   "source": [
    "a = np.random.randint(0, 21, 15)\n",
    "mask = (a % 3 == 0) # boolean mask (element-wise comparison)\n",
    "\n",
    "b = a[mask]\n",
    "print(mask, a, b, sep='\\n')\n",
    "\n",
    "a[mask] = -1\n",
    "print(a)"
   ]
  },
  {
   "cell_type": "code",
   "execution_count": 44,
   "metadata": {
    "collapsed": true
   },
   "outputs": [
    {
     "name": "stdout",
     "output_type": "stream",
     "text": [
      "[ 0 10 20 30 40 50 60 70 80 90]\n",
      "[[20 30 20]\n",
      " [40 20 50]]\n",
      "[ 0 -1 20 30 40 -1 60 -1 80 -1]\n"
     ]
    }
   ],
   "source": [
    "a = np.arange(0, 100, 10)\n",
    "\n",
    "mask = np.array([[2, 3, 2], [4, 2, 5]]) # int mask -> can have any shape if np.array\n",
    "b = a[mask]\n",
    "print(a, b, sep='\\n')\n",
    "\n",
    "mask2 = [9, 5, 7, 1] # list mask can only be 1D\n",
    "a[mask2] = -1\n",
    "print(a)"
   ]
  },
  {
   "cell_type": "code",
   "execution_count": 265,
   "metadata": {
    "collapsed": true
   },
   "outputs": [
    {
     "name": "stdout",
     "output_type": "stream",
     "text": [
      "[0 1 9 3]\n",
      "[0 -- 9 --]\n",
      "[0 1 -- --]\n",
      "[0 -- -- --]\n",
      "[0 1 9 3] \n",
      "\n",
      "[0 1 9 3]\n",
      "[False  True False  True]\n",
      "4.5\n",
      "\n",
      "[1.0 0.0 -- 1.4142135623730951]\n",
      "[0.0 -- -- 0.6931471805599453]\n"
     ]
    }
   ],
   "source": [
    "a = np.arange(4)\n",
    "b = np.ma.array(a, mask=[0, 1, 1, 0]) # view!\n",
    "c = np.ma.array(a, mask=[0, 0, 1, 1])\n",
    "\n",
    "b[2] = 9 # clears entry mask\n",
    "b[3] = np.ma.masked # masks entry\n",
    "b.filled(-1) # fill masked entries\n",
    "print(a, b, c, b + c, sep='\\n')\n",
    "c.mask = np.ma.nomask # removes mask\n",
    "print(c, '\\n')\n",
    "\n",
    "print(b.data, b.mask, b.mean(), '', sep='\\n') # not all methods respect masks!\n",
    "\n",
    "d = np.ma.sqrt([1, 0, -1, 2]) # masks invalid results\n",
    "e = np.ma.log([1, 0, -1, 2])\n",
    "print(d, e, sep='\\n')"
   ]
  },
  {
   "cell_type": "markdown",
   "metadata": {},
   "source": [
    "##### Element-wise operations"
   ]
  },
  {
   "cell_type": "code",
   "execution_count": 45,
   "metadata": {
    "collapsed": true
   },
   "outputs": [
    {
     "name": "stdout",
     "output_type": "stream",
     "text": [
      "[1 2 3 4 5]\n",
      "[ 2  4  8 16 32]\n",
      "[  2   8  24  64 160]\n",
      "\n",
      "[ 0.84147098  0.90929743  0.14112001 -0.7568025  -0.95892427]\n",
      "[0.         0.69314718 1.09861229 1.38629436 1.60943791]\n",
      "[  2.71828183   7.3890561   20.08553692  54.59815003 148.4131591 ]\n",
      "\n",
      "[1 2 9 9 9]\n"
     ]
    }
   ],
   "source": [
    "a = np.arange(5) \n",
    "a += 1\n",
    "b = 2**a\n",
    "c = a*b\n",
    "print(a, b, c, '', sep='\\n')\n",
    "\n",
    "print(np.sin(a), np.log(a), np.exp(a), '', sep='\\n')\n",
    "\n",
    "a[2:] = 9 # assigns to all elements\n",
    "print(a)"
   ]
  },
  {
   "cell_type": "markdown",
   "metadata": {},
   "source": [
    "##### Sums & other operations"
   ]
  },
  {
   "cell_type": "code",
   "execution_count": 46,
   "metadata": {
    "collapsed": true
   },
   "outputs": [
    {
     "name": "stdout",
     "output_type": "stream",
     "text": [
      "40 40\n",
      "[ 6  8 10 16]\n",
      "[14 26]\n",
      "[ 1  3  6 14 19 25 32 40]\n",
      "[32 44]\n",
      "\n",
      "5.0 5.5 2.5495097567963922\n",
      "[3.5 6.5]\n"
     ]
    }
   ],
   "source": [
    "a = np.array([[1, 2, 3, 8], [5, 6, 7, 8]])\n",
    "b = np.arange(4)\n",
    "\n",
    "print(np.sum(a), a.sum()) # same!\n",
    "print(a.sum(0)) # sum each column\n",
    "print(a.sum(1)) # sum each row\n",
    "print(np.cumsum(a))\n",
    "print(a.dot(b)) # matrix multiplication (dot product)\n",
    "print()\n",
    "\n",
    "print(a.mean(), np.median(a), a.std())\n",
    "print(np.mean(a, -1)) # last axis"
   ]
  },
  {
   "cell_type": "markdown",
   "metadata": {},
   "source": [
    "##### Extrema"
   ]
  },
  {
   "cell_type": "code",
   "execution_count": 47,
   "metadata": {
    "collapsed": true
   },
   "outputs": [
    {
     "name": "stdout",
     "output_type": "stream",
     "text": [
      "1 8\n",
      "0 3\n",
      "[5 6 7 8] [1 1 1 0]\n",
      "[8 8] [3 3]\n"
     ]
    }
   ],
   "source": [
    "a = np.array([[1, 2, 3, 8], [5, 6, 7, 8]])\n",
    "print(a.min(), a.max())\n",
    "print(a.argmin(), a.argmax()) # extrema's flattened index (only 1st extrema)\n",
    "print(a.max(0), a.argmax(0)) # columns' extrema\n",
    "print(a.max(1), a.argmax(1)) # rows' extrema"
   ]
  },
  {
   "cell_type": "markdown",
   "metadata": {},
   "source": [
    "##### Shape manipulation"
   ]
  },
  {
   "cell_type": "code",
   "execution_count": 48,
   "metadata": {
    "collapsed": true
   },
   "outputs": [
    {
     "name": "stdout",
     "output_type": "stream",
     "text": [
      "[[0 1 2]\n",
      " [3 4 5]]\n",
      "\n",
      "[0 1 2 3 4 5]\n",
      "\n",
      "[0 1 2 3 4 5]\n",
      "\n",
      "[0 3 1 4 2 5]\n",
      "\n",
      "\n",
      "(2, 3) (3, 2)\n",
      "5 5\n"
     ]
    }
   ],
   "source": [
    "# reshape returns view/copy \"randomly\"\n",
    "a = np.arange(6).reshape((2, -1)) # size -1 is inferred\n",
    "b = a.flatten() # Copy!\n",
    "print(a, b, a.ravel(), a.T.ravel(), '', sep='\\n\\n') # last dim ravels “first”. View!\n",
    "\n",
    "c = a.transpose(1, 0) # swaps dim. View!\n",
    "print(a.shape, c.shape)\n",
    "print(a[1, 2], c[2, 1])"
   ]
  },
  {
   "cell_type": "code",
   "execution_count": 49,
   "metadata": {
    "collapsed": true
   },
   "outputs": [
    {
     "name": "stdout",
     "output_type": "stream",
     "text": [
      "[[0 1 2 3]]\n",
      "[[0]\n",
      " [1]\n",
      " [2]\n",
      " [3]] \n",
      "\n",
      "[[0 1 2 3 0 1 2 3]\n",
      " [0 1 2 3 0 1 2 3]] \n",
      "\n",
      "[[0 1 2 3 0 0 0 0]\n",
      " [0 0 0 0 0 0 0 0]]\n"
     ]
    }
   ],
   "source": [
    "a = np.arange(4)\n",
    "print(a[np.newaxis, :]) # add a dim (row vector)\n",
    "print(a[:, np.newaxis], '\\n') # add a dim (column vector)\n",
    "\n",
    "print(np.resize(a, (2, 8)), '\\n') # repeats array\n",
    "a.resize((2, 8)) # pads with 0. In-place!\n",
    "print(a)"
   ]
  },
  {
   "cell_type": "markdown",
   "metadata": {},
   "source": [
    "##### Broadcasts\n",
    "##### (operations on arrays of different sizes - possible if they share 1 dim)"
   ]
  },
  {
   "cell_type": "code",
   "execution_count": 50,
   "metadata": {
    "collapsed": true
   },
   "outputs": [
    {
     "name": "stdout",
     "output_type": "stream",
     "text": [
      "[[0 1 2]\n",
      " [1 2 3]\n",
      " [2 3 4]\n",
      " [3 4 5]] \n",
      "\n",
      "[[0 0 0]\n",
      " [2 2 2]\n",
      " [4 4 4]\n",
      " [6 6 6]] \n",
      "\n",
      "[[0 1 2]\n",
      " [1 2 3]\n",
      " [2 3 4]\n",
      " [3 4 5]] \n",
      "\n",
      "[[0 1 2 3]\n",
      " [1 2 3 4]\n",
      " [2 3 4 5]\n",
      " [3 4 5 6]]\n"
     ]
    }
   ],
   "source": [
    "a = np.tile(np.arange(4), (3, 1)).T \n",
    "b = np.arange(3)\n",
    "c = np.arange(4)\n",
    "d = c[:, np.newaxis]\n",
    "\n",
    "print(a + b, '\\n') # 4x3 + 1x3\n",
    "print(a + d, '\\n') # 4x3 + 4x1\n",
    "print(d + b, '\\n') # 4x1 + 3x1\n",
    "print(c + d)       # 1x4 + 4x1"
   ]
  },
  {
   "cell_type": "code",
   "execution_count": 51,
   "metadata": {
    "collapsed": true
   },
   "outputs": [
    {
     "name": "stdout",
     "output_type": "stream",
     "text": [
      "[[0]\n",
      " [1]\n",
      " [2]]\n",
      "\n",
      "[[0 1 2 3 4]]\n",
      "\n",
      "[[0 1 2 3 4]\n",
      " [1 2 3 4 5]\n",
      " [2 3 4 5 6]]\n",
      "\n",
      "\n",
      "[[0 0 0 0 0]\n",
      " [1 1 1 1 1]\n",
      " [2 2 2 2 2]]\n",
      "\n",
      "[[0 1 2 3 4]\n",
      " [0 1 2 3 4]\n",
      " [0 1 2 3 4]]\n",
      "\n",
      "[[0 1 2 3 4]\n",
      " [1 2 3 4 5]\n",
      " [2 3 4 5 6]]\n"
     ]
    }
   ],
   "source": [
    "a, b = np.ogrid[0:3,0:5] # vectors with 2 dim!\n",
    "print(a, b, a+b, '', sep='\\n\\n')\n",
    "\n",
    "a, b = np.mgrid[0:3, 0:5] # matrices for when broadcasting not possible\n",
    "print(a, b, a+b, sep='\\n\\n')"
   ]
  },
  {
   "cell_type": "markdown",
   "metadata": {},
   "source": [
    "##### Sorts"
   ]
  },
  {
   "cell_type": "code",
   "execution_count": 52,
   "metadata": {
    "collapsed": true
   },
   "outputs": [
    {
     "name": "stdout",
     "output_type": "stream",
     "text": [
      "[1 1 2 3 4 5] \n",
      "\n",
      "[[1 2 1]\n",
      " [4 3 5]]\n",
      "\n",
      "[[3 4 5]\n",
      " [1 1 2]]\n",
      "\n",
      "\n",
      "[[3 4 5]\n",
      " [1 1 2]] \n",
      "\n",
      "[1 2 3 4]\n"
     ]
    }
   ],
   "source": [
    "a = np.array([[4, 3, 5], [1, 2, 1]])\n",
    "\n",
    "print(np.sort(a, None), '\\n') # flatten before sort\n",
    "print(np.sort(a, 0), np.sort(a, 1), '', sep='\\n\\n')\n",
    "a.sort(1) # in-place sort\n",
    "print(a, '\\n')\n",
    "\n",
    "c = np.array([4, 3, 1, 2])\n",
    "j = np.argsort(c) # sorted indexes -> mask!\n",
    "print(c[j])"
   ]
  },
  {
   "cell_type": "markdown",
   "metadata": {},
   "source": [
    "###### 1D Polinomials"
   ]
  },
  {
   "cell_type": "code",
   "execution_count": 395,
   "metadata": {
    "collapsed": true
   },
   "outputs": [
    {
     "name": "stdout",
     "output_type": "stream",
     "text": [
      "   2\n",
      "3 x + 2 x - 1 \n",
      "\n",
      "-1 2 [ 3  2 -1] [-1.     0.333] \n",
      "\n",
      "\n",
      "poly([-1.  2.  3.]) \n",
      "\n",
      "-1.0 2 [-1.  2.  3.] [-1.     0.333] \n",
      "\n",
      "\n",
      "   2\n",
      "1 x - 1 x - 2 \n",
      "\n",
      "2 [ 1. -1. -2.] [ 2. -1.]\n"
     ]
    }
   ],
   "source": [
    "p = np.poly1d([3, 2, -1]) # coeffs in decreasing powers\n",
    "print(p, '\\n')\n",
    "print(p(0), p.order, p.coef, p.roots, '\\n\\n')\n",
    "\n",
    "p2 = np.polynomial.Polynomial([-1, 2, 3]) # coeffs in increasing powers\n",
    "print(p2, '\\n')\n",
    "print(p2(0), p2.degree(), p2.coef, p2.roots(), '\\n\\n')\n",
    "\n",
    "p3 = np.poly1d([-1, 2], True) # roots\n",
    "print(p3, '\\n')\n",
    "print(p3.order, p3.coef, p3.roots)"
   ]
  },
  {
   "cell_type": "code",
   "execution_count": 358,
   "metadata": {},
   "outputs": [
    {
     "name": "stdout",
     "output_type": "stream",
     "text": [
      "[ 9 12  1 -2  0]\n",
      "[ 3.  2. -1.] [4.]\n",
      "[9 4 1]\n"
     ]
    }
   ],
   "source": [
    "p = np.poly1d([3, 2, -1])\n",
    "p2 = p*p + p\n",
    "print(p2.coef)\n",
    "\n",
    "p3, remainder = (p**2 + 4) / p\n",
    "print(p3.coef, remainder.coef)\n",
    "\n",
    "print(np.square(p)) # squares individual coeffs"
   ]
  },
  {
   "cell_type": "markdown",
   "metadata": {},
   "source": [
    "###### Fits"
   ]
  },
  {
   "cell_type": "code",
   "execution_count": 447,
   "metadata": {
    "collapsed": true
   },
   "outputs": [
    {
     "name": "stdout",
     "output_type": "stream",
     "text": [
      "        3          2\n",
      "0.2466 x - 0.6898 x - 0.03196 x + 1.16 \n",
      "\n",
      "[ 0.247 -0.69  -0.032  1.16 ] \n",
      "\n",
      "cheb([ 0.96  -0.242 -0.046  0.014 -0.018  0.023])\n"
     ]
    },
    {
     "data": {
      "image/png": "[encoded data removed]",
      "text/plain": [
       "<Figure size 432x288 with 1 Axes>"
      ]
     },
     "metadata": {
      "needs_background": "light"
     },
     "output_type": "display_data"
    }
   ],
   "source": [
    "x = np.linspace(0, 1, 30)\n",
    "y = np.cos(x) + 0.3*np.random.rand(30)\n",
    "\n",
    "fit = np.polyfit(x, y, 3) # 3rd degree\n",
    "p = np.poly1d(fit) # coeffs array\n",
    "t = np.linspace(0, 1, 200)\n",
    "print(p, '\\n')\n",
    "print(fit, '\\n')\n",
    "\n",
    "p2 = np.polynomial.Chebyshev.fit(x, y, 5) # Chebyshev basis\n",
    "print(p2)\n",
    "\n",
    "plt.plot(x, y, 'o')\n",
    "plt.plot(t, p(t))\n",
    "plt.plot(t, p2(t))\n",
    "plt.show()"
   ]
  },
  {
   "cell_type": "markdown",
   "metadata": {},
   "source": [
    "## 1.4. Matplotlib: plotting"
   ]
  },
  {
   "cell_type": "code",
   "execution_count": 53,
   "metadata": {
    "collapsed": true
   },
   "outputs": [
    {
     "data": {
      "image/png": "[encoded data removed]",
      "text/plain": [
       "<Figure size 432x288 with 1 Axes>"
      ]
     },
     "metadata": {
      "needs_background": "light"
     },
     "output_type": "display_data"
    }
   ],
   "source": [
    "x = np.linspace(0, 3, 10)\n",
    "y = np.linspace(0, 9, 10)\n",
    "plt.plot(x, y) # line\n",
    "plt.plot(x, y, 'o') # dots\n",
    "plt.show() # not needed with inline magic"
   ]
  },
  {
   "cell_type": "code",
   "execution_count": 54,
   "metadata": {
    "collapsed": true
   },
   "outputs": [
    {
     "data": {
      "image/png": "[encoded data removed]",
      "text/plain": [
       "<Figure size 432x288 with 2 Axes>"
      ]
     },
     "metadata": {
      "needs_background": "light"
     },
     "output_type": "display_data"
    }
   ],
   "source": [
    "image = np.eye(30) + np.random.rand(30, 30)\n",
    "plt.imshow(image) # colors: cmap=plt.cm.***\n",
    "plt.colorbar()\n",
    "plt.show()"
   ]
  },
  {
   "cell_type": "code",
   "execution_count": null,
   "metadata": {
    "collapsed": true
   },
   "outputs": [],
   "source": []
  },
  {
   "cell_type": "code",
   "execution_count": null,
   "metadata": {
    "collapsed": true
   },
   "outputs": [],
   "source": []
  },
  {
   "cell_type": "code",
   "execution_count": null,
   "metadata": {
    "collapsed": true
   },
   "outputs": [],
   "source": []
  },
  {
   "cell_type": "code",
   "execution_count": null,
   "metadata": {
    "collapsed": true
   },
   "outputs": [],
   "source": []
  },
  {
   "cell_type": "markdown",
   "metadata": {},
   "source": [
    "## 2.7. Optimization: finding minima"
   ]
  },
  {
   "cell_type": "code",
   "execution_count": 55,
   "metadata": {
    "collapsed": true
   },
   "outputs": [],
   "source": [
    "from scipy import optimize"
   ]
  },
  {
   "cell_type": "markdown",
   "metadata": {},
   "source": [
    "###### 1D"
   ]
  },
  {
   "cell_type": "code",
   "execution_count": 280,
   "metadata": {
    "collapsed": true
   },
   "outputs": [
    {
     "name": "stdout",
     "output_type": "stream",
     "text": [
      "     fun: -1.0\n",
      "    nfev: 13\n",
      "     nit: 9\n",
      " success: True\n",
      "       x: 0.6999999997839409 \n",
      "\n",
      "     fun: -1.0\n",
      " message: 'Solution found.'\n",
      "    nfev: 6\n",
      "  status: 0\n",
      " success: True\n",
      "       x: 0.7 \n",
      "\n",
      "True True\n",
      "0.6999999997839409 0.7\n",
      "-2.160590595323697e-10 0.0\n"
     ]
    },
    {
     "data": {
      "image/png": "[encoded data removed]",
      "text/plain": [
       "<Figure size 432x288 with 1 Axes>"
      ]
     },
     "metadata": {
      "needs_background": "light"
     },
     "output_type": "display_data"
    }
   ],
   "source": [
    "func = lambda x: -np.exp(-(x - 0.7)**2)\n",
    "result = optimize.minimize_scalar(func)\n",
    "result2 = optimize.minimize_scalar(func, bounds=(0.6, 0.8), method='bounded')\n",
    "print(result, '\\n')\n",
    "print(result2, '\\n')\n",
    "\n",
    "print(result.success, result2.success) # check if solver was successful\n",
    "print(result.x, result2.x)\n",
    "print(result.x - 0.7, result2.x - 0.7) # error\n",
    "\n",
    "x = np.linspace(-1, 2)\n",
    "plt.plot(x,func(x))\n",
    "plt.show()"
   ]
  },
  {
   "cell_type": "code",
   "execution_count": null,
   "metadata": {},
   "outputs": [],
   "source": []
  },
  {
   "cell_type": "code",
   "execution_count": null,
   "metadata": {},
   "outputs": [],
   "source": []
  },
  {
   "cell_type": "code",
   "execution_count": null,
   "metadata": {},
   "outputs": [],
   "source": []
  },
  {
   "cell_type": "code",
   "execution_count": null,
   "metadata": {
    "collapsed": true
   },
   "outputs": [],
   "source": []
  }
 ],
 "metadata": {
  "kernelspec": {
   "display_name": "Python 3",
   "language": "python",
   "name": "python3"
  },
  "language_info": {
   "codemirror_mode": {
    "name": "ipython",
    "version": 3
   },
   "file_extension": ".py",
   "mimetype": "text/x-python",
   "name": "python",
   "nbconvert_exporter": "python",
   "pygments_lexer": "ipython3",
   "version": "3.7.3"
  }
 },
 "nbformat": 4,
 "nbformat_minor": 2
}
