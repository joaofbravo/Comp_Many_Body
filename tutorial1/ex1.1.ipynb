{
 "cells": [
  {
   "cell_type": "code",
   "execution_count": 1,
   "metadata": {},
   "outputs": [],
   "source": [
    "import numpy as np\n",
    "#from numba import jit\n",
    "import matplotlib.pyplot as plt\n",
    "%matplotlib inline"
   ]
  },
  {
   "cell_type": "code",
   "execution_count": 2,
   "metadata": {},
   "outputs": [],
   "source": [
    "def rand():\n",
    "    return np.random.random()"
   ]
  },
  {
   "cell_type": "code",
   "execution_count": 3,
   "metadata": {},
   "outputs": [],
   "source": [
    "#@jit(nopython=True) does not work with lists\n",
    "def shoot(n):\n",
    "    lst = list()\n",
    "    for i in range(n):\n",
    "        lst.append([rand(),rand()])\n",
    "    return lst"
   ]
  },
  {
   "cell_type": "code",
   "execution_count": 4,
   "metadata": {},
   "outputs": [],
   "source": [
    "def getNorm2(x,y):\n",
    "    return x*x + y*y"
   ]
  },
  {
   "cell_type": "code",
   "execution_count": 5,
   "metadata": {},
   "outputs": [],
   "source": [
    "def estimatePi(n, Nshots=1000):\n",
    "    pi_est = list()\n",
    "    \n",
    "    for j in range(n):\n",
    "        coord = shoot(Nshots)\n",
    "\n",
    "        hit = 0\n",
    "        norm2 = list()\n",
    "        for i in range(len(coord)):\n",
    "            norm2.append(getNorm2(coord[i][0],coord[i][1]))\n",
    "            if norm2[i] < 1:\n",
    "                hit+=1\n",
    "\n",
    "        pi_est.append(4*hit/Nshots)\n",
    "        #print(pi_est[j])\n",
    "    \n",
    "    return pi_est"
   ]
  },
  {
   "cell_type": "code",
   "execution_count": 6,
   "metadata": {},
   "outputs": [],
   "source": [
    "def getVariance(lst):\n",
    "    N = len(lst)\n",
    "    \n",
    "    var = 0.\n",
    "    for i in range(N):\n",
    "        var += (lst[i] - np.mean(lst))**2\n",
    "    \n",
    "    return var/N"
   ]
  },
  {
   "cell_type": "code",
   "execution_count": 7,
   "metadata": {},
   "outputs": [
    {
     "data": {
      "text/plain": [
       "0.00029612160000000003"
      ]
     },
     "execution_count": 7,
     "metadata": {},
     "output_type": "execute_result"
    }
   ],
   "source": [
    "n = 100\n",
    "Nshoots = 10000\n",
    "pi_est = estimatePi(n, Nshoots)\n",
    "\n",
    "getVariance(pi_est)"
   ]
  },
  {
   "cell_type": "code",
   "execution_count": 10,
   "metadata": {},
   "outputs": [],
   "source": [
    "X = np.array(range(10,10010,1000))\n",
    "Y = np.array([getVariance(estimatePi(n, i)) for i in X])\n"
   ]
  },
  {
   "cell_type": "code",
   "execution_count": 11,
   "metadata": {},
   "outputs": [
    {
     "data": {
      "image/png": "[encoded data removed]",
      "text/plain": [
       "<Figure size 432x288 with 1 Axes>"
      ]
     },
     "metadata": {
      "needs_background": "light"
     },
     "output_type": "display_data"
    }
   ],
   "source": [
    "scale = lambda x: 1/x\n",
    "Yscale = scale(X)\n",
    "\n",
    "plt.loglog(X,Y)\n",
    "plt.loglog(X,Yscale)\n",
    "plt.show()"
   ]
  },
  {
   "cell_type": "code",
   "execution_count": null,
   "metadata": {},
   "outputs": [],
   "source": []
  }
 ],
 "metadata": {
  "kernelspec": {
   "display_name": "Python 3",
   "language": "python",
   "name": "python3"
  },
  "language_info": {
   "codemirror_mode": {
    "name": "ipython",
    "version": 3
   },
   "file_extension": ".py",
   "mimetype": "text/x-python",
   "name": "python",
   "nbconvert_exporter": "python",
   "pygments_lexer": "ipython3",
   "version": "3.7.3"
  }
 },
 "nbformat": 4,
 "nbformat_minor": 2
}
