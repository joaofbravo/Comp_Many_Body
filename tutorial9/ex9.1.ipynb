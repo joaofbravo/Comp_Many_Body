{
 "cells": [
  {
   "cell_type": "code",
   "execution_count": 62,
   "metadata": {},
   "outputs": [],
   "source": [
    "import numpy as np\n",
    "from scipy import sparse\n",
    "import scipy.sparse.linalg as spslinalg\n",
    "import matplotlib.pyplot as plt\n",
    "%matplotlib inline\n",
    "\n",
    "import a_mps as mps\n",
    "import b_model as model\n",
    "import c_tebd as tebd\n",
    "import tfi_exact"
   ]
  },
  {
   "cell_type": "code",
   "execution_count": 95,
   "metadata": {},
   "outputs": [],
   "source": [
    "# L : sites in unit cell\n",
    "# a)\n",
    "class MPS(mps.MPS):\n",
    "    def get_theta2(self, i):\n",
    "        \"\"\"Calculate effective two-site wave function on sites i,j=(i+1) in mixed canonical form.\n",
    "\n",
    "        The returned array has legs ``vL, i, j, vR``.\"\"\"\n",
    "        j = (i + 1) % self.L\n",
    "        return np.tensordot(self.get_theta1(i), self.Bs[j], [2, 0])  # vL i [vR], [vL] j vR\n",
    "\n",
    "    def get_chi(self):\n",
    "        \"\"\"Return bond dimensions.\"\"\"\n",
    "        return [self.Bs[i].shape[2] for i in range(self.L)]\n",
    "\n",
    "    def bond_expectation_value(self, op):\n",
    "        \"\"\"Calculate expectation values of a local operator at each bond.\"\"\"\n",
    "        result = []\n",
    "        for i in range(self.L):\n",
    "            theta = self.get_theta2(i)  # vL i j vR\n",
    "            op_theta = np.tensordot(op[i], theta, axes=[[2, 3], [1, 2]])\n",
    "            # i j [i*] [j*], vL [i] [j] vR\n",
    "            result.append(np.tensordot(theta.conj(), op_theta, [[0, 1, 2, 3], [2, 0, 1, 3]]))\n",
    "            # [vL*] [i*] [j*] [vR*], [i] [j] [vL] [vR]\n",
    "        return np.real_if_close(result)\n",
    "\n",
    "    def entanglement_entropy(self):\n",
    "        \"\"\"Return the (von-Neumann) entanglement entropy for a bipartition at any of the bonds.\"\"\"\n",
    "        result = []\n",
    "        for i in range(1, self.L+1):\n",
    "            S = self.Ss[i].copy()\n",
    "            S[S < 1.e-20] = 0.  # 0*log(0) should give 0; avoid warning or NaN.\n",
    "            S2 = S * S\n",
    "            assert abs(np.linalg.norm(S) - 1.) < 1.e-14\n",
    "            result.append(-np.sum(S2 * np.log(S2)))\n",
    "        return np.array(result)"
   ]
  },
  {
   "cell_type": "code",
   "execution_count": 66,
   "metadata": {},
   "outputs": [],
   "source": [
    "class TFIModel(model.TFIModel):\n",
    "    def __init__(self, L, J, g):\n",
    "        super().__init__(L, J, g)\n",
    "    \n",
    "    def init_H_bonds(self):\n",
    "        \"\"\"Initialize `H_bonds` hamiltonian. Called by __init__().\"\"\"\n",
    "        sx, sz, id = self.sigmax, self.sigmaz, self.id\n",
    "        d = self.d\n",
    "        H_list = []\n",
    "        for i in range(self.L):\n",
    "            gL = gR = 0.5 * self.g\n",
    "            # if i == 0: # first bond\n",
    "            #     gL = self.g\n",
    "            # if i + 1 == self.L: # last bond\n",
    "            #     gR = self.g\n",
    "            H_bond = -self.J * np.kron(sx, sx) - gL * np.kron(sz, id) - gR * np.kron(id, sz)\n",
    "            # H_bond has legs ``i, j, i*, j*``\n",
    "            H_list.append(np.reshape(H_bond, [d, d, d, d]))\n",
    "        self.H_bonds = H_list\n",
    "    \n",
    "    def energy(self, psi):\n",
    "        \"\"\"Evaluate energy density (per site) E = <psi|H|psi> / L for the given MPS.\"\"\"\n",
    "        assert psi.L == self.L\n",
    "        return np.sum(psi.bond_expectation_value(self.H_bonds)) / psi.L"
   ]
  },
  {
   "cell_type": "code",
   "execution_count": 67,
   "metadata": {},
   "outputs": [],
   "source": [
    "def update_bond(psi, i, U_bond, chi_max, eps):\n",
    "    \"\"\"Apply `U_bond` acting on i,j=(i+1) to `psi`.\"\"\"\n",
    "    j = (i + 1) % psi.L\n",
    "    # construct theta matrix\n",
    "    theta = psi.get_theta2(i)  # vL i j vR\n",
    "    # apply U\n",
    "    Utheta = np.tensordot(U_bond, theta, axes=([2, 3], [1, 2]))  # i j [i*] [j*], vL [i] [j] vR\n",
    "    Utheta = np.transpose(Utheta, [2, 0, 1, 3])  # vL i j vR\n",
    "    # split and truncate\n",
    "    Ai, Sj, Bj = tebd.split_truncate_theta(Utheta, chi_max, eps)\n",
    "    # put back into MPS\n",
    "    Gi = np.tensordot(np.diag(psi.Ss[i]**(-1)), Ai, axes=[1, 0])  # vL [vL*], [vL] i vC\n",
    "    psi.Bs[i] = np.tensordot(Gi, np.diag(Sj), axes=[2, 0])  # vL i [vC], [vC] vC\n",
    "    psi.Ss[j] = Sj  # vC\n",
    "    psi.Bs[j] = Bj  # vC j vR"
   ]
  },
  {
   "cell_type": "code",
   "execution_count": 5,
   "metadata": {},
   "outputs": [],
   "source": [
    "# b)\n",
    "def run_TEBD(psi, U_bonds, N_steps, chi_max, eps):\n",
    "    \"\"\"Evolve the state `psi` for `N_steps` time steps with (first order) TEBD.\n",
    "\n",
    "    The state psi is modified in place.\"\"\"\n",
    "    Nbonds = psi.L\n",
    "    assert len(U_bonds) == Nbonds\n",
    "    for n in range(N_steps):\n",
    "        for k in [0, 1]:  # even, odd\n",
    "            for i_bond in range(k, Nbonds, 2):\n",
    "                update_bond(psi, i_bond, U_bonds[i_bond], chi_max, eps)"
   ]
  },
  {
   "cell_type": "code",
   "execution_count": 12,
   "metadata": {},
   "outputs": [],
   "source": [
    "def init_spinup_MPS(L):\n",
    "    \"\"\"Return a product state with all spins up as an MPS\"\"\"\n",
    "    B = np.zeros([1, 2, 1], np.float)\n",
    "    B[0, 0, 0] = 1.\n",
    "    S = np.ones([1], np.float)\n",
    "    Bs = [B.copy() for i in range(L)]\n",
    "    Ss = [S.copy() for i in range(L)]\n",
    "    return MPS(Bs, Ss)"
   ]
  },
  {
   "cell_type": "code",
   "execution_count": 117,
   "metadata": {},
   "outputs": [],
   "source": [
    "def TEBD_gs_infinite(L, J, g, dts=[0.1], N_steps=500, chi_max=30, eps=1.e-10):\n",
    "    print(\"Infinite TEBD (imaginary time evolution)\")\n",
    "    print(\"L={L:d}, J={J:.1f}, g={g:.2f}\".format(L=L, J=J, g=g))\n",
    "    \n",
    "    tising = TFIModel(L, J, g)\n",
    "    psi = init_spinup_MPS(L)\n",
    "    \n",
    "    for dt in dts:\n",
    "        U_bonds = tebd.calc_U_bonds(tising, dt)\n",
    "        run_TEBD(psi, U_bonds, N_steps, chi_max, eps)\n",
    "        E = tising.energy(psi)\n",
    "        print(\"dt = {dt:.5f}: \\t\\t E_dens = {E:.13f}\".format(dt=dt, E=E))\n",
    "    print(\"Final bond dimensions:  \", psi.get_chi())\n",
    "    \n",
    "    if L < 10:  # for small cell size compare to exact diagonalization\n",
    "        E_exact = tfi_exact.infinite_gs_energy(J, g)\n",
    "        print(\"Exact diagonalization:   E_dens = {E:.13f}\".format(E=E_exact))\n",
    "        print(\"Relative error: \\t\", abs((E - E_exact) / E_exact))\n",
    "    \n",
    "    return E, psi, tising"
   ]
  },
  {
   "cell_type": "code",
   "execution_count": 113,
   "metadata": {},
   "outputs": [],
   "source": [
    "# c)\n",
    "def contract_TransferMatrix(psi):\n",
    "    L = psi.L\n",
    "    chi = psi.Bs[0].shape[0]\n",
    "    Up = psi.Bs[0]\n",
    "    Low = psi.Bs[0].conj()\n",
    "\n",
    "    for i in range(1, L):\n",
    "        Up = np.tensordot(Up, psi.Bs[i], axes=1) # vL [vR] [vL] vR\n",
    "        Low = np.tensordot(Low, psi.Bs[i].conj(), axes=1) # vL [vR] [vL] vR\n",
    "    T = np.tensordot(Up, Low, axes=(range(1, L+1), range(1, L+1))) # vL [i] ... [j] vR\n",
    "    T = T.transpose((0, 2, 1, 3)).reshape((chi**2, chi**2))\n",
    "    return T"
   ]
  },
  {
   "cell_type": "code",
   "execution_count": 114,
   "metadata": {},
   "outputs": [
    {
     "data": {
      "text/plain": [
       "array([[1.]])"
      ]
     },
     "execution_count": 114,
     "metadata": {},
     "output_type": "execute_result"
    }
   ],
   "source": [
    "mps_spinup = init_spinup_MPS(L=3)\n",
    "contract_TransferMatrix(mps_spinup)"
   ]
  },
  {
   "cell_type": "code",
   "execution_count": 119,
   "metadata": {},
   "outputs": [
    {
     "name": "stdout",
     "output_type": "stream",
     "text": [
      "Infinite TEBD (imaginary time evolution)\n",
      "L=2, J=1.0, g=1.00\n",
      "dt = 0.10000: \t\t E_dens = -1.2689531576511\n",
      "Final bond dimensions:   [30, 30]\n",
      "Exact diagonalization:   E_dens = -1.2732395447352\n",
      "Relative error: \t 0.0033665205434278977\n"
     ]
    }
   ],
   "source": [
    "L = 2\n",
    "J = 1.\n",
    "g = 1.\n",
    "E, psi, tising = TEBD_gs_infinite(L, J, g, dts=[0.1], N_steps=1000, chi_max=30, eps=1.e-10);"
   ]
  },
  {
   "cell_type": "code",
   "execution_count": 123,
   "metadata": {},
   "outputs": [
    {
     "data": {
      "text/plain": [
       "array([1.00092046, 0.99069237, 0.97504241])"
      ]
     },
     "execution_count": 123,
     "metadata": {},
     "output_type": "execute_result"
    }
   ],
   "source": [
    "transf = contract_TransferMatrix(psi)\n",
    "eigval, eigvec = spslinalg.eigs(transf, k=3, which='LM')\n",
    "np.abs(eigval)"
   ]
  },
  {
   "cell_type": "code",
   "execution_count": null,
   "metadata": {},
   "outputs": [],
   "source": []
  }
 ],
 "metadata": {
  "kernelspec": {
   "display_name": "Python 3",
   "language": "python",
   "name": "python3"
  },
  "language_info": {
   "codemirror_mode": {
    "name": "ipython",
    "version": 3
   },
   "file_extension": ".py",
   "mimetype": "text/x-python",
   "name": "python",
   "nbconvert_exporter": "python",
   "pygments_lexer": "ipython3",
   "version": "3.7.3"
  },
  "toc": {
   "base_numbering": 1,
   "nav_menu": {},
   "number_sections": false,
   "sideBar": false,
   "skip_h1_title": false,
   "title_cell": "Contents",
   "title_sidebar": "Contents",
   "toc_cell": false,
   "toc_position": {},
   "toc_section_display": true,
   "toc_window_display": false
  },
  "varInspector": {
   "cols": {
    "lenName": 16,
    "lenType": 16,
    "lenVar": 40
   },
   "kernels_config": {
    "python": {
     "delete_cmd_postfix": "",
     "delete_cmd_prefix": "del ",
     "library": "var_list.py",
     "varRefreshCmd": "print(var_dic_list())"
    },
    "r": {
     "delete_cmd_postfix": ") ",
     "delete_cmd_prefix": "rm(",
     "library": "var_list.r",
     "varRefreshCmd": "cat(var_dic_list()) "
    }
   },
   "types_to_exclude": [
    "module",
    "function",
    "builtin_function_or_method",
    "instance",
    "_Feature"
   ],
   "window_display": false
  }
 },
 "nbformat": 4,
 "nbformat_minor": 2
}
