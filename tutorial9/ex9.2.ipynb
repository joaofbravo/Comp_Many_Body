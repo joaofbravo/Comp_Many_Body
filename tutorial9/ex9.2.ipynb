{
 "cells": [
  {
   "cell_type": "code",
   "execution_count": 2,
   "metadata": {},
   "outputs": [],
   "source": [
    "import numpy as np\n",
    "import matplotlib.pyplot as plt\n",
    "%matplotlib inline\n",
    "\n",
    "import e_tps as tps"
   ]
  },
  {
   "cell_type": "code",
   "execution_count": 4,
   "metadata": {},
   "outputs": [
    {
     "name": "stdout",
     "output_type": "stream",
     "text": [
      "Parameters:  {'chi_tps': 2, 'chi_mps': 20, 'J': 1.0, 'g': 1.0, 'N_imaginary': 300, 'N_boundary': 10}\n",
      "imaginary time evolution\n",
      "--> delta = 0.1\n",
      "--> delta = 0.01\n",
      "--> delta = 0.001\n",
      "evaluating expectation values\n"
     ]
    },
    {
     "data": {
      "text/plain": [
       "array([-1.66909168])"
      ]
     },
     "execution_count": 4,
     "metadata": {},
     "output_type": "execute_result"
    }
   ],
   "source": [
    "tps.example_run_ising_honeycomb()"
   ]
  },
  {
   "cell_type": "code",
   "execution_count": 18,
   "metadata": {},
   "outputs": [],
   "source": [
    "def run_ising_honeycomb_magnetXZ(g=1., J=1., chi_tps=2, chi_mps=20, N_imaginary=300, N_boundary=10):\n",
    "    print(\"Parameters: \", locals())\n",
    "    model = tps.TFIModelHoneycomb(J, g)\n",
    "    psi_tps = tps.run_simplified_update(model, chi_tps, N_imaginary)\n",
    "\n",
    "    d = 2\n",
    "    Sx, Sz, Id = model.sigmax, model.sigmaz, model.id\n",
    "    Mx = np.reshape(np.kron(Sx, Id) + np.kron(Id, Sx), (d,d,d,d)) / 3. # per bond (3)\n",
    "    Mz = np.reshape(np.kron(Sz, Id) + np.kron(Id, Sz), (d,d,d,d)) / 3.\n",
    "    Mxx = np.reshape(np.kron(Sx, Sx) + np.kron(Sx, Sx), (d,d,d,d)) / 3.\n",
    "        \n",
    "    print(\"evaluating expectation values\")\n",
    "    exp_vals = tps.evaluate_exp_vals(psi_tps, [model.H_bonds, [Mx]*3, [Mz]*3], chi_mps, N_boundary)\n",
    "    return exp_vals"
   ]
  },
  {
   "cell_type": "code",
   "execution_count": 19,
   "metadata": {},
   "outputs": [
    {
     "name": "stdout",
     "output_type": "stream",
     "text": [
      "Parameters:  {'g': 1.0, 'J': 1.0, 'chi_tps': 2, 'chi_mps': 20, 'N_imaginary': 300, 'N_boundary': 10}\n",
      "imaginary time evolution\n",
      "--> delta = 0.1\n",
      "--> delta = 0.01\n",
      "--> delta = 0.001\n",
      "evaluating expectation values\n"
     ]
    },
    {
     "data": {
      "text/plain": [
       "array([-1.66909168, -0.93780195,  0.3432717 ])"
      ]
     },
     "execution_count": 19,
     "metadata": {},
     "output_type": "execute_result"
    }
   ],
   "source": [
    "run_ising_honeycomb_magnetXZ()"
   ]
  },
  {
   "cell_type": "code",
   "execution_count": 31,
   "metadata": {
    "scrolled": true
   },
   "outputs": [],
   "source": [
    "%%capture\n",
    "exp_vals = []\n",
    "for chitps in range(2,8):\n",
    "    exp_vals.append(run_ising_honeycomb_magnetXZ(chi_tps=chitps))"
   ]
  },
  {
   "cell_type": "code",
   "execution_count": 32,
   "metadata": {},
   "outputs": [
    {
     "data": {
      "text/plain": [
       "[array([-1.66909168, -0.93780195,  0.3432717 ]),\n",
       " array([-1.66909174,  0.93780118,  0.34327256]),\n",
       " array([-1.66909174, -0.93780104,  0.3432728 ]),\n",
       " array([-1.66909174, -0.93780096,  0.34327293]),\n",
       " array([-1.66909174, -0.9378009 ,  0.34327306]),\n",
       " array([-1.66909174, -0.93780089,  0.34327308])]"
      ]
     },
     "execution_count": 32,
     "metadata": {},
     "output_type": "execute_result"
    }
   ],
   "source": [
    "exp_vals"
   ]
  },
  {
   "cell_type": "code",
   "execution_count": null,
   "metadata": {},
   "outputs": [],
   "source": []
  }
 ],
 "metadata": {
  "kernelspec": {
   "display_name": "Python 3",
   "language": "python",
   "name": "python3"
  },
  "language_info": {
   "codemirror_mode": {
    "name": "ipython",
    "version": 3
   },
   "file_extension": ".py",
   "mimetype": "text/x-python",
   "name": "python",
   "nbconvert_exporter": "python",
   "pygments_lexer": "ipython3",
   "version": "3.7.3"
  },
  "toc": {
   "base_numbering": 1,
   "nav_menu": {},
   "number_sections": false,
   "sideBar": false,
   "skip_h1_title": false,
   "title_cell": "Contents",
   "title_sidebar": "Contents",
   "toc_cell": false,
   "toc_position": {},
   "toc_section_display": true,
   "toc_window_display": false
  },
  "varInspector": {
   "cols": {
    "lenName": 16,
    "lenType": 16,
    "lenVar": 40
   },
   "kernels_config": {
    "python": {
     "delete_cmd_postfix": "",
     "delete_cmd_prefix": "del ",
     "library": "var_list.py",
     "varRefreshCmd": "print(var_dic_list())"
    },
    "r": {
     "delete_cmd_postfix": ") ",
     "delete_cmd_prefix": "rm(",
     "library": "var_list.r",
     "varRefreshCmd": "cat(var_dic_list()) "
    }
   },
   "types_to_exclude": [
    "module",
    "function",
    "builtin_function_or_method",
    "instance",
    "_Feature"
   ],
   "window_display": false
  }
 },
 "nbformat": 4,
 "nbformat_minor": 2
}
