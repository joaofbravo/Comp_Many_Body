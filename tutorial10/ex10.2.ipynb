{
 "cells": [
  {
   "cell_type": "code",
   "execution_count": 1,
   "metadata": {},
   "outputs": [],
   "source": [
    "import numpy as np\n",
    "import matplotlib.pyplot as plt\n",
    "%matplotlib inline"
   ]
  },
  {
   "cell_type": "code",
   "execution_count": 52,
   "metadata": {},
   "outputs": [],
   "source": [
    "import data_loader as loader\n",
    "import network\n",
    "import generate_mc_data as mc_data"
   ]
  },
  {
   "cell_type": "code",
   "execution_count": 3,
   "metadata": {},
   "outputs": [
    {
     "name": "stdout",
     "output_type": "stream",
     "text": [
      "number of different labels for the output: 10\n"
     ]
    },
    {
     "data": {
      "text/plain": [
       "(50000, 10000, 10000)"
      ]
     },
     "execution_count": 3,
     "metadata": {},
     "output_type": "execute_result"
    }
   ],
   "source": [
    "training_data, validation_data, test_data = loader.load_data_wrapper('mnist.pkl.gz')\n",
    "len(training_data), len(validation_data), len(test_data)"
   ]
  },
  {
   "cell_type": "code",
   "execution_count": 4,
   "metadata": {},
   "outputs": [
    {
     "data": {
      "text/plain": [
       "2"
      ]
     },
     "execution_count": 4,
     "metadata": {},
     "output_type": "execute_result"
    }
   ],
   "source": [
    "len(training_data[0]) # image pixels, label"
   ]
  },
  {
   "cell_type": "code",
   "execution_count": 10,
   "metadata": {
    "collapsed": true
   },
   "outputs": [
    {
     "data": {
      "image/png": "[encoded data removed]",
      "text/plain": [
       "<Figure size 432x288 with 1 Axes>"
      ]
     },
     "metadata": {
      "needs_background": "light"
     },
     "output_type": "display_data"
    },
    {
     "data": {
      "text/plain": [
       "array([[0.],\n",
       "       [0.],\n",
       "       [0.],\n",
       "       [0.],\n",
       "       [0.],\n",
       "       [1.],\n",
       "       [0.],\n",
       "       [0.],\n",
       "       [0.],\n",
       "       [0.]])"
      ]
     },
     "execution_count": 10,
     "metadata": {},
     "output_type": "execute_result"
    }
   ],
   "source": [
    "plt.imshow(training_data[0][0].reshape(28, 28))\n",
    "plt.show()\n",
    "training_data[0][1]"
   ]
  },
  {
   "cell_type": "code",
   "execution_count": 35,
   "metadata": {},
   "outputs": [],
   "source": [
    "class Network(network.Network):\n",
    "    def backprop(self, x, y):\n",
    "        \"\"\"Return a tuple ``(nabla_b, nabla_w)`` representing the\n",
    "        gradient for the cost function C_x.  ``nabla_b`` and\n",
    "        ``nabla_w`` are layer-by-layer lists of numpy arrays, similar\n",
    "        to ``self.biases`` and ``self.weights``.\"\"\"\n",
    "        nabla_b = [np.zeros(b.shape) for b in self.biases]\n",
    "        nabla_w = [np.zeros(w.shape) for w in self.weights]\n",
    "\n",
    "        # Feedforward\n",
    "        a = []\n",
    "        z = []\n",
    "        \n",
    "        # calculate weighted inputs z & activations a for each layer\n",
    "        a.append(np.array(x))\n",
    "        z.append(self.biases[0])\n",
    "        for w, b in zip(self.weights, self.biases):\n",
    "            z.append(np.dot(w, a[-1]) + b) # 0 -> L\n",
    "            a.append(network.sigmoid(z[-1])) # 0 -> L\n",
    "        \n",
    "        delta = []\n",
    "        delta.append(self.cost_derivative(a[-1], y) * network.sigmoid_prime(z[-1]))\n",
    "        nabla_b[-1] = delta[0]\n",
    "        nabla_w[-1] = np.dot(delta[0], a[-2].transpose())\n",
    "        \n",
    "        # backpropagate the delta from last hidden layer to first, calculate gradients\n",
    "        for i, w in enumerate(self.weights[:0:-1], start=2): # L -> 1\n",
    "            delta.append(np.dot(w.transpose(), delta[-1]) * network.sigmoid_prime(z[-i])) # L -> 0\n",
    "            nabla_b[-i] = delta[-1] # 0 -> L\n",
    "            nabla_w[-i] = np.dot(delta[-1], a[-(i+1)].transpose()) # 0 -> L\n",
    "\n",
    "        return (nabla_b, nabla_w)"
   ]
  },
  {
   "cell_type": "code",
   "execution_count": 77,
   "metadata": {
    "collapsed": true
   },
   "outputs": [
    {
     "name": "stdout",
     "output_type": "stream",
     "text": [
      "Epoch  0:     7169 / 10000 = 71.7%\n",
      "Epoch  1:     8806 / 10000 = 88.1%\n",
      "Epoch  2:     8958 / 10000 = 89.6%\n",
      "Epoch  3:     9076 / 10000 = 90.8%\n",
      "Epoch  4:     9124 / 10000 = 91.2%\n",
      "Epoch  5:     9164 / 10000 = 91.6%\n",
      "Epoch  6:     9205 / 10000 = 92.0%\n",
      "Epoch  7:     9232 / 10000 = 92.3%\n",
      "Epoch  8:     9259 / 10000 = 92.6%\n",
      "Epoch  9:     9264 / 10000 = 92.6%\n",
      "Epoch  10:     9284 / 10000 = 92.8%\n",
      "Epoch  11:     9293 / 10000 = 92.9%\n",
      "Epoch  12:     9311 / 10000 = 93.1%\n",
      "Epoch  13:     9324 / 10000 = 93.2%\n",
      "Epoch  14:     9328 / 10000 = 93.3%\n"
     ]
    }
   ],
   "source": [
    "testNetwork0 = Network([784, 30, 10]) # layers: 784 inputs, 30 neurons hidden layer, 10 outputs\n",
    "testNetwork0.SGD(training_data, epochs=15, mini_batch_size=10, eta=0.5, test_data=test_data)"
   ]
  },
  {
   "cell_type": "code",
   "execution_count": 72,
   "metadata": {
    "collapsed": true
   },
   "outputs": [
    {
     "name": "stdout",
     "output_type": "stream",
     "text": [
      "Epoch  0:     5556 / 10000 = 55.6%\n",
      "Epoch  1:     6397 / 10000 = 64.0%\n",
      "Epoch  2:     6596 / 10000 = 66.0%\n",
      "Epoch  3:     6668 / 10000 = 66.7%\n",
      "Epoch  4:     6674 / 10000 = 66.7%\n",
      "Epoch  5:     6710 / 10000 = 67.1%\n",
      "Epoch  6:     6731 / 10000 = 67.3%\n",
      "Epoch  7:     6755 / 10000 = 67.5%\n",
      "Epoch  8:     6760 / 10000 = 67.6%\n",
      "Epoch  9:     6771 / 10000 = 67.7%\n",
      "Epoch  10:     6789 / 10000 = 67.9%\n",
      "Epoch  11:     6789 / 10000 = 67.9%\n",
      "Epoch  12:     6793 / 10000 = 67.9%\n",
      "Epoch  13:     6802 / 10000 = 68.0%\n",
      "Epoch  14:     6820 / 10000 = 68.2%\n"
     ]
    }
   ],
   "source": [
    "testNetwork1 = Network([784, 100, 10]) # 100 neurons\n",
    "testNetwork1.SGD(training_data, epochs=15, mini_batch_size=10, eta=0.5, test_data=test_data)"
   ]
  },
  {
   "cell_type": "code",
   "execution_count": 73,
   "metadata": {
    "collapsed": true
   },
   "outputs": [
    {
     "name": "stdout",
     "output_type": "stream",
     "text": [
      "Epoch  0:     8251 / 10000 = 82.5%\n",
      "Epoch  1:     8787 / 10000 = 87.9%\n",
      "Epoch  2:     8986 / 10000 = 89.9%\n",
      "Epoch  3:     9070 / 10000 = 90.7%\n",
      "Epoch  4:     9114 / 10000 = 91.1%\n",
      "Epoch  5:     9154 / 10000 = 91.5%\n",
      "Epoch  6:     9201 / 10000 = 92.0%\n",
      "Epoch  7:     9224 / 10000 = 92.2%\n",
      "Epoch  8:     9258 / 10000 = 92.6%\n",
      "Epoch  9:     9266 / 10000 = 92.7%\n",
      "Epoch  10:     9286 / 10000 = 92.9%\n",
      "Epoch  11:     9311 / 10000 = 93.1%\n",
      "Epoch  12:     9309 / 10000 = 93.1%\n",
      "Epoch  13:     9316 / 10000 = 93.2%\n",
      "Epoch  14:     9310 / 10000 = 93.1%\n"
     ]
    }
   ],
   "source": [
    "testNetwork2 = Network([784, 30, 30, 10]) # 60 neurons\n",
    "testNetwork2.SGD(training_data, epochs=15, mini_batch_size=10, eta=0.5, test_data=test_data)"
   ]
  },
  {
   "cell_type": "code",
   "execution_count": 74,
   "metadata": {
    "collapsed": true
   },
   "outputs": [
    {
     "name": "stdout",
     "output_type": "stream",
     "text": [
      "Epoch  0:     7008 / 10000 = 70.1%\n",
      "Epoch  1:     8442 / 10000 = 84.4%\n",
      "Epoch  2:     8815 / 10000 = 88.2%\n",
      "Epoch  3:     8938 / 10000 = 89.4%\n",
      "Epoch  4:     8989 / 10000 = 89.9%\n",
      "Epoch  5:     9047 / 10000 = 90.5%\n",
      "Epoch  6:     9069 / 10000 = 90.7%\n",
      "Epoch  7:     9100 / 10000 = 91.0%\n",
      "Epoch  8:     9126 / 10000 = 91.3%\n",
      "Epoch  9:     9133 / 10000 = 91.3%\n",
      "Epoch  10:     9144 / 10000 = 91.4%\n",
      "Epoch  11:     9169 / 10000 = 91.7%\n",
      "Epoch  12:     9182 / 10000 = 91.8%\n",
      "Epoch  13:     9171 / 10000 = 91.7%\n",
      "Epoch  14:     9204 / 10000 = 92.0%\n"
     ]
    }
   ],
   "source": [
    "testNetwork3 = Network([784, 20, 10, 10]) # 30 neurons\n",
    "testNetwork3.SGD(training_data, epochs=15, mini_batch_size=10, eta=0.5, test_data=test_data)"
   ]
  },
  {
   "cell_type": "code",
   "execution_count": 50,
   "metadata": {
    "collapsed": true
   },
   "outputs": [
    {
     "data": {
      "image/png": "[encoded data removed]",
      "text/plain": [
       "<Figure size 432x288 with 1 Axes>"
      ]
     },
     "metadata": {
      "needs_background": "light"
     },
     "output_type": "display_data"
    },
    {
     "name": "stdout",
     "output_type": "stream",
     "text": [
      "7\n"
     ]
    },
    {
     "data": {
      "text/plain": [
       "1"
      ]
     },
     "execution_count": 50,
     "metadata": {},
     "output_type": "execute_result"
    }
   ],
   "source": [
    "# test for specific digit\n",
    "plt.imshow(test_data[0][0].reshape(28, 28))\n",
    "plt.show()\n",
    "print(test_data[0][1])\n",
    "testNetwork0.evaluate([test_data[0]])"
   ]
  },
  {
   "cell_type": "code",
   "execution_count": 76,
   "metadata": {},
   "outputs": [
    {
     "name": "stdout",
     "output_type": "stream",
     "text": [
      "generate data for T= 3.000\n",
      "generate data for T= 2.300\n",
      "generate data for T= 1.500\n",
      "save data to  mcIsing.pkl.gz\n"
     ]
    }
   ],
   "source": [
    "data = mc_data.generate_data() # T = 3, 2.3, 1.5\n",
    "mc_data.save_data(data, filename=\"mcIsing.pkl.gz\")"
   ]
  },
  {
   "cell_type": "code",
   "execution_count": 78,
   "metadata": {},
   "outputs": [
    {
     "name": "stdout",
     "output_type": "stream",
     "text": [
      "number of different labels for the output: 3\n"
     ]
    },
    {
     "data": {
      "text/plain": [
       "(30000, 6000, 6000)"
      ]
     },
     "execution_count": 78,
     "metadata": {},
     "output_type": "execute_result"
    }
   ],
   "source": [
    "mc_training_data, mc_validation_data, mc_test_data = loader.load_data_wrapper('mcIsing.pkl.gz')\n",
    "len(mc_training_data), len(mc_validation_data), len(mc_test_data)"
   ]
  },
  {
   "cell_type": "code",
   "execution_count": 79,
   "metadata": {
    "scrolled": true
   },
   "outputs": [
    {
     "data": {
      "image/png": "[encoded data removed]",
      "text/plain": [
       "<Figure size 432x360 with 4 Axes>"
      ]
     },
     "metadata": {
      "needs_background": "light"
     },
     "output_type": "display_data"
    },
    {
     "name": "stdout",
     "output_type": "stream",
     "text": [
      "[[0.]\n",
      " [1.]\n",
      " [0.]]\n",
      "[[1.]\n",
      " [0.]\n",
      " [0.]]\n",
      "[[0.]\n",
      " [1.]\n",
      " [0.]]\n",
      "[[1.]\n",
      " [0.]\n",
      " [0.]]\n"
     ]
    }
   ],
   "source": [
    "plt.figure(figsize=(6, 5), dpi=72)\n",
    "plt.subplot(2, 2, 1)\n",
    "plt.imshow(mc_training_data[0][0].reshape(28, 28))\n",
    "\n",
    "plt.subplot(2, 2, 2)\n",
    "plt.imshow(mc_training_data[1][0].reshape(28, 28))\n",
    "\n",
    "plt.subplot(2, 2, 3)\n",
    "plt.imshow(mc_training_data[2][0].reshape(28, 28))\n",
    "\n",
    "plt.subplot(2, 2, 4)\n",
    "plt.imshow(mc_training_data[3][0].reshape(28, 28))\n",
    "\n",
    "plt.tight_layout() # subplot padding\n",
    "plt.show()\n",
    "\n",
    "for i in range(4):\n",
    "    print(mc_training_data[i][1])"
   ]
  },
  {
   "cell_type": "code",
   "execution_count": 82,
   "metadata": {},
   "outputs": [
    {
     "name": "stdout",
     "output_type": "stream",
     "text": [
      "Epoch  0:     3316 / 6000 = 55.3%\n",
      "Epoch  1:     3480 / 6000 = 58.0%\n",
      "Epoch  2:     3613 / 6000 = 60.2%\n",
      "Epoch  3:     3486 / 6000 = 58.1%\n",
      "Epoch  4:     3803 / 6000 = 63.4%\n",
      "Epoch  5:     3644 / 6000 = 60.7%\n",
      "Epoch  6:     3939 / 6000 = 65.7%\n",
      "Epoch  7:     3923 / 6000 = 65.4%\n",
      "Epoch  8:     4046 / 6000 = 67.4%\n",
      "Epoch  9:     4078 / 6000 = 68.0%\n",
      "Epoch  10:     4087 / 6000 = 68.1%\n",
      "Epoch  11:     4035 / 6000 = 67.2%\n",
      "Epoch  12:     4134 / 6000 = 68.9%\n",
      "Epoch  13:     4071 / 6000 = 67.8%\n",
      "Epoch  14:     4144 / 6000 = 69.1%\n"
     ]
    }
   ],
   "source": [
    "mcNetwork0 = Network([784, 30, 3]) # 30 neurons\n",
    "mcNetwork0.SGD(mc_training_data, epochs=15, mini_batch_size=10, eta=0.5, test_data=mc_test_data)"
   ]
  },
  {
   "cell_type": "code",
   "execution_count": 83,
   "metadata": {},
   "outputs": [
    {
     "name": "stdout",
     "output_type": "stream",
     "text": [
      "Epoch  0:     5297 / 6000 = 88.3%\n",
      "Epoch  1:     5439 / 6000 = 90.7%\n",
      "Epoch  2:     5304 / 6000 = 88.4%\n",
      "Epoch  3:     5456 / 6000 = 90.9%\n",
      "Epoch  4:     5525 / 6000 = 92.1%\n",
      "Epoch  5:     5517 / 6000 = 92.0%\n",
      "Epoch  6:     5479 / 6000 = 91.3%\n",
      "Epoch  7:     5507 / 6000 = 91.8%\n",
      "Epoch  8:     5540 / 6000 = 92.3%\n",
      "Epoch  9:     5526 / 6000 = 92.1%\n",
      "Epoch  10:     5500 / 6000 = 91.7%\n",
      "Epoch  11:     5540 / 6000 = 92.3%\n",
      "Epoch  12:     5541 / 6000 = 92.3%\n",
      "Epoch  13:     5551 / 6000 = 92.5%\n",
      "Epoch  14:     5541 / 6000 = 92.3%\n"
     ]
    }
   ],
   "source": [
    "mcNetwork1 = Network([784, 20, 10, 3]) # 30 neurons\n",
    "mcNetwork1.SGD(mc_training_data, epochs=15, mini_batch_size=10, eta=0.5, test_data=mc_test_data)"
   ]
  },
  {
   "cell_type": "code",
   "execution_count": 84,
   "metadata": {},
   "outputs": [
    {
     "name": "stdout",
     "output_type": "stream",
     "text": [
      "Epoch  0:     4610 / 6000 = 76.8%\n",
      "Epoch  1:     5321 / 6000 = 88.7%\n",
      "Epoch  2:     5361 / 6000 = 89.3%\n",
      "Epoch  3:     5477 / 6000 = 91.3%\n",
      "Epoch  4:     5503 / 6000 = 91.7%\n",
      "Epoch  5:     5548 / 6000 = 92.5%\n",
      "Epoch  6:     5544 / 6000 = 92.4%\n",
      "Epoch  7:     5542 / 6000 = 92.4%\n",
      "Epoch  8:     5533 / 6000 = 92.2%\n",
      "Epoch  9:     5573 / 6000 = 92.9%\n",
      "Epoch  10:     5530 / 6000 = 92.2%\n",
      "Epoch  11:     5466 / 6000 = 91.1%\n",
      "Epoch  12:     5457 / 6000 = 91.0%\n",
      "Epoch  13:     5528 / 6000 = 92.1%\n",
      "Epoch  14:     5518 / 6000 = 92.0%\n"
     ]
    }
   ],
   "source": [
    "mcNetwork2 = Network([784, 20, 10, 10, 3]) # 40 neurons\n",
    "mcNetwork2.SGD(mc_training_data, epochs=15, mini_batch_size=10, eta=0.5, test_data=mc_test_data)"
   ]
  }
 ],
 "metadata": {
  "kernelspec": {
   "display_name": "Python 3",
   "language": "python",
   "name": "python3"
  },
  "language_info": {
   "codemirror_mode": {
    "name": "ipython",
    "version": 3
   },
   "file_extension": ".py",
   "mimetype": "text/x-python",
   "name": "python",
   "nbconvert_exporter": "python",
   "pygments_lexer": "ipython3",
   "version": "3.7.3"
  },
  "toc": {
   "base_numbering": 1,
   "nav_menu": {},
   "number_sections": false,
   "sideBar": false,
   "skip_h1_title": false,
   "title_cell": "Contents",
   "title_sidebar": "Contents",
   "toc_cell": false,
   "toc_position": {},
   "toc_section_display": true,
   "toc_window_display": false
  },
  "varInspector": {
   "cols": {
    "lenName": 16,
    "lenType": 16,
    "lenVar": 40
   },
   "kernels_config": {
    "python": {
     "delete_cmd_postfix": "",
     "delete_cmd_prefix": "del ",
     "library": "var_list.py",
     "varRefreshCmd": "print(var_dic_list())"
    },
    "r": {
     "delete_cmd_postfix": ") ",
     "delete_cmd_prefix": "rm(",
     "library": "var_list.r",
     "varRefreshCmd": "cat(var_dic_list()) "
    }
   },
   "types_to_exclude": [
    "module",
    "function",
    "builtin_function_or_method",
    "instance",
    "_Feature"
   ],
   "window_display": false
  }
 },
 "nbformat": 4,
 "nbformat_minor": 2
}
