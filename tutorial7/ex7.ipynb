{
 "cells": [
  {
   "cell_type": "code",
   "execution_count": 1,
   "metadata": {},
   "outputs": [],
   "source": [
    "import numpy as np\n",
    "import matplotlib.pyplot as plt\n",
    "%matplotlib inline\n",
    "\n",
    "import a_mps as mps\n",
    "import b_model as tfi\n",
    "import c_tebd as tebd\n",
    "import tfi_exact"
   ]
  },
  {
   "cell_type": "code",
   "execution_count": 127,
   "metadata": {},
   "outputs": [],
   "source": [
    "def init_spinupX_MPS(L):\n",
    "    \"\"\"Return a product state of |+> as an MPS\"\"\"\n",
    "    B = np.zeros([1, 2, 1], np.float)\n",
    "    B[0, :, 0] = 1./np.sqrt(2)\n",
    "    S = np.ones([1], np.float)\n",
    "    Bs = [B.copy() for i in range(L)]\n",
    "    Ss = [S.copy() for i in range(L)]\n",
    "    return mps.MPS(Bs, Ss)"
   ]
  },
  {
   "cell_type": "code",
   "execution_count": 136,
   "metadata": {},
   "outputs": [
    {
     "name": "stdout",
     "output_type": "stream",
     "text": [
      "[1. 1. 1. 1. 1. 1. 1. 1. 1. 1. 1. 1. 1. 1.]\n",
      "[0. 0. 0. 0. 0. 0. 0. 0. 0. 0. 0. 0. 0. 0.]\n",
      "[-0. -0. -0. -0. -0. -0. -0. -0. -0. -0. -0. -0. -0.]\n",
      "\n",
      "[0. 0. 0. 0. 0. 0. 0. 0. 0. 0. 0. 0. 0. 0.]\n",
      "[1. 1. 1. 1. 1. 1. 1. 1. 1. 1. 1. 1. 1. 1.]\n",
      "[-0. -0. -0. -0. -0. -0. -0. -0. -0. -0. -0. -0. -0.]\n"
     ]
    }
   ],
   "source": [
    "L = 14\n",
    "mps_spinup = mps.init_spinup_MPS(L)\n",
    "mps_spinupX = init_spinupX_MPS(L)\n",
    "\n",
    "Sz = [[1,0],[0,-1]]\n",
    "Sx = [[0,1],[1,0]]\n",
    "Ex1 = mps_spinup.site_expectation_value(Sx)\n",
    "Ez1 = mps_spinup.site_expectation_value(Sz)\n",
    "entropy1 = mps_spinup.entanglement_entropy()\n",
    "print(Ez1, Ex1, entropy1, '', sep='\\n')\n",
    "\n",
    "Ez2 = mps_spinupX.site_expectation_value(Sz)\n",
    "Ex2 = mps_spinupX.site_expectation_value(Sx)\n",
    "entropy2 = mps_spinupX.entanglement_entropy()\n",
    "print(Ez2, Ex2, entropy2, sep='\\n')"
   ]
  },
  {
   "cell_type": "code",
   "execution_count": 137,
   "metadata": {},
   "outputs": [
    {
     "name": "stdout",
     "output_type": "stream",
     "text": [
      "[-7.0, -14.0, -21.0]\n",
      "[-13. -13. -13.]\n"
     ]
    }
   ],
   "source": [
    "J = 1\n",
    "gs = [0.5, 1, 1.5]\n",
    "tising = [tfi.TFIModel(L, J, g) for g in gs]\n",
    "\n",
    "Ezs = [model.energy(mps_spinup) for model in tising]\n",
    "Exs = [model.energy(mps_spinupX) for model in tising]\n",
    "\n",
    "print(Ezs, np.round(Exs,3), sep='\\n')"
   ]
  },
  {
   "cell_type": "code",
   "execution_count": 10,
   "metadata": {},
   "outputs": [
    {
     "name": "stdout",
     "output_type": "stream",
     "text": [
      "finite TEBD, (imaginary time evolution)\n",
      "L=14, J=1.0, g=1.50\n",
      "dt = 0.10000: E = -23.1210722544100\n",
      "dt = 0.01000: E = -23.2133644786914\n",
      "dt = 0.00100: E = -23.2220037685472\n",
      "dt = 0.00010: E = -23.2228606166766\n",
      "dt = 0.00001: E = -23.2229463553360\n",
      "final bond dimensions:  [2, 4, 8, 13, 17, 18, 18, 18, 17, 13, 8, 4, 2]\n",
      "Exact diagonalization: E = -23.2229594341173\n",
      "relative error:  5.631832293847337e-07\n"
     ]
    },
    {
     "data": {
      "text/plain": [
       "(-23.222946355336028,\n",
       " <a_mps.MPS at 0x7fef00bbca58>,\n",
       " <b_model.TFIModel at 0x7fef00bbc128>)"
      ]
     },
     "execution_count": 10,
     "metadata": {},
     "output_type": "execute_result"
    }
   ],
   "source": [
    "tebd.example_TEBD_gs_finite(L, J, gs[2])"
   ]
  },
  {
   "cell_type": "code",
   "execution_count": 142,
   "metadata": {
    "scrolled": true
   },
   "outputs": [
    {
     "name": "stdout",
     "output_type": "stream",
     "text": [
      "[1.e-01 1.e-02 1.e-03 1.e-04 1.e-05]\n"
     ]
    },
    {
     "ename": "TypeError",
     "evalue": "only size-1 arrays can be converted to Python scalars",
     "output_type": "error",
     "traceback": [
      "\u001b[0;31m---------------------------------------------------------------------------\u001b[0m",
      "\u001b[0;31mTypeError\u001b[0m                                 Traceback (most recent call last)",
      "\u001b[0;32m<ipython-input-142-3e74c262644d>\u001b[0m in \u001b[0;36m<module>\u001b[0;34m\u001b[0m\n\u001b[1;32m      5\u001b[0m \u001b[0mN_steps\u001b[0m \u001b[0;34m=\u001b[0m \u001b[0;36m1\u001b[0m\u001b[0;34m\u001b[0m\u001b[0;34m\u001b[0m\u001b[0m\n\u001b[1;32m      6\u001b[0m \u001b[0;34m\u001b[0m\u001b[0m\n\u001b[0;32m----> 7\u001b[0;31m \u001b[0mt\u001b[0m \u001b[0;34m=\u001b[0m \u001b[0;34m[\u001b[0m\u001b[0mdt\u001b[0m \u001b[0;34m*\u001b[0m \u001b[0mN_steps\u001b[0m \u001b[0;34m*\u001b[0m \u001b[0mi\u001b[0m \u001b[0;32mfor\u001b[0m \u001b[0mi\u001b[0m \u001b[0;32min\u001b[0m \u001b[0mrange\u001b[0m\u001b[0;34m(\u001b[0m\u001b[0mint\u001b[0m\u001b[0;34m(\u001b[0m\u001b[0;36m10\u001b[0m\u001b[0;34m*\u001b[0m\u001b[0mJ\u001b[0m \u001b[0;34m/\u001b[0m \u001b[0;34m(\u001b[0m\u001b[0mN_steps\u001b[0m\u001b[0;34m*\u001b[0m\u001b[0mdt\u001b[0m\u001b[0;34m)\u001b[0m\u001b[0;34m)\u001b[0m\u001b[0;34m)\u001b[0m\u001b[0;34m]\u001b[0m\u001b[0;34m\u001b[0m\u001b[0;34m\u001b[0m\u001b[0m\n\u001b[0m\u001b[1;32m      8\u001b[0m \u001b[0;31m# t = [0] * 10*J / (N_steps*dt) # until t=10J\u001b[0m\u001b[0;34m\u001b[0m\u001b[0;34m\u001b[0m\u001b[0;34m\u001b[0m\u001b[0m\n\u001b[1;32m      9\u001b[0m \u001b[0mE\u001b[0m \u001b[0;34m=\u001b[0m \u001b[0;34m[\u001b[0m\u001b[0;34m]\u001b[0m\u001b[0;34m\u001b[0m\u001b[0;34m\u001b[0m\u001b[0m\n",
      "\u001b[0;31mTypeError\u001b[0m: only size-1 arrays can be converted to Python scalars"
     ]
    }
   ],
   "source": [
    "chi_max = 30\n",
    "eps = 1.e-10\n",
    "dt = 0.1\n",
    "N_steps = 1\n",
    "\n",
    "t = [dt * N_steps * i for i in range(int(10*J / (N_steps*dt)))]\n",
    "# t = [0] * 10*J / (N_steps*dt) # until t=10J\n",
    "E = []\n",
    "magnet = []\n",
    "halfchain_entropy = []\n",
    "\n",
    "for i in range(len(t)):\n",
    "    # U_bonds[i] = expm(-dt*model.H_bonds[i]) -> dt: imaginary time\n",
    "    U_bonds = tebd.calc_U_bonds(tising[2], 1j*dt)\n",
    "    tebd.run_TEBD(mps_spinup, U_bonds, N_steps, chi_max, eps) # evolve state psi in place\n",
    "\n",
    "    E.append(tising[2].energy(mps_spinup))\n",
    "    magnet.append(np.sum(mps_spinup.site_expectation_value(Sz)))\n",
    "    halfchain_entropy.append(mps_spinup.entanglement_entropy()[L//2])\n",
    "\n",
    "    print(\"t = %6.3f: E = %.3f, M = %.3f, S_halfchain = %.3f\"\n",
    "          % (t[i], E[i], magnet[i], halfchain_entropy[i]))\n",
    "\n",
    "print(\"Final bond dimensions:\", mps_spinup.get_chi())"
   ]
  },
  {
   "cell_type": "code",
   "execution_count": 139,
   "metadata": {
    "scrolled": true
   },
   "outputs": [
    {
     "data": {
      "image/png": "[encoded data removed]",
      "text/plain": [
       "<Figure size 432x288 with 1 Axes>"
      ]
     },
     "metadata": {
      "needs_background": "light"
     },
     "output_type": "display_data"
    },
    {
     "data": {
      "image/png": "[encoded data removed]",
      "text/plain": [
       "<Figure size 432x288 with 1 Axes>"
      ]
     },
     "metadata": {
      "needs_background": "light"
     },
     "output_type": "display_data"
    },
    {
     "data": {
      "image/png": "[encoded data removed]",
      "text/plain": [
       "<Figure size 432x288 with 1 Axes>"
      ]
     },
     "metadata": {
      "needs_background": "light"
     },
     "output_type": "display_data"
    }
   ],
   "source": [
    "plt.plot(t, E, 'b', linewidth=1., label='E')\n",
    "plt.legend()\n",
    "plt.xlabel('Time', fontsize=10)\n",
    "plt.ylabel('E', fontsize=10)\n",
    "plt.show()\n",
    "\n",
    "plt.plot(t, magnet, 'b', linewidth=1., label='M')\n",
    "plt.legend()\n",
    "plt.xlabel('Time', fontsize=10)\n",
    "plt.ylabel('M', fontsize=10)\n",
    "plt.show()\n",
    "\n",
    "plt.plot(t, halfchain_entropy, 'b', linewidth=1., label='Half-chain entropy')\n",
    "plt.legend()\n",
    "plt.xlabel('Time', fontsize=10)\n",
    "plt.ylabel('S', fontsize=10)\n",
    "plt.show()"
   ]
  },
  {
   "cell_type": "code",
   "execution_count": null,
   "metadata": {},
   "outputs": [],
   "source": []
  },
  {
   "cell_type": "code",
   "execution_count": null,
   "metadata": {},
   "outputs": [],
   "source": [
    "chi_max = 30\n",
    "eps = 1.e-10\n",
    "\n",
    "dts = np.array([10**-i for i in range(1,6)])\n",
    "N_steps = 10 * J\n",
    "substep = 100\n",
    "t = [0] * len(dts) * substep\n",
    "E = []\n",
    "magnet = []\n",
    "halfchain_entropy = []\n",
    "\n",
    "for i in range(len(dts)):\n",
    "    l = i * substep\n",
    "    U_bonds = tebd.calc_U_bonds(tising[2], 1j*dts[i])\n",
    "\n",
    "    for j in range(substep): \n",
    "        # U_bonds[i] = expm(-dt*model.H_bonds[i]) -> dt: imaginary time\n",
    "        tebd.run_TEBD(mps_spinup, U_bonds, N_steps, chi_max, eps) # evolve state psi in place\n",
    "        \n",
    "        t[l+j] = t[l+j-1] + dts[i] * N_steps\n",
    "        E.append(tising[2].energy(mps_spinup))\n",
    "        magnet.append(np.sum(mps_spinup.site_expectation_value(Sz)))\n",
    "        halfchain_entropy.append(mps_spinup.entanglement_entropy()[L//2])\n",
    "    \n",
    "    print(\"t = %6.3f: E = %.3f, M = %.3f, S_halfchain = %.3f\"\n",
    "          % (t[l], E[l], magnet[l], halfchain_entropy[l]))\n",
    "\n",
    "print(\"Final bond dimensions:\", mps_spinup.get_chi())"
   ]
  },
  {
   "cell_type": "code",
   "execution_count": null,
   "metadata": {},
   "outputs": [],
   "source": [
    "    if L < 20:  # for small systems compare to exact diagonalization\n",
    "        E_exact = tfi_exact.finite_gs_energy(L, 1., g)\n",
    "        print(\"Exact diagonalization: E = {E:.13f}\".format(E=E_exact))\n",
    "        print(\"relative error: \", abs((E - E_exact) / E_exact))\n",
    "    return E, psi, model"
   ]
  }
 ],
 "metadata": {
  "kernelspec": {
   "display_name": "Python 3",
   "language": "python",
   "name": "python3"
  },
  "language_info": {
   "codemirror_mode": {
    "name": "ipython",
    "version": 3
   },
   "file_extension": ".py",
   "mimetype": "text/x-python",
   "name": "python",
   "nbconvert_exporter": "python",
   "pygments_lexer": "ipython3",
   "version": "3.7.3"
  },
  "toc": {
   "base_numbering": 1,
   "nav_menu": {},
   "number_sections": false,
   "sideBar": false,
   "skip_h1_title": false,
   "title_cell": "Contents",
   "title_sidebar": "Contents",
   "toc_cell": false,
   "toc_position": {},
   "toc_section_display": true,
   "toc_window_display": false
  },
  "varInspector": {
   "cols": {
    "lenName": 16,
    "lenType": 16,
    "lenVar": 40
   },
   "kernels_config": {
    "python": {
     "delete_cmd_postfix": "",
     "delete_cmd_prefix": "del ",
     "library": "var_list.py",
     "varRefreshCmd": "print(var_dic_list())"
    },
    "r": {
     "delete_cmd_postfix": ") ",
     "delete_cmd_prefix": "rm(",
     "library": "var_list.r",
     "varRefreshCmd": "cat(var_dic_list()) "
    }
   },
   "types_to_exclude": [
    "module",
    "function",
    "builtin_function_or_method",
    "instance",
    "_Feature"
   ],
   "window_display": false
  }
 },
 "nbformat": 4,
 "nbformat_minor": 2
}
