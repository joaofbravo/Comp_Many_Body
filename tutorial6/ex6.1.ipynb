{
 "cells": [
  {
   "cell_type": "code",
   "execution_count": 72,
   "metadata": {},
   "outputs": [],
   "source": [
    "import numpy as np\n",
    "from scipy import linalg\n",
    "from scipy import sparse\n",
    "import scipy.sparse.linalg as spslinalg\n",
    "import matplotlib.pyplot as plt\n",
    "%matplotlib inline\n",
    "\n",
    "import ed"
   ]
  },
  {
   "cell_type": "code",
   "execution_count": 75,
   "metadata": {},
   "outputs": [
    {
     "name": "stdout",
     "output_type": "stream",
     "text": [
      "-23.223 [ 0.815 -0.    -0.    ...  0.     0.     0.   ]\n",
      "1.0000000000000027  or  1.0000000000000013\n"
     ]
    }
   ],
   "source": [
    "L = 14\n",
    "g = 1.5\n",
    "J = 1.\n",
    "sx_list = ed.gen_sx_list(L)\n",
    "sz_list = ed.gen_sz_list(L)\n",
    "H = ed.gen_hamiltonian(sx_list, sz_list, g, J)\n",
    "\n",
    "k = 6\n",
    "eigval, eigvec = spslinalg.eigsh(H, k, which='SA') # smallest algebraic eigevals\n",
    "for i in range(1):\n",
    "    print(np.around(eigval[i], 3), np.around(eigvec[:, i], 3))\n",
    "\n",
    "ground = eigvec[:, 0]\n",
    "assert ground.shape == (2**L, ) # throw error if false\n",
    "print(np.inner(ground.conj(), ground), ' or ', np.linalg.norm(ground)) # <v0|v0> = 1\n",
    "# print(np.inner(ground.conj(), H*ground)) # E0 = <v0|H|v0>"
   ]
  },
  {
   "cell_type": "code",
   "execution_count": 186,
   "metadata": {},
   "outputs": [],
   "source": [
    "def compress(psi, L, chimax):\n",
    "    '''Compress a state into MPS form using successive SVDs.'''\n",
    "    \n",
    "    psi_aR = psi.reshape(1, 2**L) # add trivial bond\n",
    "    M = [] # 3 indices (αn, jn, αn+1)\n",
    "    \n",
    "    for n in range(1, L+1):\n",
    "        # R_n = (jn, jn+1, ..., jL) -> indices for remaining block of state psi\n",
    "        chi_L, dim_R = psi_aR.shape\n",
    "        assert dim_R == 2**(L-(n-1))\n",
    "        print('chi_L:', chi_L, ' dim_R:', dim_R, end='')\n",
    "        \n",
    "        psi_LR = psi_aR.reshape(2*chi_L, dim_R//2) # 2*chi_L = L_n, dim_Rn//2 = dim_R_n+1\n",
    "        M_n, lambda_n, psi_tilde = linalg.svd(psi_LR, full_matrices=False, lapack_driver='gesvd')\n",
    "        \n",
    "        # truncate to bond dimension chimax\n",
    "        if len(lambda_n) > chimax:\n",
    "            keep = np.argsort(lambda_n)[::-1][:chimax]\n",
    "            M_n = M_n[:, keep]\n",
    "            lambda_n = lambda_n[keep]\n",
    "            psi_tilde = psi_tilde[keep, :]\n",
    "    \n",
    "        print('\\t M_n:', M_n.shape, ' lambda_n:', lambda_n.shape,\n",
    "              ' psi_tilde:', psi_tilde.shape, end='')\n",
    "    \n",
    "        chi_n_1 = len(lambda_n) # bond n+1 dimension\n",
    "        M_n = M_n.reshape((chi_L, 2, chi_n_1)) # Ln=(αn, jn), (Ln, αn+1) -> (αn, jn, αn+1)\n",
    "        M.append(M_n)\n",
    "        \n",
    "        # Reabsorb lambda_n into psi\n",
    "        psi_aR = lambda_n[:, np.newaxis] * psi_tilde[:, :]\n",
    "        print(' \\t\\tM_n:', M_n.shape, ' psi_aR:', psi_aR.shape)\n",
    "        \n",
    "    assert psi_aR.shape == (1, 1)\n",
    "    print(\"Remaining psi_aR in compress: \", psi_aR)\n",
    "    return M"
   ]
  },
  {
   "cell_type": "code",
   "execution_count": 187,
   "metadata": {},
   "outputs": [
    {
     "name": "stdout",
     "output_type": "stream",
     "text": [
      "chi_L: 1  dim_R: 16384\t M_n: (2, 2)  lambda_n: (2,)  psi_tilde: (2, 8192) \t\tM_n: (1, 2, 2)  psi_aR: (2, 8192)\n",
      "chi_L: 2  dim_R: 8192\t M_n: (4, 4)  lambda_n: (4,)  psi_tilde: (4, 4096) \t\tM_n: (2, 2, 4)  psi_aR: (4, 4096)\n",
      "chi_L: 4  dim_R: 4096\t M_n: (8, 8)  lambda_n: (8,)  psi_tilde: (8, 2048) \t\tM_n: (4, 2, 8)  psi_aR: (8, 2048)\n",
      "chi_L: 8  dim_R: 2048\t M_n: (16, 16)  lambda_n: (16,)  psi_tilde: (16, 1024) \t\tM_n: (8, 2, 16)  psi_aR: (16, 1024)\n",
      "chi_L: 16  dim_R: 1024\t M_n: (32, 32)  lambda_n: (32,)  psi_tilde: (32, 512) \t\tM_n: (16, 2, 32)  psi_aR: (32, 512)\n",
      "chi_L: 32  dim_R: 512\t M_n: (64, 64)  lambda_n: (64,)  psi_tilde: (64, 256) \t\tM_n: (32, 2, 64)  psi_aR: (64, 256)\n",
      "chi_L: 64  dim_R: 256\t M_n: (128, 128)  lambda_n: (128,)  psi_tilde: (128, 128) \t\tM_n: (64, 2, 128)  psi_aR: (128, 128)\n",
      "chi_L: 128  dim_R: 128\t M_n: (256, 64)  lambda_n: (64,)  psi_tilde: (64, 64) \t\tM_n: (128, 2, 64)  psi_aR: (64, 64)\n",
      "chi_L: 64  dim_R: 64\t M_n: (128, 32)  lambda_n: (32,)  psi_tilde: (32, 32) \t\tM_n: (64, 2, 32)  psi_aR: (32, 32)\n",
      "chi_L: 32  dim_R: 32\t M_n: (64, 16)  lambda_n: (16,)  psi_tilde: (16, 16) \t\tM_n: (32, 2, 16)  psi_aR: (16, 16)\n",
      "chi_L: 16  dim_R: 16\t M_n: (32, 8)  lambda_n: (8,)  psi_tilde: (8, 8) \t\tM_n: (16, 2, 8)  psi_aR: (8, 8)\n",
      "chi_L: 8  dim_R: 8\t M_n: (16, 4)  lambda_n: (4,)  psi_tilde: (4, 4) \t\tM_n: (8, 2, 4)  psi_aR: (4, 4)\n",
      "chi_L: 4  dim_R: 4\t M_n: (8, 2)  lambda_n: (2,)  psi_tilde: (2, 2) \t\tM_n: (4, 2, 2)  psi_aR: (2, 2)\n",
      "chi_L: 2  dim_R: 2\t M_n: (4, 1)  lambda_n: (1,)  psi_tilde: (1, 1) \t\tM_n: (2, 2, 1)  psi_aR: (1, 1)\n",
      "Remaining psi_aR in compress:  [[1.]]\n"
     ]
    }
   ],
   "source": [
    "M = compress(ground, L, 2**(L//2))"
   ]
  },
  {
   "cell_type": "code",
   "execution_count": null,
   "metadata": {},
   "outputs": [],
   "source": []
  }
 ],
 "metadata": {
  "kernelspec": {
   "display_name": "Python 3",
   "language": "python",
   "name": "python3"
  },
  "language_info": {
   "codemirror_mode": {
    "name": "ipython",
    "version": 3
   },
   "file_extension": ".py",
   "mimetype": "text/x-python",
   "name": "python",
   "nbconvert_exporter": "python",
   "pygments_lexer": "ipython3",
   "version": "3.7.3"
  },
  "toc": {
   "base_numbering": 1,
   "nav_menu": {},
   "number_sections": false,
   "sideBar": false,
   "skip_h1_title": false,
   "title_cell": "Contents",
   "title_sidebar": "Contents",
   "toc_cell": false,
   "toc_position": {},
   "toc_section_display": true,
   "toc_window_display": false
  },
  "varInspector": {
   "cols": {
    "lenName": 16,
    "lenType": 16,
    "lenVar": 40
   },
   "kernels_config": {
    "python": {
     "delete_cmd_postfix": "",
     "delete_cmd_prefix": "del ",
     "library": "var_list.py",
     "varRefreshCmd": "print(var_dic_list())"
    },
    "r": {
     "delete_cmd_postfix": ") ",
     "delete_cmd_prefix": "rm(",
     "library": "var_list.r",
     "varRefreshCmd": "cat(var_dic_list()) "
    }
   },
   "types_to_exclude": [
    "module",
    "function",
    "builtin_function_or_method",
    "instance",
    "_Feature"
   ],
   "window_display": false
  }
 },
 "nbformat": 4,
 "nbformat_minor": 2
}
