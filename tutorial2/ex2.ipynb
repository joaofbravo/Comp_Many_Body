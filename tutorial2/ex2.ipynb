{
 "cells": [
  {
   "cell_type": "code",
   "execution_count": 1,
   "metadata": {},
   "outputs": [],
   "source": [
    "import numpy as np\n",
    "from scipy.sparse import csr_matrix\n",
    "from scipy.sparse.csgraph import connected_components"
   ]
  },
  {
   "cell_type": "code",
   "execution_count": 2,
   "metadata": {},
   "outputs": [],
   "source": [
    "def initBonds(Lx, Ly):\n",
    "    if Lx < 3 or Ly < 3:\n",
    "        print(\"Lx,Ly size must be bigger than 2!\")\n",
    "        return 0\n",
    "    \n",
    "    def site(x,y):\n",
    "        return y*Lx + x\n",
    "    \n",
    "    bonds = []\n",
    "    for y in range(Ly):\n",
    "        for x in range(Lx):\n",
    "            n = site(x,y)\n",
    "            m1 = site((x+1)%Lx,y)\n",
    "            m2 = site(x,(y+1)%Ly)\n",
    "            bonds.append([n,m1])\n",
    "            bonds.append([n,m2])\n",
    "            \n",
    "    return np.array(bonds)"
   ]
  },
  {
   "cell_type": "code",
   "execution_count": 3,
   "metadata": {},
   "outputs": [],
   "source": [
    "def initSpins(N):\n",
    "    return 2*(np.random.randint(0,2,size=N)-0.5)"
   ]
  },
  {
   "cell_type": "code",
   "execution_count": 4,
   "metadata": {},
   "outputs": [],
   "source": [
    "def getWeigths(spins, bonds, T):\n",
    "    parallel = (spins[bonds[:, 0]] == spins[bonds[:, 1]])\n",
    "    \n",
    "    weights = []\n",
    "    prob = np.exp(-2/T)\n",
    "    for i in parallel:\n",
    "        if not i:\n",
    "            weights.append(0)\n",
    "        elif np.random.random() < prob:\n",
    "            weights.append(0)\n",
    "        else:\n",
    "            weights.append(1)\n",
    "    \n",
    "    return np.array(weights)"
   ]
  },
  {
   "cell_type": "code",
   "execution_count": 38,
   "metadata": {},
   "outputs": [],
   "source": [
    "def flipClusters(Nclusters, clusters, spins):\n",
    "    prob = np.random.rand(Nclusters)\n",
    "    flip = prob > 0.5\n",
    "\n",
    "    for i in range(Nclusters):\n",
    "        if flip[i]:\n",
    "            flipcluster = (clusters == i)\n",
    "            spins[flipcluster] = -spins[flipcluster]"
   ]
  },
  {
   "cell_type": "code",
   "execution_count": 39,
   "metadata": {},
   "outputs": [],
   "source": [
    "def getMagnetization(spins):\n",
    "    return spins.sum()"
   ]
  },
  {
   "cell_type": "code",
   "execution_count": 40,
   "metadata": {},
   "outputs": [],
   "source": [
    "def getEnergy(spins,bonds):\n",
    "    return sum(spins[bonds[:, 0]]*spins[bonds[:, 1]])"
   ]
  },
  {
   "cell_type": "code",
   "execution_count": 41,
   "metadata": {},
   "outputs": [],
   "source": [
    "def SwendsenWangUpdate(spins, bonds, T):\n",
    "    N = len(spins)\n",
    "    weights = getWeigths(spins, bonds, T)\n",
    "    sparseWeights = csr_matrix((weights, (bonds[:, 0], bonds[:, 1])), shape=(N, N))\n",
    "    sparseWeights += csr_matrix((weights, (bonds[:, 1], bonds[:, 0])), shape=(N, N))\n",
    "    Nclusters, clusters = connected_components(sparseWeights)\n",
    "    flipClusters(Nclusters, clusters, spins)\n",
    "    # print(Nclusters, clusters)"
   ]
  },
  {
   "cell_type": "code",
   "execution_count": 68,
   "metadata": {},
   "outputs": [],
   "source": [
    "def runMonteCarlo(spins, bonds, T, N):\n",
    "    energy = []\n",
    "    magnet = []\n",
    "    for i in range(N):\n",
    "        SwendsenWangUpdate(spins,bonds,T)\n",
    "        energy.append(getEnergy(spins, bonds))\n",
    "        magnet.append(getMagnetization(spins))\n",
    "    return np.array(energy), np.array(magnet)"
   ]
  },
  {
   "cell_type": "code",
   "execution_count": 73,
   "metadata": {},
   "outputs": [],
   "source": [
    "def main():\n",
    "    Lx,Ly = 4,4 # 2Lx*Ly bonds\n",
    "    N = Lx * Ly\n",
    "    T = 2\n",
    "    \n",
    "    bonds = initBonds(Lx,Ly)\n",
    "    spins = initSpins(N)\n",
    "    E, M = runMonteCarlo(spins,bonds,T,10)\n",
    "    print(E,\"\\n\",M)"
   ]
  },
  {
   "cell_type": "code",
   "execution_count": 74,
   "metadata": {},
   "outputs": [
    {
     "name": "stdout",
     "output_type": "stream",
     "text": [
      "[ 4. 12. 16.  8. 32. 32. 24. 32. 32. 32.] \n",
      " [ -8.   8.  10.   8. -16.  16.  14. -16.  16.  16.]\n"
     ]
    }
   ],
   "source": [
    "if __name__ == '__main__':\n",
    "    main()"
   ]
  },
  {
   "cell_type": "code",
   "execution_count": null,
   "metadata": {},
   "outputs": [],
   "source": []
  }
 ],
 "metadata": {
  "kernelspec": {
   "display_name": "Python 3",
   "language": "python",
   "name": "python3"
  },
  "language_info": {
   "codemirror_mode": {
    "name": "ipython",
    "version": 3
   },
   "file_extension": ".py",
   "mimetype": "text/x-python",
   "name": "python",
   "nbconvert_exporter": "python",
   "pygments_lexer": "ipython3",
   "version": "3.7.3"
  }
 },
 "nbformat": 4,
 "nbformat_minor": 2
}
