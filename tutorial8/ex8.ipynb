{
 "cells": [
  {
   "cell_type": "code",
   "execution_count": 1,
   "metadata": {
    "init_cell": true
   },
   "outputs": [],
   "source": [
    "import numpy as np\n",
    "import matplotlib.pyplot as plt\n",
    "%matplotlib inline\n",
    "\n",
    "import a_mps as mps\n",
    "import b_model as tfi\n",
    "import d_dmrg as dmrg\n",
    "import tfi_exact"
   ]
  },
  {
   "cell_type": "code",
   "execution_count": 2,
   "metadata": {},
   "outputs": [],
   "source": [
    "L = 14\n",
    "J = 1\n",
    "g = 1.5\n",
    "mps_spinup = mps.init_spinup_MPS(L)\n",
    "tising = tfi.TFIModel(L, J, g)\n",
    "dmrg_eng = dmrg.DMRGEngine(mps_spinup, tising, chi_max=30, eps=1.e-12)"
   ]
  },
  {
   "cell_type": "code",
   "execution_count": 3,
   "metadata": {},
   "outputs": [
    {
     "name": "stdout",
     "output_type": "stream",
     "text": [
      "Exact diagonalization: E = -23.2229594341173\n",
      "1 : E = -23.224981768014235   \trelative error: 8.708338412578387e-05\n",
      "2 : E = -23.22295944231679   \trelative error: 3.5307699105605556e-10\n",
      "3 : E = -23.222959434117357   \trelative error: 2.6007078344579717e-15\n",
      "4 : E = -23.222959434117357   \trelative error: 2.6007078344579717e-15\n",
      "5 : E = -23.222959434117353   \trelative error: 2.447725020666326e-15\n",
      "6 : E = -23.22295943411735   \trelative error: 2.294742206874681e-15\n",
      "7 : E = -23.22295943411736   \trelative error: 2.753690648249617e-15\n",
      "8 : E = -23.222959434117357   \trelative error: 2.6007078344579717e-15\n",
      "9 : E = -23.222959434117353   \trelative error: 2.447725020666326e-15\n",
      "10 : E = -23.222959434117353   \trelative error: 2.447725020666326e-15\n",
      "Final bond dimensions [2, 4, 8, 15, 22, 25, 25, 25, 22, 15, 8, 4, 2]\n"
     ]
    }
   ],
   "source": [
    "E_exact = tfi_exact.finite_gs_energy(L, J, g)\n",
    "print(\"Exact diagonalization: E = {E:.13f}\".format(E=E_exact))\n",
    "\n",
    "for i in range(10):\n",
    "    dmrg_eng.sweep()\n",
    "    E = tising.energy(mps_spinup)\n",
    "    print(i+1, \": E =\", E, \"  \\trelative error:\", abs((E - E_exact) / E_exact))\n",
    "print(\"Final bond dimensions\", mps_spinup.get_chi())"
   ]
  },
  {
   "cell_type": "code",
   "execution_count": 15,
   "metadata": {},
   "outputs": [],
   "source": [
    "def DMRGsimulation(L, J, g, tol=1.e-5, chi_max=30, eps=1.e-12):\n",
    "    mps_spinup = mps.init_spinup_MPS(L)\n",
    "    tising = tfi.TFIModel(L, J, g)\n",
    "    dmrg_eng = dmrg.DMRGEngine(mps_spinup, tising, chi_max, eps)\n",
    "    \n",
    "    # problematic for big L\n",
    "    # E_exact = tfi_exact.finite_gs_energy(L, J, g)\n",
    "    # print(\"Exact diagonalization: E = {E:.13f}\".format(E=E_exact))\n",
    "\n",
    "    i = 0\n",
    "    E = tising.energy(mps_spinup)\n",
    "    E_old = 0.\n",
    "    while(abs(E - E_old) > tol):\n",
    "        i+=1\n",
    "        E_old = E\n",
    "        dmrg_eng.sweep()\n",
    "        E = tising.energy(mps_spinup)\n",
    "        # print(i, \":\", E)\n",
    "    print(\"Iterations:\", i)\n",
    "    print(\"Final bond dimension:\", mps_spinup.get_chi()[L//2])\n",
    "\n",
    "    return mps_spinup, tising"
   ]
  },
  {
   "cell_type": "code",
   "execution_count": 5,
   "metadata": {},
   "outputs": [
    {
     "name": "stdout",
     "output_type": "stream",
     "text": [
      "1 : -23.224981768014235\n",
      "2 : -23.22295944231678\n",
      "3 : -23.222959434117353\n",
      "Iterations: 3\n",
      "Final bond dimension 27\n"
     ]
    }
   ],
   "source": [
    "mps_final, tising_ = DMRGsimulation(L, J, g, chi_max=30, eps=1.e-13)"
   ]
  },
  {
   "cell_type": "code",
   "execution_count": 18,
   "metadata": {
    "scrolled": true
   },
   "outputs": [
    {
     "name": "stdout",
     "output_type": "stream",
     "text": [
      "Iterations: 3\n",
      "Final bond dimension: 8\n",
      "Iterations: 3\n",
      "Final bond dimension: 26\n",
      "Iterations: 3\n",
      "Final bond dimension: 26\n",
      "Iterations: 3\n",
      "Final bond dimension: 14\n",
      "Iterations: 3\n",
      "Final bond dimension: 14\n",
      "Iterations: 3\n",
      "Final bond dimension: 14\n",
      "Half-chain entropy: [0.6843192425582532, 0.6960190018800835, 0.696067346796638, 0.0029201739311166207, 0.002920173931117469, 0.0029201739311154246]\n",
      "Iterations: 3\n",
      "Final bond dimension: 8\n",
      "Iterations: 3\n",
      "Final bond dimension: 34\n",
      "Iterations: 4\n",
      "Final bond dimension: 65\n",
      "Iterations: 4\n",
      "Final bond dimension: 100\n",
      "Iterations: 4\n",
      "Final bond dimension: 100\n",
      "Iterations: 5\n",
      "Final bond dimension: 100\n",
      "Half-chain entropy: [0.3497145578964889, 0.4216722350792018, 0.4852998971425024, 0.5457244295331072, 0.5803631847138363, 0.6047549012952119]\n",
      "Iterations: 3\n",
      "Final bond dimension: 8\n",
      "Iterations: 3\n",
      "Final bond dimension: 26\n",
      "Iterations: 3\n",
      "Final bond dimension: 28\n",
      "Iterations: 3\n",
      "Final bond dimension: 28\n",
      "Iterations: 3\n",
      "Final bond dimension: 28\n",
      "Iterations: 3\n",
      "Final bond dimension: 28\n",
      "Half-chain entropy: [0.15176047207503385, 0.15346306683949354, 0.15349123852220423, 0.15349125553862353, 0.15349125553863807, 0.1534912555386394]\n"
     ]
    }
   ],
   "source": [
    "Ls = [8, 16, 32, 64, 96, 128]\n",
    "gs = [0.5, 1.0, 1.5]\n",
    "J = 1\n",
    "tol = 1.e-5\n",
    "chi_max = 100\n",
    "eps = 1.e-12\n",
    "\n",
    "halfchain_entropy = [[] for _ in range(len(gs))]\n",
    "for i, g in enumerate(gs):\n",
    "    for L in Ls:\n",
    "        mps_final, tising_final = DMRGsimulation(L, J, g, tol, chi_max, eps)\n",
    "        halfchain_entropy[i].append(mps_final.entanglement_entropy()[L//2])\n",
    "    print(\"Half-chain entropy:\", halfchain_entropy[i])"
   ]
  },
  {
   "cell_type": "code",
   "execution_count": 36,
   "metadata": {},
   "outputs": [
    {
     "name": "stdout",
     "output_type": "stream",
     "text": [
      " \n",
      "0.08518 x + 0.1915 \n",
      "S(L) = c/6 * log(L) -> c = 0.5110828471124241\n"
     ]
    },
    {
     "data": {
      "image/png": "[encoded data removed]",
      "text/plain": [
       "<Figure size 432x288 with 1 Axes>"
      ]
     },
     "metadata": {
      "needs_background": "light"
     },
     "output_type": "display_data"
    }
   ],
   "source": [
    "for i in range(len(gs)):\n",
    "    plt.plot(Ls, halfchain_entropy[i], '-o', linewidth=1., label='g='+str(gs[i]))\n",
    "\n",
    "# S(L) = c/6 * log(L)\n",
    "fitcoeff = np.polyfit(np.log(Ls[-3:]), halfchain_entropy[1][-3:], 1) # 1st degree\n",
    "pol = np.poly1d(fitcoeff)\n",
    "print(pol, \"\\nS(L) = c/6 * log(L) -> c =\", 6 * fitcoeff[0])\n",
    "plt.plot((Ls), pol(np.log(Ls)))\n",
    "\n",
    "plt.xscale(\"log\")\n",
    "plt.legend()\n",
    "plt.xlabel('System size', fontsize=10)\n",
    "plt.ylabel('S', fontsize=10)\n",
    "plt.title('Half-chain entropy', fontsize=14)\n",
    "plt.show()"
   ]
  },
  {
   "cell_type": "code",
   "execution_count": 41,
   "metadata": {},
   "outputs": [],
   "source": [
    "# correlations <ψ| X_i Y_j |ψ> for j ≥ i.\n",
    "def equaltime_Correlation(psi, X, Y, i):\n",
    "    L = psi.L\n",
    "    assert i < L\n",
    "    corrs = []\n",
    "    \n",
    "    # first case: j = i\n",
    "    # Note: psi.get_theta(i) = Lambda[i] B[i] with axes vL i vR\n",
    "    theta = psi.get_theta1(i)  # vL i vR\n",
    "    X_Y_theta = np.tensordot(np.dot(X, Y), # i [i*], [i] i*\n",
    "                             theta, axes=([1], [1]))  # i [i*], vL [i] vR\n",
    "    contr = np.tensordot(theta.conj(), X_Y_theta,\n",
    "                         axes=([0, 1, 2], [1, 0, 2])) # [vL*] [i*] [vR*], [i] [vL] [vR]\n",
    "    corrs.append(contr)\n",
    "\n",
    "    return corrs"
   ]
  },
  {
   "cell_type": "code",
   "execution_count": 42,
   "metadata": {},
   "outputs": [
    {
     "name": "stdout",
     "output_type": "stream",
     "text": [
      "Iterations: 3\n",
      "Final bond dimension: 18\n"
     ]
    },
    {
     "data": {
      "text/plain": [
       "[array(1.)]"
      ]
     },
     "execution_count": 42,
     "metadata": {},
     "output_type": "execute_result"
    }
   ],
   "source": [
    "psi, model = DMRGsimulation(14, 1., 1.5, chi_max=30, eps=1.e-10)\n",
    "sx = model.sigmax\n",
    "equaltime_Correlation(psi, sx, sx, model.L//2)"
   ]
  },
  {
   "cell_type": "code",
   "execution_count": null,
   "metadata": {},
   "outputs": [],
   "source": []
  }
 ],
 "metadata": {
  "kernelspec": {
   "display_name": "Python 3",
   "language": "python",
   "name": "python3"
  },
  "language_info": {
   "codemirror_mode": {
    "name": "ipython",
    "version": 3
   },
   "file_extension": ".py",
   "mimetype": "text/x-python",
   "name": "python",
   "nbconvert_exporter": "python",
   "pygments_lexer": "ipython3",
   "version": "3.7.3"
  },
  "toc": {
   "base_numbering": 1,
   "nav_menu": {},
   "number_sections": false,
   "sideBar": false,
   "skip_h1_title": false,
   "title_cell": "Contents",
   "title_sidebar": "Contents",
   "toc_cell": false,
   "toc_position": {},
   "toc_section_display": true,
   "toc_window_display": false
  },
  "varInspector": {
   "cols": {
    "lenName": 16,
    "lenType": 16,
    "lenVar": 40
   },
   "kernels_config": {
    "python": {
     "delete_cmd_postfix": "",
     "delete_cmd_prefix": "del ",
     "library": "var_list.py",
     "varRefreshCmd": "print(var_dic_list())"
    },
    "r": {
     "delete_cmd_postfix": ") ",
     "delete_cmd_prefix": "rm(",
     "library": "var_list.r",
     "varRefreshCmd": "cat(var_dic_list()) "
    }
   },
   "types_to_exclude": [
    "module",
    "function",
    "builtin_function_or_method",
    "instance",
    "_Feature"
   ],
   "window_display": false
  }
 },
 "nbformat": 4,
 "nbformat_minor": 2
}
