{
 "cells": [
  {
   "cell_type": "markdown",
   "metadata": {},
   "source": [
    "# Exercise 7.1"
   ]
  },
  {
   "cell_type": "code",
   "execution_count": 1,
   "metadata": {
    "collapsed": false
   },
   "outputs": [],
   "source": [
    "import scipy\n",
    "import scipy.linalg\n",
    "import scipy.sparse.linalg\n",
    "import numpy as np\n",
    "import matplotlib.pyplot as plt\n",
    "%matplotlib inline\n",
    "\n",
    "import lanczos"
   ]
  },
  {
   "cell_type": "code",
   "execution_count": 2,
   "metadata": {
    "collapsed": false
   },
   "outputs": [
    {
     "name": "stdout",
     "output_type": "stream",
     "text": [
      "-23.40758298202158\n",
      "-23.407582982021438\n"
     ]
    }
   ],
   "source": [
    "L = 14\n",
    "g = 1.5\n",
    "J = 1.\n",
    "sx_list = lanczos.gen_sx_list(L)\n",
    "sz_list = lanczos.gen_sz_list(L)\n",
    "H = lanczos.gen_hamiltonian(sx_list, sz_list, g, J)\n",
    "E, vecs = scipy.sparse.linalg.eigsh(H, which='SA')\n",
    "psi0 = vecs[:, 0]\n",
    "print(E[0])\n",
    "assert psi0.shape == (2**L, )\n",
    "print(np.inner(psi0.conj(), H*psi0))"
   ]
  },
  {
   "cell_type": "code",
   "execution_count": 3,
   "metadata": {
    "collapsed": false
   },
   "outputs": [
    {
     "name": "stdout",
     "output_type": "stream",
     "text": [
      "[9.64363389e-01 1.96659748e-01 1.73129130e-01 3.53057068e-02\n",
      " 9.22437297e-03 3.91464555e-03 1.88109885e-03 1.65602271e-03\n",
      " 7.98301984e-04 7.02784019e-04 3.37707768e-04 2.08343163e-04\n",
      " 1.43316648e-04 4.24867995e-05 3.74445474e-05 3.74031937e-05\n",
      " 2.48692057e-05 7.63595480e-06 7.62752166e-06 6.72230197e-06\n",
      " 5.07150291e-06 4.46469039e-06 1.99285359e-06 1.37085898e-06\n",
      " 9.10470987e-07 8.45728535e-07 4.82112240e-07 4.06396685e-07\n",
      " 3.57770746e-07 2.37880069e-07]\n"
     ]
    }
   ],
   "source": [
    "psi_ab = np.reshape(psi0, (2**(L//2), 2**(L//2)))\n",
    "U, S, V = scipy.linalg.svd(psi_ab, full_matrices=False)\n",
    "print(S[:30])"
   ]
  },
  {
   "cell_type": "code",
   "execution_count": 4,
   "metadata": {
    "collapsed": false
   },
   "outputs": [
    {
     "data": {
      "text/plain": [
       "<matplotlib.legend.Legend at 0x7ff85408a4e0>"
      ]
     },
     "execution_count": 4,
     "metadata": {},
     "output_type": "execute_result"
    },
    {
     "data": {
      "image/png": "[encoded data removed]",
      "text/plain": [
       "<matplotlib.figure.Figure at 0x7ff8540b97f0>"
      ]
     },
     "metadata": {},
     "output_type": "display_data"
    }
   ],
   "source": [
    "plt.figure(figsize=(10, 7))\n",
    "plt.plot(S[:20], 'ro', label='Ground state')\n",
    "plt.yscale('log')\n",
    "plt.ylabel('sing. vals.')\n",
    "plt.legend()"
   ]
  },
  {
   "cell_type": "code",
   "execution_count": 5,
   "metadata": {
    "collapsed": false
   },
   "outputs": [
    {
     "data": {
      "text/plain": [
       "<matplotlib.legend.Legend at 0x7ff84c76f940>"
      ]
     },
     "execution_count": 5,
     "metadata": {},
     "output_type": "execute_result"
    },
    {
     "data": {
      "image/png": "[encoded data removed]",
      "text/plain": [
       "<matplotlib.figure.Figure at 0x7ff84c74f518>"
      ]
     },
     "metadata": {},
     "output_type": "display_data"
    }
   ],
   "source": [
    "psi_rand = np.random.normal(size=psi0.shape) + 1.j * np.random.normal(size=psi0.shape)\n",
    "psi_rand /= np.linalg.norm(psi_rand)\n",
    "psi_rand_ab = np.reshape(psi_rand, (2**(L//2), 2**(L//2)))\n",
    "_, S_rand, _ = scipy.linalg.svd(psi_rand_ab, full_matrices=False)\n",
    "plt.figure(figsize=(10, 7))\n",
    "plt.plot(S[:20], 'ro', label='Ground state')\n",
    "plt.plot(S_rand[:20], 'bs', label='random state (Haar measure)')\n",
    "plt.yscale('log')\n",
    "plt.ylabel('sing. vals.')\n",
    "plt.legend()"
   ]
  },
  {
   "cell_type": "code",
   "execution_count": 6,
   "metadata": {
    "collapsed": false
   },
   "outputs": [
    {
     "name": "stdout",
     "output_type": "stream",
     "text": [
      "0.30781949623119925\n",
      "4.353075992576668\n"
     ]
    }
   ],
   "source": [
    "def entropy(S):\n",
    "    S = np.asarray(S)\n",
    "    S = S[S > 1.e-50] # useful if we have numerical rounding errors giving (small) negative S[alpha]\n",
    "    # true since  x log(x) -> 0 for x -> 0.\n",
    "    S2 = S*S\n",
    "    return - np.sum(S2 * np.log(S2))\n",
    "\n",
    "print(entropy(S))\n",
    "print(entropy(S_rand))"
   ]
  },
  {
   "cell_type": "code",
   "execution_count": 7,
   "metadata": {
    "collapsed": true
   },
   "outputs": [],
   "source": [
    "Ls = [6, 8, 10, 12, 14]\n",
    "entr_rand = []\n",
    "entr_gs = dict((g, []) for g in [0.1, 0.5, 1., 1.5, 4.])\n",
    "for L in Ls:\n",
    "    sx_list = lanczos.gen_sx_list(L)\n",
    "    sz_list = lanczos.gen_sz_list(L)\n",
    "    for g in entr_gs:\n",
    "        H = lanczos.gen_hamiltonian(sx_list, sz_list, g, J)\n",
    "        E, vecs = scipy.sparse.linalg.eigsh(H, which='SA')\n",
    "        psi0 = vecs[:, 0]\n",
    "        psi0_ab = np.reshape(psi0, (2**(L//2), 2**(L//2)))\n",
    "        _, S0, _ = scipy.linalg.svd(psi0_ab, full_matrices=False)\n",
    "        entr_gs[g].append(entropy(S0))\n",
    "    \n",
    "    psi_rand = np.random.normal(size=psi0.shape) + 1.j * np.random.normal(size=psi0.shape)\n",
    "    psi_rand /= np.linalg.norm(psi_rand)\n",
    "    psi_rand_ab = np.reshape(psi_rand, (2**(L//2), 2**(L//2)))\n",
    "    _, S_rand, _ = scipy.linalg.svd(psi_rand_ab, full_matrices=False)\n",
    "    entr_rand.append(entropy(S_rand))\n",
    "    "
   ]
  },
  {
   "cell_type": "code",
   "execution_count": 8,
   "metadata": {
    "collapsed": false
   },
   "outputs": [
    {
     "data": {
      "image/png": "[encoded data removed]",
      "text/plain": [
       "<matplotlib.figure.Figure at 0x7ff84c614fd0>"
      ]
     },
     "metadata": {},
     "output_type": "display_data"
    }
   ],
   "source": [
    "plt.figure(figsize=(10, 7))    \n",
    "plt.plot(Ls, entr_rand, marker='o', label='Random state')\n",
    "for g in sorted(entr_gs):\n",
    "    plt.plot(Ls, entr_gs[g], marker='s', label=\"Ground state, $g={g:.1f}$\".format(g=g))\n",
    "plt.xlabel('$L$')\n",
    "plt.ylabel('Entropy $S$')\n",
    "plt.legend()\n",
    "plt.show()\n",
    "    "
   ]
  },
  {
   "cell_type": "markdown",
   "metadata": {},
   "source": [
    "## Conclusion\n",
    "\n",
    "If we draw a random state of the Hilberspace, we get a highly entangled state with a volume law, $ S \\propto L$ in $1D$, where the Schmidt values are almost uniform.\n",
    "In contrast, ground states of gapped systems satisfy an area law, which means $S \\propto \\mathrm{const}$.\n",
    "Moreover, their Schmidt spectrum decays quickly (in many cases roughly exponentially fast).\n",
    "Hence, we can represent ground states efficiently with MPS of small bond dimension (which does not need to increase with increasing $L$).\n",
    "For criticall (=gapless) systems, the area law is not strictly true, but there are $\\log$ corrections. However, note that the entanglement ist still small compared to random states with a volume law! Thus we still have a good chance to represent the state quite well with MPS even for quite large $L$.\n",
    "\n",
    "Deep in the paramegnetic phase (large $g$), the state is aligned along the field with only few fluctuations, hence a very small $S$.\n",
    "In the symmetry broken phase, the entanglement is higher by $\\approx \\log(2)$, since for finite systems the exact ground state is a superposition of $|\\rightarrow\\rightarrow\\rightarrow\\rightarrow\\rightarrow \\dots\\rangle$ and\n",
    " $|\\leftarrow\\leftarrow\\leftarrow\\leftarrow\\leftarrow \\dots\\rangle$ (each with a few fluctuations for non-zero $g$)."
   ]
  },
  {
   "cell_type": "markdown",
   "metadata": {},
   "source": [
    "# Exercise 7.2"
   ]
  },
  {
   "cell_type": "code",
   "execution_count": 9,
   "metadata": {
    "collapsed": false
   },
   "outputs": [
    {
     "name": "stdout",
     "output_type": "stream",
     "text": [
      "E = -23.407582982021687\n",
      "norm =  1.0\n"
     ]
    }
   ],
   "source": [
    "L = 14\n",
    "g = 1.5\n",
    "J = 1.\n",
    "sx_list = lanczos.gen_sx_list(L)\n",
    "sz_list = lanczos.gen_sz_list(L)\n",
    "H = lanczos.gen_hamiltonian(sx_list, sz_list, g, J)\n",
    "E, vecs = scipy.sparse.linalg.eigsh(H, which='SA')\n",
    "psi0 = vecs[:, 0]\n",
    "print(\"E =\", E[0])\n",
    "print(\"norm = \", np.linalg.norm(psi0)) # close enough :D"
   ]
  },
  {
   "cell_type": "code",
   "execution_count": 10,
   "metadata": {
    "collapsed": true
   },
   "outputs": [],
   "source": [
    "def compress(psi, L, chimax):\n",
    "    psi_aR = np.reshape(psi, (1, 2**L))\n",
    "    Ms = []\n",
    "    for n in range(1, L+1):\n",
    "        chi_L, dim_R = psi_aR.shape\n",
    "        assert dim_R == 2**(L-(n-1))\n",
    "        psi_LR = np.reshape(psi_aR, (chi_L*2, dim_R//2))\n",
    "        M_n, lambda_n, psi_tilde = scipy.linalg.svd(psi_LR, full_matrices=False, lapack_driver='gesvd')\n",
    "        if len(lambda_n) > chimax:\n",
    "            keep = np.argsort(lambda_n)[::-1][:chimax]\n",
    "            M_n = M_n[:, keep]\n",
    "            lambda_n = lambda_n[keep]\n",
    "            psi_tilde = psi_tilde[keep, :]\n",
    "        chi_np1 = len(lambda_n)\n",
    "        M_n = np.reshape(M_n, (chi_L, 2, chi_np1))\n",
    "        Ms.append(M_n)\n",
    "        psi_aR = lambda_n[:, np.newaxis] * psi_tilde[:, :]\n",
    "    assert psi_aR.shape == (1, 1)\n",
    "    print(\"remaining in compress: \", psi_aR)\n",
    "    return Ms        \n",
    "        "
   ]
  },
  {
   "cell_type": "code",
   "execution_count": 11,
   "metadata": {
    "collapsed": false
   },
   "outputs": [
    {
     "name": "stdout",
     "output_type": "stream",
     "text": [
      "remaining in compress:  [[1.]]\n",
      "first M:\n",
      "[[[-1.00000000e+00  4.10178724e-16]\n",
      "  [ 4.10178724e-16  1.00000000e+00]]]\n",
      "second M:\n",
      "[[[-9.85276619e-01 -1.22189585e-16 -1.17376782e-16 -1.70967787e-01]\n",
      "  [-9.31611753e-17  7.07106781e-01  7.07106781e-01 -3.09214460e-16]]\n",
      "\n",
      " [[-2.61053995e-17 -7.07106781e-01  7.07106781e-01  4.33680869e-19]\n",
      "  [ 1.70967787e-01 -4.26741975e-16 -1.83145800e-16 -9.85276619e-01]]]\n"
     ]
    }
   ],
   "source": [
    "psi0_MPS_ex = compress(psi0, L, 2**(L//2))\n",
    "print(\"first M:\")\n",
    "print(psi0_MPS_ex[0])\n",
    "print(\"second M:\")\n",
    "print(psi0_MPS_ex[1])"
   ]
  },
  {
   "cell_type": "code",
   "execution_count": 12,
   "metadata": {
    "collapsed": false
   },
   "outputs": [
    {
     "name": "stdout",
     "output_type": "stream",
     "text": [
      "remaining in compress:  [[0.99999958]]\n"
     ]
    }
   ],
   "source": [
    "psi0_MPS_compr = compress(psi0, L, 10)"
   ]
  },
  {
   "cell_type": "code",
   "execution_count": 13,
   "metadata": {
    "collapsed": false
   },
   "outputs": [
    {
     "name": "stdout",
     "output_type": "stream",
     "text": [
      "total size of psi_MPS_ex = 43688\n",
      "total size of psi_MPS_compr = 1688\n"
     ]
    }
   ],
   "source": [
    "print(\"total size of psi_MPS_ex =\", sum([M.size for M in psi0_MPS_ex]))\n",
    "print(\"total size of psi_MPS_compr =\", sum([M.size for M in psi0_MPS_compr]))"
   ]
  },
  {
   "cell_type": "code",
   "execution_count": 14,
   "metadata": {
    "collapsed": true
   },
   "outputs": [],
   "source": [
    "def overlap(mps_bra, mps_ket):\n",
    "    L = len(mps_bra)\n",
    "    assert L == len(mps_ket)\n",
    "    contr = np.ones((1,1)) # has indices (alpha_n*, alpha_n)\n",
    "    for n in range(L):\n",
    "        M_ket = mps_ket[n]  # has indices (alpha_n, j_n, alpha_{n+1})\n",
    "        contr = np.tensordot(contr, M_ket , axes=(1, 0)) \n",
    "        # now contr has indices alpha_n*, j_n, alpha_{n+1}\n",
    "        M_bra = mps_bra[n].conj()  # has indices (alpha_n*, j_n, alpha_{n+1}*)\n",
    "        contr = np.tensordot(M_bra, contr, axes=([0, 1], [0, 1]))\n",
    "    assert contr.shape == (1, 1)\n",
    "    return contr.item()\n",
    "        "
   ]
  },
  {
   "cell_type": "code",
   "execution_count": 15,
   "metadata": {
    "collapsed": false
   },
   "outputs": [
    {
     "name": "stdout",
     "output_type": "stream",
     "text": [
      "1.0000000000000002\n"
     ]
    }
   ],
   "source": [
    "print(overlap(psi0_MPS_ex, psi0_MPS_ex))"
   ]
  },
  {
   "cell_type": "code",
   "execution_count": 16,
   "metadata": {
    "collapsed": false
   },
   "outputs": [
    {
     "name": "stdout",
     "output_type": "stream",
     "text": [
      "0.9999995772646856\n",
      "Still quite a good overlap, given that we have compressed the state quite much!\n"
     ]
    }
   ],
   "source": [
    "print(overlap(psi0_MPS_ex, psi0_MPS_compr))\n",
    "print(\"Still quite a good overlap, given that we have compressed the state quite much!\")"
   ]
  },
  {
   "cell_type": "code",
   "execution_count": 17,
   "metadata": {
    "collapsed": false
   },
   "outputs": [],
   "source": [
    "M_up = np.zeros((1, 2, 1))\n",
    "M_up[0, 0, 0] = 1.\n",
    "MPS_all_up = [M_up.copy() for i in range(L)]"
   ]
  },
  {
   "cell_type": "code",
   "execution_count": 18,
   "metadata": {
    "collapsed": false
   },
   "outputs": [
    {
     "name": "stdout",
     "output_type": "stream",
     "text": [
      "0.7976402823035696\n"
     ]
    }
   ],
   "source": [
    "print(overlap(psi0_MPS_ex, MPS_all_up))"
   ]
  },
  {
   "cell_type": "code",
   "execution_count": null,
   "metadata": {
    "collapsed": true
   },
   "outputs": [],
   "source": []
  }
 ],
 "metadata": {
  "kernelspec": {
   "display_name": "Python 3",
   "language": "python",
   "name": "python3"
  },
  "language_info": {
   "codemirror_mode": {
    "name": "ipython",
    "version": 3
   },
   "file_extension": ".py",
   "mimetype": "text/x-python",
   "name": "python",
   "nbconvert_exporter": "python",
   "pygments_lexer": "ipython3",
   "version": "3.5.2"
  }
 },
 "nbformat": 4,
 "nbformat_minor": 2
}
