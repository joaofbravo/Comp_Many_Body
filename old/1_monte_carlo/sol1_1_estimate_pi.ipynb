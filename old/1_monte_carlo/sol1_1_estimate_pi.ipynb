{
 "cells": [
  {
   "cell_type": "code",
   "execution_count": 1,
   "metadata": {
    "collapsed": true
   },
   "outputs": [],
   "source": [
    "import numpy as np\n",
    "import matplotlib.pyplot as plt\n",
    "%matplotlib inline"
   ]
  },
  {
   "cell_type": "code",
   "execution_count": 2,
   "metadata": {
    "collapsed": false
   },
   "outputs": [
    {
     "name": "stdout",
     "output_type": "stream",
     "text": [
      "3.116\n"
     ]
    }
   ],
   "source": [
    "N = 1000\n",
    "x_y = np.random.random([N, 2]) * 2. - 1.\n",
    "r = x_y[:, 0]**2 + x_y[:, 1]**2\n",
    "inside = np.sum(r < 1.)\n",
    "estimate = inside / N * 4.\n",
    "print(estimate)"
   ]
  },
  {
   "cell_type": "code",
   "execution_count": 3,
   "metadata": {
    "collapsed": true
   },
   "outputs": [],
   "source": [
    "def estimate_pi(N = 1000):\n",
    "    x_y = np.random.random([int(N), 2]) * 2. - 1.\n",
    "    r = x_y[:, 0]**2 + x_y[:, 1]**2\n",
    "    inside = np.sum(r < 1.)\n",
    "    estimate = inside / N * 4.\n",
    "    return estimate"
   ]
  },
  {
   "cell_type": "code",
   "execution_count": 4,
   "metadata": {
    "collapsed": false
   },
   "outputs": [
    {
     "name": "stdout",
     "output_type": "stream",
     "text": [
      "3.12\n",
      "3.24\n",
      "3.2\n",
      "3.44\n",
      "3.12\n"
     ]
    }
   ],
   "source": [
    "for i in range(5):\n",
    "    print(estimate_pi(100))\n"
   ]
  },
  {
   "cell_type": "code",
   "execution_count": 5,
   "metadata": {
    "collapsed": true
   },
   "outputs": [],
   "source": [
    "def estimate_var(N, Nbin=100):\n",
    "    pis = [estimate_pi(N) for i in range(Nbin)]\n",
    "    return np.var(pis)"
   ]
  },
  {
   "cell_type": "code",
   "execution_count": 6,
   "metadata": {
    "collapsed": false
   },
   "outputs": [
    {
     "name": "stdout",
     "output_type": "stream",
     "text": [
      "0.028611839999999996\n",
      "0.002788382400000003\n"
     ]
    }
   ],
   "source": [
    "print(estimate_var(100))\n",
    "print(estimate_var(1000))"
   ]
  },
  {
   "cell_type": "code",
   "execution_count": 7,
   "metadata": {
    "collapsed": false
   },
   "outputs": [],
   "source": [
    "#Ns = np.array([10, 100, 1.e3, 1.e4])\n",
    "Ns = np.logspace(1, 5, num=10)\n",
    "var_N = [estimate_var(N) for N in Ns]"
   ]
  },
  {
   "cell_type": "code",
   "execution_count": 8,
   "metadata": {
    "collapsed": false
   },
   "outputs": [
    {
     "data": {
      "text/plain": [
       "<matplotlib.legend.Legend at 0x7f3e4d8aaf98>"
      ]
     },
     "execution_count": 8,
     "metadata": {},
     "output_type": "execute_result"
    },
    {
     "data": {
      "image/png": "[encoded data removed]",
      "text/plain": [
       "<matplotlib.figure.Figure at 0x7f3e4f952ef0>"
      ]
     },
     "metadata": {},
     "output_type": "display_data"
    }
   ],
   "source": [
    "plt.figure()\n",
    "plt.plot(Ns, var_N, 'o', label='variance')\n",
    "plt.xscale('log')\n",
    "plt.yscale('log')\n",
    "plt.plot(Ns, 1./Ns, label='1/N')\n",
    "plt.xlabel('N')\n",
    "plt.ylabel('variance')\n",
    "plt.legend(loc='best')\n"
   ]
  },
  {
   "cell_type": "markdown",
   "metadata": {
    "collapsed": true
   },
   "source": [
    "The variance decreases proportional to $VAR=\\frac{1}{N}$, i.e. the error goes is $\\sqrt{VAR} \\propto \\frac{1}{\\sqrt{N}}$."
   ]
  },
  {
   "cell_type": "code",
   "execution_count": null,
   "metadata": {
    "collapsed": true
   },
   "outputs": [],
   "source": []
  },
  {
   "cell_type": "code",
   "execution_count": null,
   "metadata": {
    "collapsed": true
   },
   "outputs": [],
   "source": []
  }
 ],
 "metadata": {
  "kernelspec": {
   "display_name": "Python 3",
   "language": "python",
   "name": "python3"
  },
  "language_info": {
   "codemirror_mode": {
    "name": "ipython",
    "version": 3
   },
   "file_extension": ".py",
   "mimetype": "text/x-python",
   "name": "python",
   "nbconvert_exporter": "python",
   "pygments_lexer": "ipython3",
   "version": "3.5.2"
  }
 },
 "nbformat": 4,
 "nbformat_minor": 2
}
